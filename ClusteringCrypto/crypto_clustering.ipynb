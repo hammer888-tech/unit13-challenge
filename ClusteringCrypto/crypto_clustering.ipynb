{
 "cells": [
  {
   "cell_type": "markdown",
   "metadata": {},
   "source": [
    "# Clustering Crypto"
   ]
  },
  {
   "cell_type": "code",
   "execution_count": 69,
   "metadata": {},
   "outputs": [],
   "source": [
    "# Initial imports\n",
    "import requests\n",
    "import pandas as pd\n",
    "import matplotlib.pyplot as plt\n",
    "import hvplot.pandas\n",
    "import plotly.express as px\n",
    "from pathlib import Path\n",
    "from sklearn.preprocessing import StandardScaler, MinMaxScaler\n",
    "from sklearn.decomposition import PCA\n",
    "from sklearn.cluster import KMeans"
   ]
  },
  {
   "cell_type": "markdown",
   "metadata": {},
   "source": [
    "### Fetching Cryptocurrency Data"
   ]
  },
  {
   "cell_type": "code",
   "execution_count": 70,
   "metadata": {},
   "outputs": [],
   "source": [
    "# Use the following endpoint to fetch json data\n",
    "#url = \"https://min-api.cryptocompare.com/data/all/coinlist\""
   ]
  },
  {
   "cell_type": "code",
   "execution_count": 71,
   "metadata": {},
   "outputs": [],
   "source": [
    "# Create a DataFrame \n",
    "# HINT: You will need to use the 'Data' key from the json response, then transpose the DataFrame"
   ]
  },
  {
   "cell_type": "code",
   "execution_count": 72,
   "metadata": {},
   "outputs": [
    {
     "data": {
      "text/html": [
       "<div>\n",
       "<style scoped>\n",
       "    .dataframe tbody tr th:only-of-type {\n",
       "        vertical-align: middle;\n",
       "    }\n",
       "\n",
       "    .dataframe tbody tr th {\n",
       "        vertical-align: top;\n",
       "    }\n",
       "\n",
       "    .dataframe thead th {\n",
       "        text-align: right;\n",
       "    }\n",
       "</style>\n",
       "<table border=\"1\" class=\"dataframe\">\n",
       "  <thead>\n",
       "    <tr style=\"text-align: right;\">\n",
       "      <th></th>\n",
       "      <th>CoinName</th>\n",
       "      <th>Algorithm</th>\n",
       "      <th>IsTrading</th>\n",
       "      <th>ProofType</th>\n",
       "      <th>TotalCoinsMined</th>\n",
       "      <th>TotalCoinSupply</th>\n",
       "    </tr>\n",
       "  </thead>\n",
       "  <tbody>\n",
       "    <tr>\n",
       "      <th>GAP</th>\n",
       "      <td>Gapcoin</td>\n",
       "      <td>Scrypt</td>\n",
       "      <td>True</td>\n",
       "      <td>PoW/PoS</td>\n",
       "      <td>1.493105e+07</td>\n",
       "      <td>250000000</td>\n",
       "    </tr>\n",
       "    <tr>\n",
       "      <th>SERO</th>\n",
       "      <td>Super Zero</td>\n",
       "      <td>Ethash</td>\n",
       "      <td>True</td>\n",
       "      <td>PoW</td>\n",
       "      <td>NaN</td>\n",
       "      <td>1000000000</td>\n",
       "    </tr>\n",
       "    <tr>\n",
       "      <th>UOS</th>\n",
       "      <td>UOS</td>\n",
       "      <td>SHA-256</td>\n",
       "      <td>True</td>\n",
       "      <td>DPoI</td>\n",
       "      <td>NaN</td>\n",
       "      <td>1000000000</td>\n",
       "    </tr>\n",
       "    <tr>\n",
       "      <th>BDX</th>\n",
       "      <td>Beldex</td>\n",
       "      <td>CryptoNight</td>\n",
       "      <td>True</td>\n",
       "      <td>PoW</td>\n",
       "      <td>9.802226e+08</td>\n",
       "      <td>1400222610</td>\n",
       "    </tr>\n",
       "    <tr>\n",
       "      <th>ZEN</th>\n",
       "      <td>Horizen</td>\n",
       "      <td>Equihash</td>\n",
       "      <td>True</td>\n",
       "      <td>PoW</td>\n",
       "      <td>7.296538e+06</td>\n",
       "      <td>21000000</td>\n",
       "    </tr>\n",
       "    <tr>\n",
       "      <th>XBC</th>\n",
       "      <td>BitcoinPlus</td>\n",
       "      <td>Scrypt</td>\n",
       "      <td>True</td>\n",
       "      <td>PoS</td>\n",
       "      <td>1.283270e+05</td>\n",
       "      <td>1000000</td>\n",
       "    </tr>\n",
       "    <tr>\n",
       "      <th>DVTC</th>\n",
       "      <td>DivotyCoin</td>\n",
       "      <td>Scrypt</td>\n",
       "      <td>False</td>\n",
       "      <td>PoW/PoS</td>\n",
       "      <td>2.149121e+07</td>\n",
       "      <td>100000000</td>\n",
       "    </tr>\n",
       "    <tr>\n",
       "      <th>GIOT</th>\n",
       "      <td>Giotto Coin</td>\n",
       "      <td>Scrypt</td>\n",
       "      <td>False</td>\n",
       "      <td>PoW/PoS</td>\n",
       "      <td>NaN</td>\n",
       "      <td>233100000</td>\n",
       "    </tr>\n",
       "    <tr>\n",
       "      <th>OPSC</th>\n",
       "      <td>OpenSourceCoin</td>\n",
       "      <td>SHA-256</td>\n",
       "      <td>False</td>\n",
       "      <td>PoW/PoS</td>\n",
       "      <td>NaN</td>\n",
       "      <td>21000000</td>\n",
       "    </tr>\n",
       "    <tr>\n",
       "      <th>PUNK</th>\n",
       "      <td>SteamPunk</td>\n",
       "      <td>PoS</td>\n",
       "      <td>False</td>\n",
       "      <td>PoS</td>\n",
       "      <td>NaN</td>\n",
       "      <td>40000000</td>\n",
       "    </tr>\n",
       "  </tbody>\n",
       "</table>\n",
       "</div>"
      ],
      "text/plain": [
       "            CoinName    Algorithm  IsTrading ProofType  TotalCoinsMined  \\\n",
       "GAP          Gapcoin       Scrypt       True   PoW/PoS     1.493105e+07   \n",
       "SERO      Super Zero       Ethash       True       PoW              NaN   \n",
       "UOS              UOS      SHA-256       True      DPoI              NaN   \n",
       "BDX           Beldex  CryptoNight       True       PoW     9.802226e+08   \n",
       "ZEN          Horizen     Equihash       True       PoW     7.296538e+06   \n",
       "XBC      BitcoinPlus       Scrypt       True       PoS     1.283270e+05   \n",
       "DVTC      DivotyCoin       Scrypt      False   PoW/PoS     2.149121e+07   \n",
       "GIOT     Giotto Coin       Scrypt      False   PoW/PoS              NaN   \n",
       "OPSC  OpenSourceCoin      SHA-256      False   PoW/PoS              NaN   \n",
       "PUNK       SteamPunk          PoS      False       PoS              NaN   \n",
       "\n",
       "     TotalCoinSupply  \n",
       "GAP        250000000  \n",
       "SERO      1000000000  \n",
       "UOS       1000000000  \n",
       "BDX       1400222610  \n",
       "ZEN         21000000  \n",
       "XBC          1000000  \n",
       "DVTC       100000000  \n",
       "GIOT       233100000  \n",
       "OPSC        21000000  \n",
       "PUNK        40000000  "
      ]
     },
     "execution_count": 72,
     "metadata": {},
     "output_type": "execute_result"
    }
   ],
   "source": [
    "# Alternatively, use the provided csv file:\n",
    "file_path = Path(\"Resources/crypto_data.csv\")\n",
    "\n",
    "# Create a DataFrame\n",
    "crypto_df = pd.read_csv(file_path, index_col=0)\n",
    "crypto_df.tail(10)"
   ]
  },
  {
   "cell_type": "markdown",
   "metadata": {},
   "source": [
    "### Data Preprocessing"
   ]
  },
  {
   "cell_type": "code",
   "execution_count": 73,
   "metadata": {},
   "outputs": [
    {
     "data": {
      "text/html": [
       "<div>\n",
       "<style scoped>\n",
       "    .dataframe tbody tr th:only-of-type {\n",
       "        vertical-align: middle;\n",
       "    }\n",
       "\n",
       "    .dataframe tbody tr th {\n",
       "        vertical-align: top;\n",
       "    }\n",
       "\n",
       "    .dataframe thead th {\n",
       "        text-align: right;\n",
       "    }\n",
       "</style>\n",
       "<table border=\"1\" class=\"dataframe\">\n",
       "  <thead>\n",
       "    <tr style=\"text-align: right;\">\n",
       "      <th></th>\n",
       "      <th>CoinName</th>\n",
       "      <th>Algorithm</th>\n",
       "      <th>IsTrading</th>\n",
       "      <th>ProofType</th>\n",
       "      <th>TotalCoinsMined</th>\n",
       "      <th>TotalCoinSupply</th>\n",
       "    </tr>\n",
       "  </thead>\n",
       "  <tbody>\n",
       "    <tr>\n",
       "      <th>GAP</th>\n",
       "      <td>Gapcoin</td>\n",
       "      <td>Scrypt</td>\n",
       "      <td>True</td>\n",
       "      <td>PoW/PoS</td>\n",
       "      <td>1.493105e+07</td>\n",
       "      <td>250000000</td>\n",
       "    </tr>\n",
       "    <tr>\n",
       "      <th>SERO</th>\n",
       "      <td>Super Zero</td>\n",
       "      <td>Ethash</td>\n",
       "      <td>True</td>\n",
       "      <td>PoW</td>\n",
       "      <td>NaN</td>\n",
       "      <td>1000000000</td>\n",
       "    </tr>\n",
       "    <tr>\n",
       "      <th>UOS</th>\n",
       "      <td>UOS</td>\n",
       "      <td>SHA-256</td>\n",
       "      <td>True</td>\n",
       "      <td>DPoI</td>\n",
       "      <td>NaN</td>\n",
       "      <td>1000000000</td>\n",
       "    </tr>\n",
       "    <tr>\n",
       "      <th>BDX</th>\n",
       "      <td>Beldex</td>\n",
       "      <td>CryptoNight</td>\n",
       "      <td>True</td>\n",
       "      <td>PoW</td>\n",
       "      <td>9.802226e+08</td>\n",
       "      <td>1400222610</td>\n",
       "    </tr>\n",
       "    <tr>\n",
       "      <th>ZEN</th>\n",
       "      <td>Horizen</td>\n",
       "      <td>Equihash</td>\n",
       "      <td>True</td>\n",
       "      <td>PoW</td>\n",
       "      <td>7.296538e+06</td>\n",
       "      <td>21000000</td>\n",
       "    </tr>\n",
       "    <tr>\n",
       "      <th>XBC</th>\n",
       "      <td>BitcoinPlus</td>\n",
       "      <td>Scrypt</td>\n",
       "      <td>True</td>\n",
       "      <td>PoS</td>\n",
       "      <td>1.283270e+05</td>\n",
       "      <td>1000000</td>\n",
       "    </tr>\n",
       "    <tr>\n",
       "      <th>DVTC</th>\n",
       "      <td>DivotyCoin</td>\n",
       "      <td>Scrypt</td>\n",
       "      <td>False</td>\n",
       "      <td>PoW/PoS</td>\n",
       "      <td>2.149121e+07</td>\n",
       "      <td>100000000</td>\n",
       "    </tr>\n",
       "    <tr>\n",
       "      <th>GIOT</th>\n",
       "      <td>Giotto Coin</td>\n",
       "      <td>Scrypt</td>\n",
       "      <td>False</td>\n",
       "      <td>PoW/PoS</td>\n",
       "      <td>NaN</td>\n",
       "      <td>233100000</td>\n",
       "    </tr>\n",
       "    <tr>\n",
       "      <th>OPSC</th>\n",
       "      <td>OpenSourceCoin</td>\n",
       "      <td>SHA-256</td>\n",
       "      <td>False</td>\n",
       "      <td>PoW/PoS</td>\n",
       "      <td>NaN</td>\n",
       "      <td>21000000</td>\n",
       "    </tr>\n",
       "    <tr>\n",
       "      <th>PUNK</th>\n",
       "      <td>SteamPunk</td>\n",
       "      <td>PoS</td>\n",
       "      <td>False</td>\n",
       "      <td>PoS</td>\n",
       "      <td>NaN</td>\n",
       "      <td>40000000</td>\n",
       "    </tr>\n",
       "  </tbody>\n",
       "</table>\n",
       "</div>"
      ],
      "text/plain": [
       "            CoinName    Algorithm  IsTrading ProofType  TotalCoinsMined  \\\n",
       "GAP          Gapcoin       Scrypt       True   PoW/PoS     1.493105e+07   \n",
       "SERO      Super Zero       Ethash       True       PoW              NaN   \n",
       "UOS              UOS      SHA-256       True      DPoI              NaN   \n",
       "BDX           Beldex  CryptoNight       True       PoW     9.802226e+08   \n",
       "ZEN          Horizen     Equihash       True       PoW     7.296538e+06   \n",
       "XBC      BitcoinPlus       Scrypt       True       PoS     1.283270e+05   \n",
       "DVTC      DivotyCoin       Scrypt      False   PoW/PoS     2.149121e+07   \n",
       "GIOT     Giotto Coin       Scrypt      False   PoW/PoS              NaN   \n",
       "OPSC  OpenSourceCoin      SHA-256      False   PoW/PoS              NaN   \n",
       "PUNK       SteamPunk          PoS      False       PoS              NaN   \n",
       "\n",
       "     TotalCoinSupply  \n",
       "GAP        250000000  \n",
       "SERO      1000000000  \n",
       "UOS       1000000000  \n",
       "BDX       1400222610  \n",
       "ZEN         21000000  \n",
       "XBC          1000000  \n",
       "DVTC       100000000  \n",
       "GIOT       233100000  \n",
       "OPSC        21000000  \n",
       "PUNK        40000000  "
      ]
     },
     "execution_count": 73,
     "metadata": {},
     "output_type": "execute_result"
    }
   ],
   "source": [
    "# Keep only necessary columns:\n",
    "# 'CoinName','Algorithm','IsTrading','ProofType','TotalCoinsMined','TotalCoinSupply'\n",
    "trading = crypto_df[['CoinName','Algorithm','IsTrading','ProofType','TotalCoinsMined','TotalCoinSupply']]\n",
    "trading.tail(10)"
   ]
  },
  {
   "cell_type": "code",
   "execution_count": 74,
   "metadata": {},
   "outputs": [
    {
     "data": {
      "text/html": [
       "<div>\n",
       "<style scoped>\n",
       "    .dataframe tbody tr th:only-of-type {\n",
       "        vertical-align: middle;\n",
       "    }\n",
       "\n",
       "    .dataframe tbody tr th {\n",
       "        vertical-align: top;\n",
       "    }\n",
       "\n",
       "    .dataframe thead th {\n",
       "        text-align: right;\n",
       "    }\n",
       "</style>\n",
       "<table border=\"1\" class=\"dataframe\">\n",
       "  <thead>\n",
       "    <tr style=\"text-align: right;\">\n",
       "      <th></th>\n",
       "      <th>CoinName</th>\n",
       "      <th>Algorithm</th>\n",
       "      <th>IsTrading</th>\n",
       "      <th>ProofType</th>\n",
       "      <th>TotalCoinsMined</th>\n",
       "      <th>TotalCoinSupply</th>\n",
       "    </tr>\n",
       "  </thead>\n",
       "  <tbody>\n",
       "    <tr>\n",
       "      <th>42</th>\n",
       "      <td>42 Coin</td>\n",
       "      <td>Scrypt</td>\n",
       "      <td>True</td>\n",
       "      <td>PoW/PoS</td>\n",
       "      <td>4.199995e+01</td>\n",
       "      <td>42</td>\n",
       "    </tr>\n",
       "    <tr>\n",
       "      <th>365</th>\n",
       "      <td>365Coin</td>\n",
       "      <td>X11</td>\n",
       "      <td>True</td>\n",
       "      <td>PoW/PoS</td>\n",
       "      <td>NaN</td>\n",
       "      <td>2300000000</td>\n",
       "    </tr>\n",
       "    <tr>\n",
       "      <th>404</th>\n",
       "      <td>404Coin</td>\n",
       "      <td>Scrypt</td>\n",
       "      <td>True</td>\n",
       "      <td>PoW/PoS</td>\n",
       "      <td>1.055185e+09</td>\n",
       "      <td>532000000</td>\n",
       "    </tr>\n",
       "    <tr>\n",
       "      <th>611</th>\n",
       "      <td>SixEleven</td>\n",
       "      <td>SHA-256</td>\n",
       "      <td>True</td>\n",
       "      <td>PoW</td>\n",
       "      <td>NaN</td>\n",
       "      <td>611000</td>\n",
       "    </tr>\n",
       "    <tr>\n",
       "      <th>808</th>\n",
       "      <td>808</td>\n",
       "      <td>SHA-256</td>\n",
       "      <td>True</td>\n",
       "      <td>PoW/PoS</td>\n",
       "      <td>0.000000e+00</td>\n",
       "      <td>0</td>\n",
       "    </tr>\n",
       "    <tr>\n",
       "      <th>1337</th>\n",
       "      <td>EliteCoin</td>\n",
       "      <td>X13</td>\n",
       "      <td>True</td>\n",
       "      <td>PoW/PoS</td>\n",
       "      <td>2.927942e+10</td>\n",
       "      <td>314159265359</td>\n",
       "    </tr>\n",
       "    <tr>\n",
       "      <th>2015</th>\n",
       "      <td>2015 coin</td>\n",
       "      <td>X11</td>\n",
       "      <td>True</td>\n",
       "      <td>PoW/PoS</td>\n",
       "      <td>NaN</td>\n",
       "      <td>0</td>\n",
       "    </tr>\n",
       "    <tr>\n",
       "      <th>BTC</th>\n",
       "      <td>Bitcoin</td>\n",
       "      <td>SHA-256</td>\n",
       "      <td>True</td>\n",
       "      <td>PoW</td>\n",
       "      <td>1.792718e+07</td>\n",
       "      <td>21000000</td>\n",
       "    </tr>\n",
       "    <tr>\n",
       "      <th>ETH</th>\n",
       "      <td>Ethereum</td>\n",
       "      <td>Ethash</td>\n",
       "      <td>True</td>\n",
       "      <td>PoW</td>\n",
       "      <td>1.076842e+08</td>\n",
       "      <td>0</td>\n",
       "    </tr>\n",
       "    <tr>\n",
       "      <th>LTC</th>\n",
       "      <td>Litecoin</td>\n",
       "      <td>Scrypt</td>\n",
       "      <td>True</td>\n",
       "      <td>PoW</td>\n",
       "      <td>6.303924e+07</td>\n",
       "      <td>84000000</td>\n",
       "    </tr>\n",
       "  </tbody>\n",
       "</table>\n",
       "</div>"
      ],
      "text/plain": [
       "       CoinName Algorithm  IsTrading ProofType  TotalCoinsMined  \\\n",
       "42      42 Coin    Scrypt       True   PoW/PoS     4.199995e+01   \n",
       "365     365Coin       X11       True   PoW/PoS              NaN   \n",
       "404     404Coin    Scrypt       True   PoW/PoS     1.055185e+09   \n",
       "611   SixEleven   SHA-256       True       PoW              NaN   \n",
       "808         808   SHA-256       True   PoW/PoS     0.000000e+00   \n",
       "1337  EliteCoin       X13       True   PoW/PoS     2.927942e+10   \n",
       "2015  2015 coin       X11       True   PoW/PoS              NaN   \n",
       "BTC     Bitcoin   SHA-256       True       PoW     1.792718e+07   \n",
       "ETH    Ethereum    Ethash       True       PoW     1.076842e+08   \n",
       "LTC    Litecoin    Scrypt       True       PoW     6.303924e+07   \n",
       "\n",
       "     TotalCoinSupply  \n",
       "42                42  \n",
       "365       2300000000  \n",
       "404        532000000  \n",
       "611           611000  \n",
       "808                0  \n",
       "1337    314159265359  \n",
       "2015               0  \n",
       "BTC         21000000  \n",
       "ETH                0  \n",
       "LTC         84000000  "
      ]
     },
     "execution_count": 74,
     "metadata": {},
     "output_type": "execute_result"
    }
   ],
   "source": [
    "# Keep only cryptocurrencies that are trading\n",
    "trading=crypto_df[crypto_df.IsTrading != False]\n",
    "trading.head(10)"
   ]
  },
  {
   "cell_type": "code",
   "execution_count": 75,
   "metadata": {},
   "outputs": [
    {
     "name": "stdout",
     "output_type": "stream",
     "text": [
      "Column CoinName has 0 null values\n",
      "Column Algorithm has 0 null values\n",
      "Column IsTrading has 0 null values\n",
      "Column ProofType has 0 null values\n",
      "Column TotalCoinsMined has 459 null values\n",
      "Column TotalCoinSupply has 0 null values\n"
     ]
    }
   ],
   "source": [
    "# Keep only cryptocurrencies with a working algorithm\n",
    "for column in trading.columns:\n",
    "    print(f\"Column {column} has {trading[column].isnull().sum()} null values\")"
   ]
  },
  {
   "cell_type": "code",
   "execution_count": 76,
   "metadata": {},
   "outputs": [
    {
     "name": "stderr",
     "output_type": "stream",
     "text": [
      "/Users/gregbuiter/opt/anaconda3/envs/pyvizenv/lib/python3.7/site-packages/pandas/core/frame.py:3940: SettingWithCopyWarning:\n",
      "\n",
      "\n",
      "A value is trying to be set on a copy of a slice from a DataFrame\n",
      "\n",
      "See the caveats in the documentation: http://pandas.pydata.org/pandas-docs/stable/indexing.html#indexing-view-versus-copy\n",
      "\n"
     ]
    },
    {
     "data": {
      "text/html": [
       "<div>\n",
       "<style scoped>\n",
       "    .dataframe tbody tr th:only-of-type {\n",
       "        vertical-align: middle;\n",
       "    }\n",
       "\n",
       "    .dataframe tbody tr th {\n",
       "        vertical-align: top;\n",
       "    }\n",
       "\n",
       "    .dataframe thead th {\n",
       "        text-align: right;\n",
       "    }\n",
       "</style>\n",
       "<table border=\"1\" class=\"dataframe\">\n",
       "  <thead>\n",
       "    <tr style=\"text-align: right;\">\n",
       "      <th></th>\n",
       "      <th>CoinName</th>\n",
       "      <th>Algorithm</th>\n",
       "      <th>ProofType</th>\n",
       "      <th>TotalCoinsMined</th>\n",
       "      <th>TotalCoinSupply</th>\n",
       "    </tr>\n",
       "  </thead>\n",
       "  <tbody>\n",
       "    <tr>\n",
       "      <th>42</th>\n",
       "      <td>42 Coin</td>\n",
       "      <td>Scrypt</td>\n",
       "      <td>PoW/PoS</td>\n",
       "      <td>4.199995e+01</td>\n",
       "      <td>42</td>\n",
       "    </tr>\n",
       "    <tr>\n",
       "      <th>365</th>\n",
       "      <td>365Coin</td>\n",
       "      <td>X11</td>\n",
       "      <td>PoW/PoS</td>\n",
       "      <td>NaN</td>\n",
       "      <td>2300000000</td>\n",
       "    </tr>\n",
       "    <tr>\n",
       "      <th>404</th>\n",
       "      <td>404Coin</td>\n",
       "      <td>Scrypt</td>\n",
       "      <td>PoW/PoS</td>\n",
       "      <td>1.055185e+09</td>\n",
       "      <td>532000000</td>\n",
       "    </tr>\n",
       "    <tr>\n",
       "      <th>611</th>\n",
       "      <td>SixEleven</td>\n",
       "      <td>SHA-256</td>\n",
       "      <td>PoW</td>\n",
       "      <td>NaN</td>\n",
       "      <td>611000</td>\n",
       "    </tr>\n",
       "    <tr>\n",
       "      <th>808</th>\n",
       "      <td>808</td>\n",
       "      <td>SHA-256</td>\n",
       "      <td>PoW/PoS</td>\n",
       "      <td>0.000000e+00</td>\n",
       "      <td>0</td>\n",
       "    </tr>\n",
       "    <tr>\n",
       "      <th>1337</th>\n",
       "      <td>EliteCoin</td>\n",
       "      <td>X13</td>\n",
       "      <td>PoW/PoS</td>\n",
       "      <td>2.927942e+10</td>\n",
       "      <td>314159265359</td>\n",
       "    </tr>\n",
       "    <tr>\n",
       "      <th>2015</th>\n",
       "      <td>2015 coin</td>\n",
       "      <td>X11</td>\n",
       "      <td>PoW/PoS</td>\n",
       "      <td>NaN</td>\n",
       "      <td>0</td>\n",
       "    </tr>\n",
       "    <tr>\n",
       "      <th>BTC</th>\n",
       "      <td>Bitcoin</td>\n",
       "      <td>SHA-256</td>\n",
       "      <td>PoW</td>\n",
       "      <td>1.792718e+07</td>\n",
       "      <td>21000000</td>\n",
       "    </tr>\n",
       "    <tr>\n",
       "      <th>ETH</th>\n",
       "      <td>Ethereum</td>\n",
       "      <td>Ethash</td>\n",
       "      <td>PoW</td>\n",
       "      <td>1.076842e+08</td>\n",
       "      <td>0</td>\n",
       "    </tr>\n",
       "    <tr>\n",
       "      <th>LTC</th>\n",
       "      <td>Litecoin</td>\n",
       "      <td>Scrypt</td>\n",
       "      <td>PoW</td>\n",
       "      <td>6.303924e+07</td>\n",
       "      <td>84000000</td>\n",
       "    </tr>\n",
       "  </tbody>\n",
       "</table>\n",
       "</div>"
      ],
      "text/plain": [
       "       CoinName Algorithm ProofType  TotalCoinsMined TotalCoinSupply\n",
       "42      42 Coin    Scrypt   PoW/PoS     4.199995e+01              42\n",
       "365     365Coin       X11   PoW/PoS              NaN      2300000000\n",
       "404     404Coin    Scrypt   PoW/PoS     1.055185e+09       532000000\n",
       "611   SixEleven   SHA-256       PoW              NaN          611000\n",
       "808         808   SHA-256   PoW/PoS     0.000000e+00               0\n",
       "1337  EliteCoin       X13   PoW/PoS     2.927942e+10    314159265359\n",
       "2015  2015 coin       X11   PoW/PoS              NaN               0\n",
       "BTC     Bitcoin   SHA-256       PoW     1.792718e+07        21000000\n",
       "ETH    Ethereum    Ethash       PoW     1.076842e+08               0\n",
       "LTC    Litecoin    Scrypt       PoW     6.303924e+07        84000000"
      ]
     },
     "execution_count": 76,
     "metadata": {},
     "output_type": "execute_result"
    }
   ],
   "source": [
    "# Remove the 'IsTrading' column\n",
    "trading.drop(columns=[\"IsTrading\"], inplace=True)\n",
    "trading.head(10)"
   ]
  },
  {
   "cell_type": "code",
   "execution_count": 77,
   "metadata": {},
   "outputs": [
    {
     "name": "stdout",
     "output_type": "stream",
     "text": [
      "Column CoinName has 0 null values\n",
      "Column Algorithm has 0 null values\n",
      "Column ProofType has 0 null values\n",
      "Column TotalCoinsMined has 0 null values\n",
      "Column TotalCoinSupply has 0 null values\n"
     ]
    }
   ],
   "source": [
    "# Remove rows with at least 1 null value\n",
    "df = trading.dropna(axis=0) \n",
    "for column in df.columns:\n",
    "    print(f\"Column {column} has {df[column].isnull().sum()} null values\")"
   ]
  },
  {
   "cell_type": "code",
   "execution_count": 78,
   "metadata": {},
   "outputs": [
    {
     "data": {
      "text/html": [
       "<div>\n",
       "<style scoped>\n",
       "    .dataframe tbody tr th:only-of-type {\n",
       "        vertical-align: middle;\n",
       "    }\n",
       "\n",
       "    .dataframe tbody tr th {\n",
       "        vertical-align: top;\n",
       "    }\n",
       "\n",
       "    .dataframe thead th {\n",
       "        text-align: right;\n",
       "    }\n",
       "</style>\n",
       "<table border=\"1\" class=\"dataframe\">\n",
       "  <thead>\n",
       "    <tr style=\"text-align: right;\">\n",
       "      <th></th>\n",
       "      <th>CoinName</th>\n",
       "      <th>Algorithm</th>\n",
       "      <th>ProofType</th>\n",
       "      <th>TotalCoinsMined</th>\n",
       "      <th>TotalCoinSupply</th>\n",
       "    </tr>\n",
       "  </thead>\n",
       "  <tbody>\n",
       "    <tr>\n",
       "      <th>42</th>\n",
       "      <td>42 Coin</td>\n",
       "      <td>Scrypt</td>\n",
       "      <td>PoW/PoS</td>\n",
       "      <td>4.199995e+01</td>\n",
       "      <td>42</td>\n",
       "    </tr>\n",
       "    <tr>\n",
       "      <th>404</th>\n",
       "      <td>404Coin</td>\n",
       "      <td>Scrypt</td>\n",
       "      <td>PoW/PoS</td>\n",
       "      <td>1.055185e+09</td>\n",
       "      <td>532000000</td>\n",
       "    </tr>\n",
       "    <tr>\n",
       "      <th>808</th>\n",
       "      <td>808</td>\n",
       "      <td>SHA-256</td>\n",
       "      <td>PoW/PoS</td>\n",
       "      <td>0.000000e+00</td>\n",
       "      <td>0</td>\n",
       "    </tr>\n",
       "    <tr>\n",
       "      <th>1337</th>\n",
       "      <td>EliteCoin</td>\n",
       "      <td>X13</td>\n",
       "      <td>PoW/PoS</td>\n",
       "      <td>2.927942e+10</td>\n",
       "      <td>314159265359</td>\n",
       "    </tr>\n",
       "    <tr>\n",
       "      <th>BTC</th>\n",
       "      <td>Bitcoin</td>\n",
       "      <td>SHA-256</td>\n",
       "      <td>PoW</td>\n",
       "      <td>1.792718e+07</td>\n",
       "      <td>21000000</td>\n",
       "    </tr>\n",
       "    <tr>\n",
       "      <th>ETH</th>\n",
       "      <td>Ethereum</td>\n",
       "      <td>Ethash</td>\n",
       "      <td>PoW</td>\n",
       "      <td>1.076842e+08</td>\n",
       "      <td>0</td>\n",
       "    </tr>\n",
       "    <tr>\n",
       "      <th>LTC</th>\n",
       "      <td>Litecoin</td>\n",
       "      <td>Scrypt</td>\n",
       "      <td>PoW</td>\n",
       "      <td>6.303924e+07</td>\n",
       "      <td>84000000</td>\n",
       "    </tr>\n",
       "    <tr>\n",
       "      <th>DASH</th>\n",
       "      <td>Dash</td>\n",
       "      <td>X11</td>\n",
       "      <td>PoW/PoS</td>\n",
       "      <td>9.031294e+06</td>\n",
       "      <td>22000000</td>\n",
       "    </tr>\n",
       "    <tr>\n",
       "      <th>XMR</th>\n",
       "      <td>Monero</td>\n",
       "      <td>CryptoNight-V7</td>\n",
       "      <td>PoW</td>\n",
       "      <td>1.720114e+07</td>\n",
       "      <td>0</td>\n",
       "    </tr>\n",
       "    <tr>\n",
       "      <th>ETC</th>\n",
       "      <td>Ethereum Classic</td>\n",
       "      <td>Ethash</td>\n",
       "      <td>PoW</td>\n",
       "      <td>1.133597e+08</td>\n",
       "      <td>210000000</td>\n",
       "    </tr>\n",
       "  </tbody>\n",
       "</table>\n",
       "</div>"
      ],
      "text/plain": [
       "              CoinName       Algorithm ProofType  TotalCoinsMined  \\\n",
       "42             42 Coin          Scrypt   PoW/PoS     4.199995e+01   \n",
       "404            404Coin          Scrypt   PoW/PoS     1.055185e+09   \n",
       "808                808         SHA-256   PoW/PoS     0.000000e+00   \n",
       "1337         EliteCoin             X13   PoW/PoS     2.927942e+10   \n",
       "BTC            Bitcoin         SHA-256       PoW     1.792718e+07   \n",
       "ETH           Ethereum          Ethash       PoW     1.076842e+08   \n",
       "LTC           Litecoin          Scrypt       PoW     6.303924e+07   \n",
       "DASH              Dash             X11   PoW/PoS     9.031294e+06   \n",
       "XMR             Monero  CryptoNight-V7       PoW     1.720114e+07   \n",
       "ETC   Ethereum Classic          Ethash       PoW     1.133597e+08   \n",
       "\n",
       "     TotalCoinSupply  \n",
       "42                42  \n",
       "404        532000000  \n",
       "808                0  \n",
       "1337    314159265359  \n",
       "BTC         21000000  \n",
       "ETH                0  \n",
       "LTC         84000000  \n",
       "DASH        22000000  \n",
       "XMR                0  \n",
       "ETC        210000000  "
      ]
     },
     "execution_count": 78,
     "metadata": {},
     "output_type": "execute_result"
    }
   ],
   "source": [
    "# Remove rows with cryptocurrencies having no coins mined\n",
    "df.head(10)"
   ]
  },
  {
   "cell_type": "code",
   "execution_count": 79,
   "metadata": {},
   "outputs": [
    {
     "data": {
      "text/html": [
       "<div>\n",
       "<style scoped>\n",
       "    .dataframe tbody tr th:only-of-type {\n",
       "        vertical-align: middle;\n",
       "    }\n",
       "\n",
       "    .dataframe tbody tr th {\n",
       "        vertical-align: top;\n",
       "    }\n",
       "\n",
       "    .dataframe thead th {\n",
       "        text-align: right;\n",
       "    }\n",
       "</style>\n",
       "<table border=\"1\" class=\"dataframe\">\n",
       "  <thead>\n",
       "    <tr style=\"text-align: right;\">\n",
       "      <th></th>\n",
       "      <th>CoinName</th>\n",
       "      <th>Algorithm</th>\n",
       "      <th>ProofType</th>\n",
       "      <th>TotalCoinsMined</th>\n",
       "      <th>TotalCoinSupply</th>\n",
       "    </tr>\n",
       "  </thead>\n",
       "  <tbody>\n",
       "    <tr>\n",
       "      <th>42</th>\n",
       "      <td>42 Coin</td>\n",
       "      <td>Scrypt</td>\n",
       "      <td>PoW/PoS</td>\n",
       "      <td>4.199995e+01</td>\n",
       "      <td>42</td>\n",
       "    </tr>\n",
       "    <tr>\n",
       "      <th>404</th>\n",
       "      <td>404Coin</td>\n",
       "      <td>Scrypt</td>\n",
       "      <td>PoW/PoS</td>\n",
       "      <td>1.055185e+09</td>\n",
       "      <td>532000000</td>\n",
       "    </tr>\n",
       "    <tr>\n",
       "      <th>1337</th>\n",
       "      <td>EliteCoin</td>\n",
       "      <td>X13</td>\n",
       "      <td>PoW/PoS</td>\n",
       "      <td>2.927942e+10</td>\n",
       "      <td>314159265359</td>\n",
       "    </tr>\n",
       "    <tr>\n",
       "      <th>BTC</th>\n",
       "      <td>Bitcoin</td>\n",
       "      <td>SHA-256</td>\n",
       "      <td>PoW</td>\n",
       "      <td>1.792718e+07</td>\n",
       "      <td>21000000</td>\n",
       "    </tr>\n",
       "    <tr>\n",
       "      <th>ETH</th>\n",
       "      <td>Ethereum</td>\n",
       "      <td>Ethash</td>\n",
       "      <td>PoW</td>\n",
       "      <td>1.076842e+08</td>\n",
       "      <td>0</td>\n",
       "    </tr>\n",
       "    <tr>\n",
       "      <th>LTC</th>\n",
       "      <td>Litecoin</td>\n",
       "      <td>Scrypt</td>\n",
       "      <td>PoW</td>\n",
       "      <td>6.303924e+07</td>\n",
       "      <td>84000000</td>\n",
       "    </tr>\n",
       "    <tr>\n",
       "      <th>DASH</th>\n",
       "      <td>Dash</td>\n",
       "      <td>X11</td>\n",
       "      <td>PoW/PoS</td>\n",
       "      <td>9.031294e+06</td>\n",
       "      <td>22000000</td>\n",
       "    </tr>\n",
       "    <tr>\n",
       "      <th>XMR</th>\n",
       "      <td>Monero</td>\n",
       "      <td>CryptoNight-V7</td>\n",
       "      <td>PoW</td>\n",
       "      <td>1.720114e+07</td>\n",
       "      <td>0</td>\n",
       "    </tr>\n",
       "    <tr>\n",
       "      <th>ETC</th>\n",
       "      <td>Ethereum Classic</td>\n",
       "      <td>Ethash</td>\n",
       "      <td>PoW</td>\n",
       "      <td>1.133597e+08</td>\n",
       "      <td>210000000</td>\n",
       "    </tr>\n",
       "    <tr>\n",
       "      <th>ZEC</th>\n",
       "      <td>ZCash</td>\n",
       "      <td>Equihash</td>\n",
       "      <td>PoW</td>\n",
       "      <td>7.383056e+06</td>\n",
       "      <td>21000000</td>\n",
       "    </tr>\n",
       "  </tbody>\n",
       "</table>\n",
       "</div>"
      ],
      "text/plain": [
       "              CoinName       Algorithm ProofType  TotalCoinsMined  \\\n",
       "42             42 Coin          Scrypt   PoW/PoS     4.199995e+01   \n",
       "404            404Coin          Scrypt   PoW/PoS     1.055185e+09   \n",
       "1337         EliteCoin             X13   PoW/PoS     2.927942e+10   \n",
       "BTC            Bitcoin         SHA-256       PoW     1.792718e+07   \n",
       "ETH           Ethereum          Ethash       PoW     1.076842e+08   \n",
       "LTC           Litecoin          Scrypt       PoW     6.303924e+07   \n",
       "DASH              Dash             X11   PoW/PoS     9.031294e+06   \n",
       "XMR             Monero  CryptoNight-V7       PoW     1.720114e+07   \n",
       "ETC   Ethereum Classic          Ethash       PoW     1.133597e+08   \n",
       "ZEC              ZCash        Equihash       PoW     7.383056e+06   \n",
       "\n",
       "     TotalCoinSupply  \n",
       "42                42  \n",
       "404        532000000  \n",
       "1337    314159265359  \n",
       "BTC         21000000  \n",
       "ETH                0  \n",
       "LTC         84000000  \n",
       "DASH        22000000  \n",
       "XMR                0  \n",
       "ETC        210000000  \n",
       "ZEC         21000000  "
      ]
     },
     "execution_count": 79,
     "metadata": {},
     "output_type": "execute_result"
    }
   ],
   "source": [
    "df2 = df[df.TotalCoinsMined !=0]\n",
    "df2.head(10)"
   ]
  },
  {
   "cell_type": "code",
   "execution_count": 80,
   "metadata": {},
   "outputs": [],
   "source": [
    "# Drop rows where there are 'N/A' text values\n",
    "df2 = df2.dropna() "
   ]
  },
  {
   "cell_type": "code",
   "execution_count": 81,
   "metadata": {},
   "outputs": [
    {
     "data": {
      "text/html": [
       "<div>\n",
       "<style scoped>\n",
       "    .dataframe tbody tr th:only-of-type {\n",
       "        vertical-align: middle;\n",
       "    }\n",
       "\n",
       "    .dataframe tbody tr th {\n",
       "        vertical-align: top;\n",
       "    }\n",
       "\n",
       "    .dataframe thead th {\n",
       "        text-align: right;\n",
       "    }\n",
       "</style>\n",
       "<table border=\"1\" class=\"dataframe\">\n",
       "  <thead>\n",
       "    <tr style=\"text-align: right;\">\n",
       "      <th></th>\n",
       "      <th>CoinName</th>\n",
       "    </tr>\n",
       "  </thead>\n",
       "  <tbody>\n",
       "    <tr>\n",
       "      <th>42</th>\n",
       "      <td>42 Coin</td>\n",
       "    </tr>\n",
       "    <tr>\n",
       "      <th>365</th>\n",
       "      <td>NaN</td>\n",
       "    </tr>\n",
       "    <tr>\n",
       "      <th>404</th>\n",
       "      <td>404Coin</td>\n",
       "    </tr>\n",
       "    <tr>\n",
       "      <th>611</th>\n",
       "      <td>NaN</td>\n",
       "    </tr>\n",
       "    <tr>\n",
       "      <th>1337</th>\n",
       "      <td>EliteCoin</td>\n",
       "    </tr>\n",
       "  </tbody>\n",
       "</table>\n",
       "</div>"
      ],
      "text/plain": [
       "       CoinName\n",
       "42      42 Coin\n",
       "365         NaN\n",
       "404     404Coin\n",
       "611         NaN\n",
       "1337  EliteCoin"
      ]
     },
     "execution_count": 81,
     "metadata": {},
     "output_type": "execute_result"
    }
   ],
   "source": [
    "# Store the 'CoinName'column in its own DataFrame prior to dropping it from crypto_df \n",
    "coin_name = pd.DataFrame(df2[\"CoinName\"],index=crypto_df2.index)\n",
    "coin_name.head()"
   ]
  },
  {
   "cell_type": "code",
   "execution_count": 82,
   "metadata": {},
   "outputs": [
    {
     "data": {
      "text/html": [
       "<div>\n",
       "<style scoped>\n",
       "    .dataframe tbody tr th:only-of-type {\n",
       "        vertical-align: middle;\n",
       "    }\n",
       "\n",
       "    .dataframe tbody tr th {\n",
       "        vertical-align: top;\n",
       "    }\n",
       "\n",
       "    .dataframe thead th {\n",
       "        text-align: right;\n",
       "    }\n",
       "</style>\n",
       "<table border=\"1\" class=\"dataframe\">\n",
       "  <thead>\n",
       "    <tr style=\"text-align: right;\">\n",
       "      <th></th>\n",
       "      <th>Algorithm</th>\n",
       "      <th>ProofType</th>\n",
       "      <th>TotalCoinsMined</th>\n",
       "      <th>TotalCoinSupply</th>\n",
       "    </tr>\n",
       "  </thead>\n",
       "  <tbody>\n",
       "    <tr>\n",
       "      <th>42</th>\n",
       "      <td>Scrypt</td>\n",
       "      <td>PoW/PoS</td>\n",
       "      <td>4.199995e+01</td>\n",
       "      <td>42</td>\n",
       "    </tr>\n",
       "    <tr>\n",
       "      <th>404</th>\n",
       "      <td>Scrypt</td>\n",
       "      <td>PoW/PoS</td>\n",
       "      <td>1.055185e+09</td>\n",
       "      <td>532000000</td>\n",
       "    </tr>\n",
       "    <tr>\n",
       "      <th>1337</th>\n",
       "      <td>X13</td>\n",
       "      <td>PoW/PoS</td>\n",
       "      <td>2.927942e+10</td>\n",
       "      <td>314159265359</td>\n",
       "    </tr>\n",
       "    <tr>\n",
       "      <th>BTC</th>\n",
       "      <td>SHA-256</td>\n",
       "      <td>PoW</td>\n",
       "      <td>1.792718e+07</td>\n",
       "      <td>21000000</td>\n",
       "    </tr>\n",
       "    <tr>\n",
       "      <th>ETH</th>\n",
       "      <td>Ethash</td>\n",
       "      <td>PoW</td>\n",
       "      <td>1.076842e+08</td>\n",
       "      <td>0</td>\n",
       "    </tr>\n",
       "    <tr>\n",
       "      <th>LTC</th>\n",
       "      <td>Scrypt</td>\n",
       "      <td>PoW</td>\n",
       "      <td>6.303924e+07</td>\n",
       "      <td>84000000</td>\n",
       "    </tr>\n",
       "    <tr>\n",
       "      <th>DASH</th>\n",
       "      <td>X11</td>\n",
       "      <td>PoW/PoS</td>\n",
       "      <td>9.031294e+06</td>\n",
       "      <td>22000000</td>\n",
       "    </tr>\n",
       "    <tr>\n",
       "      <th>XMR</th>\n",
       "      <td>CryptoNight-V7</td>\n",
       "      <td>PoW</td>\n",
       "      <td>1.720114e+07</td>\n",
       "      <td>0</td>\n",
       "    </tr>\n",
       "    <tr>\n",
       "      <th>ETC</th>\n",
       "      <td>Ethash</td>\n",
       "      <td>PoW</td>\n",
       "      <td>1.133597e+08</td>\n",
       "      <td>210000000</td>\n",
       "    </tr>\n",
       "    <tr>\n",
       "      <th>ZEC</th>\n",
       "      <td>Equihash</td>\n",
       "      <td>PoW</td>\n",
       "      <td>7.383056e+06</td>\n",
       "      <td>21000000</td>\n",
       "    </tr>\n",
       "  </tbody>\n",
       "</table>\n",
       "</div>"
      ],
      "text/plain": [
       "           Algorithm ProofType  TotalCoinsMined TotalCoinSupply\n",
       "42            Scrypt   PoW/PoS     4.199995e+01              42\n",
       "404           Scrypt   PoW/PoS     1.055185e+09       532000000\n",
       "1337             X13   PoW/PoS     2.927942e+10    314159265359\n",
       "BTC          SHA-256       PoW     1.792718e+07        21000000\n",
       "ETH           Ethash       PoW     1.076842e+08               0\n",
       "LTC           Scrypt       PoW     6.303924e+07        84000000\n",
       "DASH             X11   PoW/PoS     9.031294e+06        22000000\n",
       "XMR   CryptoNight-V7       PoW     1.720114e+07               0\n",
       "ETC           Ethash       PoW     1.133597e+08       210000000\n",
       "ZEC         Equihash       PoW     7.383056e+06        21000000"
      ]
     },
     "execution_count": 82,
     "metadata": {},
     "output_type": "execute_result"
    }
   ],
   "source": [
    "# Drop the 'CoinName' column since it's not going to be used on the clustering algorithm\n",
    "df2.drop(columns=[\"CoinName\"], inplace=True)\n",
    "df2.head(10)"
   ]
  },
  {
   "cell_type": "code",
   "execution_count": 83,
   "metadata": {},
   "outputs": [
    {
     "data": {
      "text/html": [
       "<div>\n",
       "<style scoped>\n",
       "    .dataframe tbody tr th:only-of-type {\n",
       "        vertical-align: middle;\n",
       "    }\n",
       "\n",
       "    .dataframe tbody tr th {\n",
       "        vertical-align: top;\n",
       "    }\n",
       "\n",
       "    .dataframe thead th {\n",
       "        text-align: right;\n",
       "    }\n",
       "</style>\n",
       "<table border=\"1\" class=\"dataframe\">\n",
       "  <thead>\n",
       "    <tr style=\"text-align: right;\">\n",
       "      <th></th>\n",
       "      <th>TotalCoinsMined</th>\n",
       "      <th>TotalCoinSupply</th>\n",
       "      <th>1GB AES Pattern Search</th>\n",
       "      <th>536</th>\n",
       "      <th>Argon2</th>\n",
       "      <th>Argon2d</th>\n",
       "      <th>BLAKE256</th>\n",
       "      <th>Blake</th>\n",
       "      <th>Blake2S</th>\n",
       "      <th>Blake2b</th>\n",
       "      <th>...</th>\n",
       "      <th>PoW/PoS</th>\n",
       "      <th>PoW/PoS</th>\n",
       "      <th>PoW/PoW</th>\n",
       "      <th>PoW/nPoS</th>\n",
       "      <th>Pos</th>\n",
       "      <th>Proof of Authority</th>\n",
       "      <th>Proof of Trust</th>\n",
       "      <th>TPoS</th>\n",
       "      <th>Zero-Knowledge Proof</th>\n",
       "      <th>dPoW/PoW</th>\n",
       "    </tr>\n",
       "  </thead>\n",
       "  <tbody>\n",
       "    <tr>\n",
       "      <th>42</th>\n",
       "      <td>4.199995e+01</td>\n",
       "      <td>42</td>\n",
       "      <td>0</td>\n",
       "      <td>0</td>\n",
       "      <td>0</td>\n",
       "      <td>0</td>\n",
       "      <td>0</td>\n",
       "      <td>0</td>\n",
       "      <td>0</td>\n",
       "      <td>0</td>\n",
       "      <td>...</td>\n",
       "      <td>1</td>\n",
       "      <td>0</td>\n",
       "      <td>0</td>\n",
       "      <td>0</td>\n",
       "      <td>0</td>\n",
       "      <td>0</td>\n",
       "      <td>0</td>\n",
       "      <td>0</td>\n",
       "      <td>0</td>\n",
       "      <td>0</td>\n",
       "    </tr>\n",
       "    <tr>\n",
       "      <th>404</th>\n",
       "      <td>1.055185e+09</td>\n",
       "      <td>532000000</td>\n",
       "      <td>0</td>\n",
       "      <td>0</td>\n",
       "      <td>0</td>\n",
       "      <td>0</td>\n",
       "      <td>0</td>\n",
       "      <td>0</td>\n",
       "      <td>0</td>\n",
       "      <td>0</td>\n",
       "      <td>...</td>\n",
       "      <td>1</td>\n",
       "      <td>0</td>\n",
       "      <td>0</td>\n",
       "      <td>0</td>\n",
       "      <td>0</td>\n",
       "      <td>0</td>\n",
       "      <td>0</td>\n",
       "      <td>0</td>\n",
       "      <td>0</td>\n",
       "      <td>0</td>\n",
       "    </tr>\n",
       "    <tr>\n",
       "      <th>1337</th>\n",
       "      <td>2.927942e+10</td>\n",
       "      <td>314159265359</td>\n",
       "      <td>0</td>\n",
       "      <td>0</td>\n",
       "      <td>0</td>\n",
       "      <td>0</td>\n",
       "      <td>0</td>\n",
       "      <td>0</td>\n",
       "      <td>0</td>\n",
       "      <td>0</td>\n",
       "      <td>...</td>\n",
       "      <td>1</td>\n",
       "      <td>0</td>\n",
       "      <td>0</td>\n",
       "      <td>0</td>\n",
       "      <td>0</td>\n",
       "      <td>0</td>\n",
       "      <td>0</td>\n",
       "      <td>0</td>\n",
       "      <td>0</td>\n",
       "      <td>0</td>\n",
       "    </tr>\n",
       "    <tr>\n",
       "      <th>BTC</th>\n",
       "      <td>1.792718e+07</td>\n",
       "      <td>21000000</td>\n",
       "      <td>0</td>\n",
       "      <td>0</td>\n",
       "      <td>0</td>\n",
       "      <td>0</td>\n",
       "      <td>0</td>\n",
       "      <td>0</td>\n",
       "      <td>0</td>\n",
       "      <td>0</td>\n",
       "      <td>...</td>\n",
       "      <td>0</td>\n",
       "      <td>0</td>\n",
       "      <td>0</td>\n",
       "      <td>0</td>\n",
       "      <td>0</td>\n",
       "      <td>0</td>\n",
       "      <td>0</td>\n",
       "      <td>0</td>\n",
       "      <td>0</td>\n",
       "      <td>0</td>\n",
       "    </tr>\n",
       "    <tr>\n",
       "      <th>ETH</th>\n",
       "      <td>1.076842e+08</td>\n",
       "      <td>0</td>\n",
       "      <td>0</td>\n",
       "      <td>0</td>\n",
       "      <td>0</td>\n",
       "      <td>0</td>\n",
       "      <td>0</td>\n",
       "      <td>0</td>\n",
       "      <td>0</td>\n",
       "      <td>0</td>\n",
       "      <td>...</td>\n",
       "      <td>0</td>\n",
       "      <td>0</td>\n",
       "      <td>0</td>\n",
       "      <td>0</td>\n",
       "      <td>0</td>\n",
       "      <td>0</td>\n",
       "      <td>0</td>\n",
       "      <td>0</td>\n",
       "      <td>0</td>\n",
       "      <td>0</td>\n",
       "    </tr>\n",
       "  </tbody>\n",
       "</table>\n",
       "<p>5 rows × 109 columns</p>\n",
       "</div>"
      ],
      "text/plain": [
       "      TotalCoinsMined TotalCoinSupply  1GB AES Pattern Search  536  Argon2  \\\n",
       "42       4.199995e+01              42                       0    0       0   \n",
       "404      1.055185e+09       532000000                       0    0       0   \n",
       "1337     2.927942e+10    314159265359                       0    0       0   \n",
       "BTC      1.792718e+07        21000000                       0    0       0   \n",
       "ETH      1.076842e+08               0                       0    0       0   \n",
       "\n",
       "      Argon2d  BLAKE256  Blake  Blake2S  Blake2b  ...  PoW/PoS  PoW/PoS   \\\n",
       "42          0         0      0        0        0  ...        1         0   \n",
       "404         0         0      0        0        0  ...        1         0   \n",
       "1337        0         0      0        0        0  ...        1         0   \n",
       "BTC         0         0      0        0        0  ...        0         0   \n",
       "ETH         0         0      0        0        0  ...        0         0   \n",
       "\n",
       "      PoW/PoW  PoW/nPoS  Pos  Proof of Authority  Proof of Trust  TPoS  \\\n",
       "42          0         0    0                   0               0     0   \n",
       "404         0         0    0                   0               0     0   \n",
       "1337        0         0    0                   0               0     0   \n",
       "BTC         0         0    0                   0               0     0   \n",
       "ETH         0         0    0                   0               0     0   \n",
       "\n",
       "      Zero-Knowledge Proof  dPoW/PoW  \n",
       "42                       0         0  \n",
       "404                      0         0  \n",
       "1337                     0         0  \n",
       "BTC                      0         0  \n",
       "ETH                      0         0  \n",
       "\n",
       "[5 rows x 109 columns]"
      ]
     },
     "execution_count": 83,
     "metadata": {},
     "output_type": "execute_result"
    }
   ],
   "source": [
    "# Create dummy variables for text features\n",
    "dummies_proof = pd.get_dummies(df[\"Algorithm\"])\n",
    "dummies_algo = pd.get_dummies(df[\"ProofType\"])\n",
    "df2.drop(columns=[\"Algorithm\",\"ProofType\"], inplace=True)\n",
    "X = pd.concat([df2, dummies_proof,dummies_algo], axis=1,sort=True).reindex(df2.index)\n",
    "X.head()"
   ]
  },
  {
   "cell_type": "code",
   "execution_count": 84,
   "metadata": {},
   "outputs": [],
   "source": [
    "# Standardize data\n",
    "X_scaled = StandardScaler().fit_transform(X)"
   ]
  },
  {
   "cell_type": "markdown",
   "metadata": {},
   "source": [
    "### Reducing Dimensions Using PCA"
   ]
  },
  {
   "cell_type": "code",
   "execution_count": 85,
   "metadata": {},
   "outputs": [],
   "source": [
    "# Use PCA to reduce dimensions to 3 principal components\n",
    "pca = PCA(n_components=3)\n",
    "\n",
    "X_pca = pca.fit_transform(X_scaled)"
   ]
  },
  {
   "cell_type": "code",
   "execution_count": 86,
   "metadata": {},
   "outputs": [
    {
     "data": {
      "text/html": [
       "<div>\n",
       "<style scoped>\n",
       "    .dataframe tbody tr th:only-of-type {\n",
       "        vertical-align: middle;\n",
       "    }\n",
       "\n",
       "    .dataframe tbody tr th {\n",
       "        vertical-align: top;\n",
       "    }\n",
       "\n",
       "    .dataframe thead th {\n",
       "        text-align: right;\n",
       "    }\n",
       "</style>\n",
       "<table border=\"1\" class=\"dataframe\">\n",
       "  <thead>\n",
       "    <tr style=\"text-align: right;\">\n",
       "      <th></th>\n",
       "      <th>PCA 1</th>\n",
       "      <th>PCA 2</th>\n",
       "      <th>PCA 3</th>\n",
       "    </tr>\n",
       "  </thead>\n",
       "  <tbody>\n",
       "    <tr>\n",
       "      <th>42</th>\n",
       "      <td>-0.323757</td>\n",
       "      <td>0.891000</td>\n",
       "      <td>-0.586263</td>\n",
       "    </tr>\n",
       "    <tr>\n",
       "      <th>404</th>\n",
       "      <td>-0.307124</td>\n",
       "      <td>0.891261</td>\n",
       "      <td>-0.586736</td>\n",
       "    </tr>\n",
       "    <tr>\n",
       "      <th>1337</th>\n",
       "      <td>2.318844</td>\n",
       "      <td>1.764511</td>\n",
       "      <td>-0.634260</td>\n",
       "    </tr>\n",
       "    <tr>\n",
       "      <th>BTC</th>\n",
       "      <td>-0.136597</td>\n",
       "      <td>-1.268501</td>\n",
       "      <td>0.157105</td>\n",
       "    </tr>\n",
       "    <tr>\n",
       "      <th>ETH</th>\n",
       "      <td>-0.156541</td>\n",
       "      <td>-1.949418</td>\n",
       "      <td>0.336576</td>\n",
       "    </tr>\n",
       "    <tr>\n",
       "      <th>LTC</th>\n",
       "      <td>-0.179071</td>\n",
       "      <td>-1.241420</td>\n",
       "      <td>-0.014722</td>\n",
       "    </tr>\n",
       "    <tr>\n",
       "      <th>DASH</th>\n",
       "      <td>-0.340782</td>\n",
       "      <td>1.329613</td>\n",
       "      <td>-0.525886</td>\n",
       "    </tr>\n",
       "    <tr>\n",
       "      <th>XMR</th>\n",
       "      <td>-0.179453</td>\n",
       "      <td>-2.151018</td>\n",
       "      <td>0.443185</td>\n",
       "    </tr>\n",
       "    <tr>\n",
       "      <th>ETC</th>\n",
       "      <td>-0.154987</td>\n",
       "      <td>-1.949498</td>\n",
       "      <td>0.336561</td>\n",
       "    </tr>\n",
       "    <tr>\n",
       "      <th>ZEC</th>\n",
       "      <td>-0.123165</td>\n",
       "      <td>-1.794270</td>\n",
       "      <td>0.342324</td>\n",
       "    </tr>\n",
       "  </tbody>\n",
       "</table>\n",
       "</div>"
      ],
      "text/plain": [
       "         PCA 1     PCA 2     PCA 3\n",
       "42   -0.323757  0.891000 -0.586263\n",
       "404  -0.307124  0.891261 -0.586736\n",
       "1337  2.318844  1.764511 -0.634260\n",
       "BTC  -0.136597 -1.268501  0.157105\n",
       "ETH  -0.156541 -1.949418  0.336576\n",
       "LTC  -0.179071 -1.241420 -0.014722\n",
       "DASH -0.340782  1.329613 -0.525886\n",
       "XMR  -0.179453 -2.151018  0.443185\n",
       "ETC  -0.154987 -1.949498  0.336561\n",
       "ZEC  -0.123165 -1.794270  0.342324"
      ]
     },
     "execution_count": 86,
     "metadata": {},
     "output_type": "execute_result"
    }
   ],
   "source": [
    "# Create a DataFrame with the principal components data\n",
    "pcs_df = pd.DataFrame(\n",
    "    data=X_pca, columns=[\"PCA 1\", \"PCA 2\", \"PCA 3\"]\n",
    ")\n",
    "pcs_df.index=df2.index\n",
    "pcs_df.head(10)\n"
   ]
  },
  {
   "cell_type": "markdown",
   "metadata": {},
   "source": [
    "### Clustering Crytocurrencies Using K-Means\n",
    "\n",
    "#### Finding the Best Value for `k` Using the Elbow Curve"
   ]
  },
  {
   "cell_type": "code",
   "execution_count": 87,
   "metadata": {},
   "outputs": [
    {
     "data": {},
     "metadata": {},
     "output_type": "display_data"
    },
    {
     "data": {
      "application/vnd.holoviews_exec.v0+json": "",
      "text/html": [
       "<div id='1102'>\n",
       "\n",
       "\n",
       "\n",
       "\n",
       "\n",
       "  <div class=\"bk-root\" id=\"112adbb9-6777-4981-b8c4-44c2bab4c931\" data-root-id=\"1102\"></div>\n",
       "</div>\n",
       "<script type=\"application/javascript\">(function(root) {\n",
       "  function embed_document(root) {\n",
       "    var docs_json = {\"e0b658e9-dc23-464e-8288-71186fbdc03d\":{\"roots\":{\"references\":[{\"attributes\":{\"children\":[{\"id\":\"1103\"},{\"id\":\"1107\"},{\"id\":\"1166\"}],\"margin\":[0,0,0,0],\"name\":\"Row01711\",\"tags\":[\"embedded\"]},\"id\":\"1102\",\"type\":\"Row\"},{\"attributes\":{\"end\":10.0,\"reset_end\":10.0,\"reset_start\":1.0,\"start\":1.0,\"tags\":[[[\"k\",\"k\",null]]]},\"id\":\"1104\",\"type\":\"Range1d\"},{\"attributes\":{\"active_drag\":\"auto\",\"active_inspect\":\"auto\",\"active_multi\":null,\"active_scroll\":\"auto\",\"active_tap\":\"auto\",\"tools\":[{\"id\":\"1106\"},{\"id\":\"1124\"},{\"id\":\"1125\"},{\"id\":\"1126\"},{\"id\":\"1127\"},{\"id\":\"1128\"}]},\"id\":\"1130\",\"type\":\"Toolbar\"},{\"attributes\":{\"data_source\":{\"id\":\"1137\"},\"glyph\":{\"id\":\"1140\"},\"hover_glyph\":null,\"muted_glyph\":{\"id\":\"1142\"},\"nonselection_glyph\":{\"id\":\"1141\"},\"selection_glyph\":null,\"view\":{\"id\":\"1144\"}},\"id\":\"1143\",\"type\":\"GlyphRenderer\"},{\"attributes\":{\"data\":{\"inertia\":{\"__ndarray__\":\"2Pr7hstxrEC9SOK0alOjQO6P0Y9mbZdAmO2c045ig0AoPxWwDIp7QEtQwdsUQHNAt8ZjM51yb0CEhLrxIQNqQBHbFde8EGVA8UmgmlkUY0A=\",\"dtype\":\"float64\",\"order\":\"little\",\"shape\":[10]},\"k\":[1,2,3,4,5,6,7,8,9,10]},\"selected\":{\"id\":\"1138\"},\"selection_policy\":{\"id\":\"1158\"}},\"id\":\"1137\",\"type\":\"ColumnDataSource\"},{\"attributes\":{},\"id\":\"1121\",\"type\":\"BasicTicker\"},{\"attributes\":{\"axis\":{\"id\":\"1116\"},\"grid_line_color\":null,\"ticker\":null},\"id\":\"1119\",\"type\":\"Grid\"},{\"attributes\":{\"line_alpha\":0.2,\"line_color\":\"#30a2da\",\"line_width\":2,\"x\":{\"field\":\"k\"},\"y\":{\"field\":\"inertia\"}},\"id\":\"1142\",\"type\":\"Line\"},{\"attributes\":{},\"id\":\"1114\",\"type\":\"LinearScale\"},{\"attributes\":{\"line_color\":\"#30a2da\",\"line_width\":2,\"x\":{\"field\":\"k\"},\"y\":{\"field\":\"inertia\"}},\"id\":\"1140\",\"type\":\"Line\"},{\"attributes\":{},\"id\":\"1128\",\"type\":\"ResetTool\"},{\"attributes\":{\"axis_label\":\"inertia\",\"bounds\":\"auto\",\"formatter\":{\"id\":\"1150\"},\"major_label_orientation\":\"horizontal\",\"ticker\":{\"id\":\"1121\"}},\"id\":\"1120\",\"type\":\"LinearAxis\"},{\"attributes\":{},\"id\":\"1112\",\"type\":\"LinearScale\"},{\"attributes\":{},\"id\":\"1138\",\"type\":\"Selection\"},{\"attributes\":{\"bottom_units\":\"screen\",\"fill_alpha\":0.5,\"fill_color\":\"lightgrey\",\"left_units\":\"screen\",\"level\":\"overlay\",\"line_alpha\":1.0,\"line_color\":\"black\",\"line_dash\":[4,4],\"line_width\":2,\"right_units\":\"screen\",\"top_units\":\"screen\"},\"id\":\"1129\",\"type\":\"BoxAnnotation\"},{\"attributes\":{\"axis_label\":\"k\",\"bounds\":\"auto\",\"formatter\":{\"id\":\"1146\"},\"major_label_orientation\":\"horizontal\",\"ticker\":{\"id\":\"1145\"}},\"id\":\"1116\",\"type\":\"LinearAxis\"},{\"attributes\":{\"margin\":[5,5,5,5],\"name\":\"HSpacer01716\",\"sizing_mode\":\"stretch_width\"},\"id\":\"1166\",\"type\":\"Spacer\"},{\"attributes\":{},\"id\":\"1150\",\"type\":\"BasicTickFormatter\"},{\"attributes\":{\"end\":3989.7236718468675,\"reset_end\":3989.7236718468675,\"reset_start\":-196.19021963411953,\"start\":-196.19021963411953,\"tags\":[[[\"inertia\",\"inertia\",null]]]},\"id\":\"1105\",\"type\":\"Range1d\"},{\"attributes\":{\"axis\":{\"id\":\"1120\"},\"dimension\":1,\"grid_line_color\":null,\"ticker\":null},\"id\":\"1123\",\"type\":\"Grid\"},{\"attributes\":{},\"id\":\"1126\",\"type\":\"WheelZoomTool\"},{\"attributes\":{},\"id\":\"1146\",\"type\":\"BasicTickFormatter\"},{\"attributes\":{\"line_alpha\":0.1,\"line_color\":\"#30a2da\",\"line_width\":2,\"x\":{\"field\":\"k\"},\"y\":{\"field\":\"inertia\"}},\"id\":\"1141\",\"type\":\"Line\"},{\"attributes\":{},\"id\":\"1158\",\"type\":\"UnionRenderers\"},{\"attributes\":{\"margin\":[5,5,5,5],\"name\":\"HSpacer01715\",\"sizing_mode\":\"stretch_width\"},\"id\":\"1103\",\"type\":\"Spacer\"},{\"attributes\":{\"overlay\":{\"id\":\"1129\"}},\"id\":\"1127\",\"type\":\"BoxZoomTool\"},{\"attributes\":{\"text\":\"Elbow Curve\",\"text_color\":{\"value\":\"black\"},\"text_font_size\":{\"value\":\"12pt\"}},\"id\":\"1108\",\"type\":\"Title\"},{\"attributes\":{},\"id\":\"1125\",\"type\":\"PanTool\"},{\"attributes\":{\"source\":{\"id\":\"1137\"}},\"id\":\"1144\",\"type\":\"CDSView\"},{\"attributes\":{},\"id\":\"1124\",\"type\":\"SaveTool\"},{\"attributes\":{\"below\":[{\"id\":\"1116\"}],\"center\":[{\"id\":\"1119\"},{\"id\":\"1123\"}],\"left\":[{\"id\":\"1120\"}],\"margin\":[5,5,5,5],\"min_border_bottom\":10,\"min_border_left\":10,\"min_border_right\":10,\"min_border_top\":10,\"plot_height\":300,\"plot_width\":700,\"renderers\":[{\"id\":\"1143\"}],\"sizing_mode\":\"fixed\",\"title\":{\"id\":\"1108\"},\"toolbar\":{\"id\":\"1130\"},\"x_range\":{\"id\":\"1104\"},\"x_scale\":{\"id\":\"1112\"},\"y_range\":{\"id\":\"1105\"},\"y_scale\":{\"id\":\"1114\"}},\"id\":\"1107\",\"subtype\":\"Figure\",\"type\":\"Plot\"},{\"attributes\":{\"ticks\":[1,2,3,4,5,6,7,8,9,10]},\"id\":\"1145\",\"type\":\"FixedTicker\"},{\"attributes\":{\"callback\":null,\"renderers\":[{\"id\":\"1143\"}],\"tags\":[\"hv_created\"],\"tooltips\":[[\"k\",\"@{k}\"],[\"inertia\",\"@{inertia}\"]]},\"id\":\"1106\",\"type\":\"HoverTool\"}],\"root_ids\":[\"1102\"]},\"title\":\"Bokeh Application\",\"version\":\"2.2.3\"}};\n",
       "    var render_items = [{\"docid\":\"e0b658e9-dc23-464e-8288-71186fbdc03d\",\"root_ids\":[\"1102\"],\"roots\":{\"1102\":\"112adbb9-6777-4981-b8c4-44c2bab4c931\"}}];\n",
       "    root.Bokeh.embed.embed_items_notebook(docs_json, render_items);\n",
       "  }\n",
       "  if (root.Bokeh !== undefined && root.Bokeh.Panel !== undefined) {\n",
       "    embed_document(root);\n",
       "  } else {\n",
       "    var attempts = 0;\n",
       "    var timer = setInterval(function(root) {\n",
       "      if (root.Bokeh !== undefined && root.Bokeh.Panel !== undefined) {\n",
       "        clearInterval(timer);\n",
       "        embed_document(root);\n",
       "      } else if (document.readyState == \"complete\") {\n",
       "        attempts++;\n",
       "        if (attempts > 100) {\n",
       "          clearInterval(timer);\n",
       "          console.log(\"Bokeh: ERROR: Unable to run BokehJS code because BokehJS library is missing\");\n",
       "        }\n",
       "      }\n",
       "    }, 10, root)\n",
       "  }\n",
       "})(window);</script>"
      ],
      "text/plain": [
       ":Curve   [k]   (inertia)"
      ]
     },
     "execution_count": 87,
     "metadata": {
      "application/vnd.holoviews_exec.v0+json": {
       "id": "1102"
      }
     },
     "output_type": "execute_result"
    }
   ],
   "source": [
    "inertia = []\n",
    "k = list(range(1, 11))\n",
    "\n",
    "# Calculate the inertia for the range of k values\n",
    "for i in k:\n",
    "    km = KMeans(n_clusters=i, random_state=0)\n",
    "    km.fit(pcs_df)\n",
    "    inertia.append(km.inertia_)\n",
    "\n",
    "# Create the Elbow Curve using hvPlot\n",
    "elbow_data = {\"k\": k, \"inertia\": inertia}\n",
    "df_elbow = pd.DataFrame(elbow_data)\n",
    "df_elbow.hvplot.line(x=\"k\", y=\"inertia\", xticks=k, title=\"Elbow Curve\")"
   ]
  },
  {
   "cell_type": "markdown",
   "metadata": {},
   "source": [
    "Running K-Means with `k=<your best value for k here>`"
   ]
  },
  {
   "cell_type": "code",
   "execution_count": 88,
   "metadata": {},
   "outputs": [
    {
     "data": {
      "text/html": [
       "<div>\n",
       "<style scoped>\n",
       "    .dataframe tbody tr th:only-of-type {\n",
       "        vertical-align: middle;\n",
       "    }\n",
       "\n",
       "    .dataframe tbody tr th {\n",
       "        vertical-align: top;\n",
       "    }\n",
       "\n",
       "    .dataframe thead th {\n",
       "        text-align: right;\n",
       "    }\n",
       "</style>\n",
       "<table border=\"1\" class=\"dataframe\">\n",
       "  <thead>\n",
       "    <tr style=\"text-align: right;\">\n",
       "      <th></th>\n",
       "      <th>Algorithm</th>\n",
       "      <th>ProofType</th>\n",
       "      <th>TotalCoinsMined</th>\n",
       "      <th>TotalCoinSupply</th>\n",
       "      <th>PCA 1</th>\n",
       "      <th>PCA 2</th>\n",
       "      <th>PCA 3</th>\n",
       "      <th>CoinName</th>\n",
       "      <th>Class</th>\n",
       "    </tr>\n",
       "  </thead>\n",
       "  <tbody>\n",
       "    <tr>\n",
       "      <th>42</th>\n",
       "      <td>Scrypt</td>\n",
       "      <td>PoW/PoS</td>\n",
       "      <td>4.199995e+01</td>\n",
       "      <td>42</td>\n",
       "      <td>-0.323757</td>\n",
       "      <td>0.891000</td>\n",
       "      <td>-0.586263</td>\n",
       "      <td>42 Coin</td>\n",
       "      <td>1</td>\n",
       "    </tr>\n",
       "    <tr>\n",
       "      <th>404</th>\n",
       "      <td>Scrypt</td>\n",
       "      <td>PoW/PoS</td>\n",
       "      <td>1.055185e+09</td>\n",
       "      <td>532000000</td>\n",
       "      <td>-0.307124</td>\n",
       "      <td>0.891261</td>\n",
       "      <td>-0.586736</td>\n",
       "      <td>404Coin</td>\n",
       "      <td>1</td>\n",
       "    </tr>\n",
       "    <tr>\n",
       "      <th>1337</th>\n",
       "      <td>X13</td>\n",
       "      <td>PoW/PoS</td>\n",
       "      <td>2.927942e+10</td>\n",
       "      <td>314159265359</td>\n",
       "      <td>2.318844</td>\n",
       "      <td>1.764511</td>\n",
       "      <td>-0.634260</td>\n",
       "      <td>EliteCoin</td>\n",
       "      <td>1</td>\n",
       "    </tr>\n",
       "    <tr>\n",
       "      <th>BTC</th>\n",
       "      <td>SHA-256</td>\n",
       "      <td>PoW</td>\n",
       "      <td>1.792718e+07</td>\n",
       "      <td>21000000</td>\n",
       "      <td>-0.136597</td>\n",
       "      <td>-1.268501</td>\n",
       "      <td>0.157105</td>\n",
       "      <td>Bitcoin</td>\n",
       "      <td>0</td>\n",
       "    </tr>\n",
       "    <tr>\n",
       "      <th>ETH</th>\n",
       "      <td>Ethash</td>\n",
       "      <td>PoW</td>\n",
       "      <td>1.076842e+08</td>\n",
       "      <td>0</td>\n",
       "      <td>-0.156541</td>\n",
       "      <td>-1.949418</td>\n",
       "      <td>0.336576</td>\n",
       "      <td>Ethereum</td>\n",
       "      <td>0</td>\n",
       "    </tr>\n",
       "    <tr>\n",
       "      <th>LTC</th>\n",
       "      <td>Scrypt</td>\n",
       "      <td>PoW</td>\n",
       "      <td>6.303924e+07</td>\n",
       "      <td>84000000</td>\n",
       "      <td>-0.179071</td>\n",
       "      <td>-1.241420</td>\n",
       "      <td>-0.014722</td>\n",
       "      <td>Litecoin</td>\n",
       "      <td>0</td>\n",
       "    </tr>\n",
       "    <tr>\n",
       "      <th>DASH</th>\n",
       "      <td>X11</td>\n",
       "      <td>PoW/PoS</td>\n",
       "      <td>9.031294e+06</td>\n",
       "      <td>22000000</td>\n",
       "      <td>-0.340782</td>\n",
       "      <td>1.329613</td>\n",
       "      <td>-0.525886</td>\n",
       "      <td>Dash</td>\n",
       "      <td>1</td>\n",
       "    </tr>\n",
       "    <tr>\n",
       "      <th>XMR</th>\n",
       "      <td>CryptoNight-V7</td>\n",
       "      <td>PoW</td>\n",
       "      <td>1.720114e+07</td>\n",
       "      <td>0</td>\n",
       "      <td>-0.179453</td>\n",
       "      <td>-2.151018</td>\n",
       "      <td>0.443185</td>\n",
       "      <td>Monero</td>\n",
       "      <td>0</td>\n",
       "    </tr>\n",
       "    <tr>\n",
       "      <th>ETC</th>\n",
       "      <td>Ethash</td>\n",
       "      <td>PoW</td>\n",
       "      <td>1.133597e+08</td>\n",
       "      <td>210000000</td>\n",
       "      <td>-0.154987</td>\n",
       "      <td>-1.949498</td>\n",
       "      <td>0.336561</td>\n",
       "      <td>Ethereum Classic</td>\n",
       "      <td>0</td>\n",
       "    </tr>\n",
       "    <tr>\n",
       "      <th>ZEC</th>\n",
       "      <td>Equihash</td>\n",
       "      <td>PoW</td>\n",
       "      <td>7.383056e+06</td>\n",
       "      <td>21000000</td>\n",
       "      <td>-0.123165</td>\n",
       "      <td>-1.794270</td>\n",
       "      <td>0.342324</td>\n",
       "      <td>ZCash</td>\n",
       "      <td>0</td>\n",
       "    </tr>\n",
       "  </tbody>\n",
       "</table>\n",
       "</div>"
      ],
      "text/plain": [
       "           Algorithm ProofType  TotalCoinsMined TotalCoinSupply     PCA 1  \\\n",
       "42            Scrypt   PoW/PoS     4.199995e+01              42 -0.323757   \n",
       "404           Scrypt   PoW/PoS     1.055185e+09       532000000 -0.307124   \n",
       "1337             X13   PoW/PoS     2.927942e+10    314159265359  2.318844   \n",
       "BTC          SHA-256       PoW     1.792718e+07        21000000 -0.136597   \n",
       "ETH           Ethash       PoW     1.076842e+08               0 -0.156541   \n",
       "LTC           Scrypt       PoW     6.303924e+07        84000000 -0.179071   \n",
       "DASH             X11   PoW/PoS     9.031294e+06        22000000 -0.340782   \n",
       "XMR   CryptoNight-V7       PoW     1.720114e+07               0 -0.179453   \n",
       "ETC           Ethash       PoW     1.133597e+08       210000000 -0.154987   \n",
       "ZEC         Equihash       PoW     7.383056e+06        21000000 -0.123165   \n",
       "\n",
       "         PCA 2     PCA 3          CoinName  Class  \n",
       "42    0.891000 -0.586263           42 Coin      1  \n",
       "404   0.891261 -0.586736           404Coin      1  \n",
       "1337  1.764511 -0.634260         EliteCoin      1  \n",
       "BTC  -1.268501  0.157105           Bitcoin      0  \n",
       "ETH  -1.949418  0.336576          Ethereum      0  \n",
       "LTC  -1.241420 -0.014722          Litecoin      0  \n",
       "DASH  1.329613 -0.525886              Dash      1  \n",
       "XMR  -2.151018  0.443185            Monero      0  \n",
       "ETC  -1.949498  0.336561  Ethereum Classic      0  \n",
       "ZEC  -1.794270  0.342324             ZCash      0  "
      ]
     },
     "execution_count": 88,
     "metadata": {},
     "output_type": "execute_result"
    }
   ],
   "source": [
    "# Initialize the K-Means model\n",
    "model = KMeans(n_clusters=4, random_state=0)\n",
    "\n",
    "# Fit the model\n",
    "model.fit(pcs_df)\n",
    "\n",
    "# Predict clusters\n",
    "predictions = model.predict(pcs_df)\n",
    "\n",
    "# Create a new DataFrame including predicted clusters and cryptocurrencies features\n",
    "pcs_df[\"Class\"] = model.labels_\n",
    "pcs_df.head()\n",
    "\n",
    "df2=df[df.TotalCoinsMined !=0 ]\n",
    "crypto_df= pd.concat([df2,pcs_df],axis=1,sort=True).reindex(df2.index)\n",
    "column_names=[\"Algorithm\",\"ProofType\",\"TotalCoinsMined\",\"TotalCoinSupply\",\"PCA 1\",\"PCA 2\",\"PCA 3\",\"CoinName\",\"Class\"]\n",
    "crypto_df = crypto_df.reindex(columns=column_names)\n",
    "crypto_df.head(10)"
   ]
  },
  {
   "cell_type": "markdown",
   "metadata": {},
   "source": [
    "### Visualizing Results\n",
    "\n",
    "#### 3D-Scatter with Clusters"
   ]
  },
  {
   "cell_type": "code",
   "execution_count": 89,
   "metadata": {},
   "outputs": [
    {
     "data": {
      "application/vnd.plotly.v1+json": {
       "config": {
        "plotlyServerURL": "https://plot.ly"
       },
       "data": [
        {
         "customdata": [
          [
           "Scrypt"
          ],
          [
           "Scrypt"
          ],
          [
           "X13"
          ],
          [
           "X11"
          ],
          [
           "SHA-512"
          ],
          [
           "SHA-256"
          ],
          [
           "SHA-256"
          ],
          [
           "X15"
          ],
          [
           "Scrypt"
          ],
          [
           "Scrypt"
          ],
          [
           "Scrypt"
          ],
          [
           "Scrypt"
          ],
          [
           "Scrypt"
          ],
          [
           "Groestl"
          ],
          [
           "PoS"
          ],
          [
           "Scrypt"
          ],
          [
           "Scrypt"
          ],
          [
           "X11"
          ],
          [
           "X11"
          ],
          [
           "SHA3"
          ],
          [
           "Scrypt"
          ],
          [
           "SHA-256"
          ],
          [
           "Scrypt"
          ],
          [
           "X13"
          ],
          [
           "X13"
          ],
          [
           "NeoScrypt"
          ],
          [
           "Scrypt"
          ],
          [
           "Scrypt"
          ],
          [
           "Scrypt"
          ],
          [
           "X11"
          ],
          [
           "X11"
          ],
          [
           "Multiple"
          ],
          [
           "PHI1612"
          ],
          [
           "X11"
          ],
          [
           "Scrypt"
          ],
          [
           "Scrypt"
          ],
          [
           "Scrypt"
          ],
          [
           "X11"
          ],
          [
           "Multiple"
          ],
          [
           "X13"
          ],
          [
           "Scrypt"
          ],
          [
           "Counterparty"
          ],
          [
           "SHA-256"
          ],
          [
           "Groestl"
          ],
          [
           "Scrypt"
          ],
          [
           "X13"
          ],
          [
           "Scrypt"
          ],
          [
           "Scrypt"
          ],
          [
           "X13"
          ],
          [
           "X11"
          ],
          [
           "Scrypt"
          ],
          [
           "X11"
          ],
          [
           "SHA3"
          ],
          [
           "QUAIT"
          ],
          [
           "X11"
          ],
          [
           "Scrypt"
          ],
          [
           "X13"
          ],
          [
           "SHA-256"
          ],
          [
           "X15"
          ],
          [
           "BLAKE256"
          ],
          [
           "SHA-256"
          ],
          [
           "X11"
          ],
          [
           "SHA-256"
          ],
          [
           "NIST5"
          ],
          [
           "Scrypt"
          ],
          [
           "Scrypt"
          ],
          [
           "X11"
          ],
          [
           "Scrypt"
          ],
          [
           "SHA-256"
          ],
          [
           "PoS"
          ],
          [
           "X11"
          ],
          [
           "SHA-256"
          ],
          [
           "SHA-256"
          ],
          [
           "NIST5"
          ],
          [
           "X11"
          ],
          [
           "POS 3.0"
          ],
          [
           "Scrypt"
          ],
          [
           "Scrypt"
          ],
          [
           "Scrypt"
          ],
          [
           "X13"
          ],
          [
           "X11"
          ],
          [
           "X11"
          ],
          [
           "Scrypt"
          ],
          [
           "SHA-256"
          ],
          [
           "X11"
          ],
          [
           "Scrypt"
          ],
          [
           "Scrypt"
          ],
          [
           "Scrypt"
          ],
          [
           "Scrypt"
          ],
          [
           "SHA-256D"
          ],
          [
           "PoS"
          ],
          [
           "Scrypt"
          ],
          [
           "X11"
          ],
          [
           "PoS"
          ],
          [
           "X13"
          ],
          [
           "X14"
          ],
          [
           "PoS"
          ],
          [
           "SHA-256D"
          ],
          [
           "DPoS"
          ],
          [
           "X11"
          ],
          [
           "X13"
          ],
          [
           "X11"
          ],
          [
           "PoS"
          ],
          [
           "Scrypt"
          ],
          [
           "Scrypt"
          ],
          [
           "PoS"
          ],
          [
           "X11"
          ],
          [
           "SHA-256"
          ],
          [
           "Scrypt"
          ],
          [
           "X11"
          ],
          [
           "Scrypt"
          ],
          [
           "Scrypt"
          ],
          [
           "X11"
          ],
          [
           "Scrypt"
          ],
          [
           "Scrypt"
          ],
          [
           "Scrypt"
          ],
          [
           "Scrypt"
          ],
          [
           "Quark"
          ],
          [
           "QuBit"
          ],
          [
           "Scrypt"
          ],
          [
           "SHA-256"
          ],
          [
           "X11"
          ],
          [
           "Scrypt"
          ],
          [
           "Scrypt"
          ],
          [
           "Scrypt"
          ],
          [
           "Scrypt"
          ],
          [
           "X13"
          ],
          [
           "Scrypt"
          ],
          [
           "Scrypt"
          ],
          [
           "X11"
          ],
          [
           "Blake2S"
          ],
          [
           "X11"
          ],
          [
           "PoS"
          ],
          [
           "X11"
          ],
          [
           "PoS"
          ],
          [
           "X11"
          ],
          [
           "Scrypt"
          ],
          [
           "Scrypt"
          ],
          [
           "Scrypt"
          ],
          [
           "SHA-256"
          ],
          [
           "X11"
          ],
          [
           "Scrypt"
          ],
          [
           "PoS"
          ],
          [
           "Scrypt"
          ],
          [
           "X15"
          ],
          [
           "SHA-256"
          ],
          [
           "POS 3.0"
          ],
          [
           "536"
          ],
          [
           "NIST5"
          ],
          [
           "NIST5"
          ],
          [
           "Skein"
          ],
          [
           "X13"
          ],
          [
           "Scrypt"
          ],
          [
           "X13"
          ],
          [
           "SkunkHash v2 Raptor"
          ],
          [
           "Skein"
          ],
          [
           "X11"
          ],
          [
           "Scrypt"
          ],
          [
           "PoS"
          ],
          [
           "Scrypt"
          ],
          [
           "Scrypt"
          ],
          [
           "SHA-512"
          ],
          [
           "Ouroboros"
          ],
          [
           "X11"
          ],
          [
           "NeoScrypt"
          ],
          [
           "Scrypt"
          ],
          [
           "Lyra2REv2"
          ],
          [
           "Scrypt"
          ],
          [
           "SHA-256"
          ],
          [
           "NIST5"
          ],
          [
           "PHI1612"
          ],
          [
           "Scrypt"
          ],
          [
           "Quark"
          ],
          [
           "POS 2.0"
          ],
          [
           "Scrypt"
          ],
          [
           "SHA-256"
          ],
          [
           "X11"
          ],
          [
           "DPoS"
          ],
          [
           "NIST5"
          ],
          [
           "X13"
          ],
          [
           "Scrypt"
          ],
          [
           "NIST5"
          ],
          [
           "Quark"
          ],
          [
           "Scrypt"
          ],
          [
           "Scrypt"
          ],
          [
           "X11"
          ],
          [
           "Quark"
          ],
          [
           "Scrypt"
          ],
          [
           "Scrypt"
          ],
          [
           "X11"
          ],
          [
           "POS 3.0"
          ],
          [
           "Ethash"
          ],
          [
           "Scrypt"
          ],
          [
           "Scrypt"
          ],
          [
           "X13"
          ],
          [
           "Proof-of-BibleHash"
          ],
          [
           "C11"
          ],
          [
           "X11"
          ],
          [
           "XEVAN"
          ],
          [
           "Scrypt"
          ],
          [
           "VBFT"
          ],
          [
           "NIST5"
          ],
          [
           "Scrypt"
          ],
          [
           "Scrypt"
          ],
          [
           "Scrypt"
          ],
          [
           "Green Protocol"
          ],
          [
           "PoS"
          ],
          [
           "Scrypt"
          ],
          [
           "Semux BFT consensus"
          ],
          [
           "Quark"
          ],
          [
           "PoS"
          ],
          [
           "X16R"
          ],
          [
           "Scrypt"
          ],
          [
           "XEVAN"
          ],
          [
           "Scrypt"
          ],
          [
           "Scrypt"
          ],
          [
           "Scrypt"
          ],
          [
           "SHA-256D"
          ],
          [
           "Scrypt"
          ],
          [
           "X15"
          ],
          [
           "Scrypt"
          ],
          [
           "Quark"
          ],
          [
           "SHA-256"
          ],
          [
           "DPoS"
          ],
          [
           "X16R"
          ],
          [
           "Quark"
          ],
          [
           "Quark"
          ],
          [
           "Scrypt"
          ],
          [
           "Lyra2REv2"
          ],
          [
           "Quark"
          ],
          [
           "Scrypt"
          ],
          [
           "X11"
          ],
          [
           "X11"
          ],
          [
           "Scrypt"
          ],
          [
           "PoS"
          ],
          [
           "Keccak"
          ],
          [
           "X11"
          ],
          [
           "Scrypt"
          ],
          [
           "SHA-512"
          ],
          [
           "XEVAN"
          ],
          [
           "XEVAN"
          ],
          [
           "X11"
          ],
          [
           "Quark"
          ],
          [
           "Equihash"
          ],
          [
           "Scrypt"
          ],
          [
           "Quark"
          ],
          [
           "Quark"
          ],
          [
           "Scrypt"
          ],
          [
           "X11"
          ],
          [
           "Scrypt"
          ],
          [
           "XEVAN"
          ],
          [
           "SHA-256D"
          ],
          [
           "X11"
          ],
          [
           "X11"
          ],
          [
           "DPoS"
          ],
          [
           "Scrypt"
          ],
          [
           "X11"
          ],
          [
           "Scrypt"
          ],
          [
           "Scrypt"
          ],
          [
           "SHA-256"
          ],
          [
           "Scrypt"
          ],
          [
           "X11"
          ],
          [
           "Scrypt"
          ],
          [
           "SHA-256"
          ],
          [
           "X11"
          ],
          [
           "Scrypt"
          ],
          [
           "Scrypt"
          ],
          [
           "X11"
          ],
          [
           "Scrypt"
          ],
          [
           "PoS"
          ],
          [
           "X11"
          ],
          [
           "SHA-256"
          ],
          [
           "DPoS"
          ],
          [
           "Scrypt"
          ],
          [
           "Scrypt"
          ],
          [
           "NeoScrypt"
          ],
          [
           "X13"
          ],
          [
           "DPoS"
          ],
          [
           "DPoS"
          ],
          [
           "SHA-256"
          ],
          [
           "PoS"
          ],
          [
           "PoS"
          ],
          [
           "SHA-256"
          ],
          [
           "Scrypt"
          ],
          [
           "Scrypt"
          ]
         ],
         "hovertemplate": "<b>%{hovertext}</b><br><br>Class=%{marker.color}<br>PCA 1=%{x}<br>PCA 2=%{y}<br>PCA 3=%{z}<br>Algorithm=%{customdata[0]}<extra></extra>",
         "hovertext": [
          "42 Coin",
          "404Coin",
          "EliteCoin",
          "Dash",
          "Bitshares",
          "BitcoinDark",
          "PayCoin",
          "KoboCoin",
          "Aurora Coin",
          "BlueCoin",
          "EnergyCoin",
          "BitBar",
          "CryptoBullion",
          "Diamond",
          "Exclusive Coin",
          "FlutterCoin",
          "HoboNickels",
          "HyperStake",
          "IOCoin",
          "MaxCoin",
          "MintCoin",
          "MazaCoin",
          "Nautilus Coin",
          "NavCoin",
          "OpalCoin",
          "Orbitcoin",
          "PotCoin",
          "PhoenixCoin",
          "Reddcoin",
          "SuperCoin",
          "SyncCoin",
          "TeslaCoin",
          "TittieCoin",
          "TorCoin",
          "UnitaryStatus Dollar",
          "UltraCoin",
          "VeriCoin",
          "X11 Coin",
          "Crypti",
          "StealthCoin",
          "ZCC Coin",
          "StorjCoin",
          "Neutron",
          "FairCoin",
          "RubyCoin",
          "Kore",
          "Dnotes",
          "8BIT Coin",
          "Sativa Coin",
          "Ucoin",
          "Vtorrent",
          "IslaCoin",
          "Nexus",
          "Droidz",
          "Squall Coin",
          "Diggits",
          "Paycon",
          "Emercoin",
          "EverGreenCoin",
          "Decred",
          "EDRCoin",
          "Hitcoin",
          "DubaiCoin",
          "PWR Coin",
          "BillaryCoin",
          "GPU Coin",
          "EuropeCoin",
          "ZeitCoin",
          "SwingCoin",
          "Nebuchadnezzar",
          "Ratecoin",
          "Revenu",
          "Clockcoin",
          "VIP Tokens",
          "BitSend",
          "Let it Ride",
          "PutinCoin",
          "iBankCoin",
          "Frankywillcoin",
          "MudraCoin",
          "Lutetium Coin",
          "GoldBlocks",
          "CarterCoin",
          "BitTokens",
          "MustangCoin",
          "ZoneCoin",
          "RootCoin",
          "BitCurrency",
          "Swiscoin",
          "BuzzCoin",
          "Opair",
          "PesoBit",
          "Halloween Coin",
          "CoffeeCoin",
          "RoyalCoin",
          "GanjaCoin V2",
          "TeamUP",
          "LanaCoin",
          "ARK",
          "InsaneCoin",
          "EmberCoin",
          "XenixCoin",
          "FreeCoin",
          "PLNCoin",
          "AquariusCoin",
          "Creatio",
          "Eternity",
          "Eurocoin",
          "BitcoinFast",
          "Stakenet",
          "BitConnect Coin",
          "MoneyCoin",
          "Enigma",
          "Russiacoin",
          "PandaCoin",
          "GameUnits",
          "GAKHcoin",
          "Allsafe",
          "LiteCreed",
          "Klingon Empire Darsek",
          "Internet of People",
          "KushCoin",
          "Printerium",
          "Impeach",
          "Zilbercoin",
          "FirstCoin",
          "FindCoin",
          "OpenChat",
          "RenosCoin",
          "VirtacoinPlus",
          "TajCoin",
          "Impact",
          "Atmos",
          "HappyCoin",
          "MacronCoin",
          "Condensate",
          "Independent Money System",
          "ArgusCoin",
          "LomoCoin",
          "ProCurrency",
          "GoldReserve",
          "GrowthCoin",
          "Phreak",
          "Degas Coin",
          "HTML5 Coin",
          "Ultimate Secure Cash",
          "QTUM",
          "Espers",
          "Denarius",
          "Virta Unique Coin",
          "Bitcoin Planet",
          "BritCoin",
          "Linda",
          "DeepOnion",
          "Signatum",
          "Cream",
          "Monoeci",
          "Draftcoin",
          "Stakecoin",
          "CoinonatX",
          "Ethereum Dark",
          "Obsidian",
          "Cardano",
          "Regalcoin",
          "TrezarCoin",
          "TerraNovaCoin",
          "Rupee",
          "WomenCoin",
          "Theresa May Coin",
          "NamoCoin",
          "LUXCoin",
          "Xios",
          "Bitcloud 2.0",
          "KekCoin",
          "BlackholeCoin",
          "Infinity Economics",
          "Magnet",
          "Lamden Tau",
          "Electra",
          "Bitcoin Diamond",
          "Cash & Back Coin",
          "Bulwark",
          "Kalkulus",
          "GermanCoin",
          "LiteCoin Ultra",
          "PhantomX",
          "Digiwage",
          "Trollcoin",
          "Litecoin Plus",
          "Monkey Project",
          "TokenPay",
          "1717 Masonic Commemorative Token",
          "My Big Coin",
          "Unified Society USDEX",
          "Tokyo Coin",
          "BiblePay",
          "Stipend",
          "Pushi",
          "Ellerium",
          "Velox",
          "Ontology",
          "Bitspace",
          "Briacoin",
          "Ignition",
          "MedicCoin",
          "Bitcoin Green",
          "Deviant Coin",
          "Abjcoin",
          "Semux",
          "Carebit",
          "Zealium",
          "Proton",
          "iDealCash",
          "Bitcoin Incognito",
          "HollyWoodCoin",
          "Swisscoin",
          "Xt3ch",
          "TheVig",
          "EmaratCoin",
          "Dekado",
          "Lynx",
          "Poseidon Quark",
          "BitcoinWSpectrum",
          "Muse",
          "Trivechain",
          "Dystem",
          "Giant",
          "Peony Coin",
          "Absolute Coin",
          "Vitae",
          "TPCash",
          "ARENON",
          "EUNO",
          "MMOCoin",
          "Ketan",
          "XDNA",
          "PAXEX",
          "ThunderStake",
          "Kcash",
          "Bettex coin",
          "BitMoney",
          "Junson Ming Chan Coin",
          "HerbCoin",
          "PirateCash",
          "Oduwa",
          "Galilel",
          "Crypto Sports",
          "Credit",
          "Dash Platinum",
          "Nasdacoin",
          "Beetle Coin",
          "Titan Coin",
          "Award",
          "Insane Coin",
          "ALAX",
          "LiteDoge",
          "TruckCoin",
          "OrangeCoin",
          "BitstarCoin",
          "NeosCoin",
          "HyperCoin",
          "PinkCoin",
          "AudioCoin",
          "IncaKoin",
          "Piggy Coin",
          "Genstake",
          "XiaoMiCoin",
          "CapriCoin",
          " ClubCoin",
          "Radium",
          "Creditbit ",
          "OKCash",
          "Lisk",
          "HiCoin",
          "WhiteCoin",
          "FriendshipCoin",
          "Triangles Coin",
          "EOS",
          "Oxycoin",
          "TigerCash",
          "Particl",
          "Nxt",
          "ZEPHYR",
          "Gapcoin",
          "BitcoinPlus"
         ],
         "legendgroup": "1",
         "marker": {
          "color": [
           1,
           1,
           1,
           1,
           1,
           1,
           1,
           1,
           1,
           1,
           1,
           1,
           1,
           1,
           1,
           1,
           1,
           1,
           1,
           1,
           1,
           1,
           1,
           1,
           1,
           1,
           1,
           1,
           1,
           1,
           1,
           1,
           1,
           1,
           1,
           1,
           1,
           1,
           1,
           1,
           1,
           1,
           1,
           1,
           1,
           1,
           1,
           1,
           1,
           1,
           1,
           1,
           1,
           1,
           1,
           1,
           1,
           1,
           1,
           1,
           1,
           1,
           1,
           1,
           1,
           1,
           1,
           1,
           1,
           1,
           1,
           1,
           1,
           1,
           1,
           1,
           1,
           1,
           1,
           1,
           1,
           1,
           1,
           1,
           1,
           1,
           1,
           1,
           1,
           1,
           1,
           1,
           1,
           1,
           1,
           1,
           1,
           1,
           1,
           1,
           1,
           1,
           1,
           1,
           1,
           1,
           1,
           1,
           1,
           1,
           1,
           1,
           1,
           1,
           1,
           1,
           1,
           1,
           1,
           1,
           1,
           1,
           1,
           1,
           1,
           1,
           1,
           1,
           1,
           1,
           1,
           1,
           1,
           1,
           1,
           1,
           1,
           1,
           1,
           1,
           1,
           1,
           1,
           1,
           1,
           1,
           1,
           1,
           1,
           1,
           1,
           1,
           1,
           1,
           1,
           1,
           1,
           1,
           1,
           1,
           1,
           1,
           1,
           1,
           1,
           1,
           1,
           1,
           1,
           1,
           1,
           1,
           1,
           1,
           1,
           1,
           1,
           1,
           1,
           1,
           1,
           1,
           1,
           1,
           1,
           1,
           1,
           1,
           1,
           1,
           1,
           1,
           1,
           1,
           1,
           1,
           1,
           1,
           1,
           1,
           1,
           1,
           1,
           1,
           1,
           1,
           1,
           1,
           1,
           1,
           1,
           1,
           1,
           1,
           1,
           1,
           1,
           1,
           1,
           1,
           1,
           1,
           1,
           1,
           1,
           1,
           1,
           1,
           1,
           1,
           1,
           1,
           1,
           1,
           1,
           1,
           1,
           1,
           1,
           1,
           1,
           1,
           1,
           1,
           1,
           1,
           1,
           1,
           1,
           1,
           1,
           1,
           1,
           1,
           1,
           1,
           1,
           1,
           1,
           1,
           1,
           1,
           1,
           1,
           1,
           1,
           1,
           1,
           1,
           1,
           1,
           1,
           1,
           1,
           1,
           1,
           1,
           1,
           1,
           1,
           1,
           1,
           1,
           1,
           1
          ],
          "coloraxis": "coloraxis",
          "symbol": "circle"
         },
         "mode": "markers",
         "name": "1",
         "scene": "scene",
         "showlegend": true,
         "type": "scatter3d",
         "x": [
          -0.3237565893381879,
          -0.30712352530308534,
          2.3188440059004902,
          -0.3407823025592708,
          -0.31643231916136033,
          -0.28011541231789094,
          -0.2823368346330352,
          -0.19912980841709269,
          -0.3234168072253312,
          -0.31600550743932854,
          -0.3222554348559596,
          -0.32375253539630117,
          -0.3237368439959226,
          -0.3599460775090158,
          -0.43601052570546134,
          -0.3191833943594711,
          -0.321819201438447,
          -0.32285780690489,
          -0.340677157970874,
          -0.5852394287928355,
          -0.06629204050120495,
          -0.24349519554000262,
          -0.325729669002673,
          -0.258837415443857,
          -0.25945868309709746,
          -0.3267387949640331,
          -0.318070611767815,
          -0.32216148424686863,
          0.03384309372356978,
          -0.34271432909537364,
          -0.34104800304572574,
          -0.3034724810751699,
          -0.3333390274654358,
          -0.3409598512546563,
          -0.2990381172028802,
          -0.32243673574933346,
          -0.3622103258757386,
          -0.3409243473456497,
          -0.30393876346470133,
          -0.25923987802962983,
          -0.3148806537821785,
          -0.3980152221015269,
          -0.2793286639816232,
          -0.3593684827181378,
          -0.3257098371499457,
          -0.2595340456551424,
          -0.3203757035050328,
          -0.32373868500259884,
          -0.2594862884655984,
          -0.34315865039700927,
          -0.3234736182439039,
          -0.3410295598789237,
          -0.8870084670047996,
          -0.36533585957414416,
          -0.4097595802876122,
          -0.32411454180444177,
          -0.25900894903409716,
          -0.27269072505604686,
          -0.20156513664328096,
          -0.07950507124912999,
          -0.280086370273608,
          -0.01918446157077946,
          -0.28014988219822523,
          -0.182599229231693,
          -0.3233498511197921,
          -0.3239846919507674,
          -0.3382059213373211,
          0.8249444809262618,
          -0.27995046856758926,
          -0.43569442846472706,
          -0.3388763815876033,
          -0.2786972827932302,
          -0.2763713097180318,
          -0.30377493653341464,
          -0.3397677074666983,
          -0.35589425478673753,
          -0.29969683882349757,
          -0.3233879086517469,
          -0.3218296906029473,
          -0.26045328272728085,
          -0.3306731456677027,
          -0.3405046364406901,
          -0.3225936812011053,
          -0.28013094172127406,
          -0.3410187903101577,
          -0.32357660964772167,
          -0.3237329268259072,
          -0.32397262886048944,
          -0.2700020142164385,
          0.09220955684189537,
          -0.43465349032571027,
          -0.32334766751752225,
          -0.3272133372492743,
          -0.4339828904205844,
          -0.2618802410932861,
          -0.37737749096321416,
          -0.4337341675584421,
          -0.22174680818564246,
          3.815123531018669,
          -0.3406121523159278,
          0.8709609921601036,
          -0.3409737747377007,
          -0.435116358601366,
          -0.3232756211852955,
          -0.3234297397201197,
          -0.43569442846472706,
          -0.34054974464961624,
          -0.27999381496219,
          -0.32327631435053966,
          -0.23763654417522198,
          -0.32342344446888943,
          -0.3190228265746644,
          -0.3410027333383492,
          -0.32263621234865736,
          0.3163244880750657,
          -0.32362230648845663,
          -0.3236926982243457,
          -0.3960376385712337,
          -0.33294984984934695,
          -0.319928899146381,
          -0.2801073911060657,
          -0.3409128537759021,
          -0.3234709711425686,
          -0.3235977466754202,
          -0.3256169014685367,
          -0.3168608600359053,
          -0.26164853667419,
          -0.3044875947021117,
          -0.32535826945140295,
          -0.3401803905848296,
          -0.3824606075678149,
          -0.338920745323293,
          -0.433944312893236,
          -0.3400784303185301,
          -0.4283548715390197,
          -0.33602855992136843,
          -0.32354111361682797,
          -0.3235403602833469,
          -0.3166797819440491,
          0.2489581242840382,
          -0.34055573467614364,
          -0.30829987628740235,
          -0.43572874586340216,
          -0.32275362537605473,
          0.9304180537683004,
          -0.28103063560625874,
          -0.3546749535333716,
          0.6234575819227774,
          -0.30530766146072463,
          -0.30381298171983145,
          -0.37703393066186563,
          -0.2591720092208717,
          0.14011152084405562,
          -0.25924259112044856,
          -0.33656181873288327,
          -0.37653956533646565,
          -0.3408274778625568,
          -0.3256907091104369,
          -0.435595459797458,
          -0.3231770648036384,
          -0.32367566036661394,
          -0.3743822198286592,
          0.5176122367988651,
          -0.34076852646923117,
          -0.32174857840468185,
          -0.3236314293160889,
          -0.324098939107721,
          0.4441336594247904,
          -0.27845675689859856,
          -0.29010649069676286,
          -0.3665808514737631,
          -0.32358188274735683,
          -0.3921983767089114,
          -0.3219091645873209,
          -0.3234524315406476,
          -0.10915058214012584,
          -0.3395638849698456,
          3.8199693781553057,
          0.25311298687520617,
          -0.2559199152700881,
          -0.3209180122936529,
          -0.3073565379554277,
          -0.39592375255378437,
          0.08969074973156752,
          -0.32259328150774486,
          -0.3401434410198948,
          -0.395090503609052,
          -0.31018348725303563,
          -0.3236977568709903,
          -0.34313062986298,
          -0.35617568087701545,
          -0.30343122612811385,
          -0.3352750760862936,
          -0.31925146363901913,
          -0.25346259648172337,
          0.06461973372933186,
          -0.36683164510961147,
          -0.34084481297151253,
          -0.3980380880367466,
          -0.3248527630824191,
          -0.37294675732207155,
          -0.3049075286111864,
          -0.32372506268807694,
          -0.323706816355239,
          -0.319245513213118,
          -0.5099324693471654,
          -0.43519072910477063,
          -0.3234239436781173,
          3.937157178473214,
          -0.390868421380069,
          -0.4353790525276005,
          -0.33411443758376347,
          -0.2704124475759156,
          -0.46690150975830763,
          -0.3253854461664854,
          -0.12721283660468252,
          -0.32563725722502207,
          -0.28690756034539716,
          -0.3228991756553656,
          -0.2031952038381035,
          2.1771103789295085,
          -0.3916429033441908,
          -0.28115742099878477,
          1.04563312919234,
          -0.3311674255660333,
          -0.3960371200719522,
          -0.39387851795583395,
          -0.2066751616457686,
          -0.3217426964793402,
          -0.3947591829889937,
          -0.31661996395682795,
          -0.34270893167624983,
          -0.3403191340137564,
          -0.32288852247048694,
          -0.4344811844486104,
          -0.27229225041222527,
          -0.3425708558927047,
          -0.1835542036348861,
          -0.3472567124874392,
          -0.4003159660578039,
          0.20079396173776154,
          -0.1334012973709437,
          -0.3931745803658089,
          -0.26810404362480766,
          -0.32342784447764034,
          -0.39362974696101083,
          -0.39615386258590357,
          0.5811532861640083,
          -0.34318485288799344,
          -0.3229120181511473,
          -0.392505386033528,
          -0.24173246460240289,
          -0.3378902262314841,
          -0.3405458772289366,
          3.8321888078234125,
          0.11058239867669946,
          -0.3380890360686808,
          -0.3222993011667488,
          -0.32312196248514896,
          -0.2823694781122648,
          -0.32363910601173623,
          -0.33218990346697413,
          -0.23755088875922634,
          -0.06010935133008712,
          -0.3279484262261811,
          -0.3229186323284731,
          -0.3159963383644577,
          -0.3371210172555777,
          -0.3213612673765955,
          -0.4359695593421895,
          -0.2666920054352735,
          -0.27863334534731704,
          3.815514491311231,
          -0.1332860280421451,
          -0.31856134138674463,
          -0.3263656393117584,
          -0.25964099903732096,
          3.8253687067392494,
          3.8266109529041814,
          -0.26330254558112504,
          -0.43590552051124987,
          -0.5518268817973774,
          2.5236029312222787,
          -0.3218067797053996,
          -0.3260328052704666
         ],
         "y": [
          0.8910000404885006,
          0.8912609957606252,
          1.7645108214524325,
          1.3296129081052785,
          1.360251102779667,
          0.863906192410447,
          0.6750516450457427,
          1.9545568658737962,
          0.8910015357282721,
          0.8912827942149647,
          0.8910548015141254,
          0.8909998633944272,
          0.8910001107988761,
          1.0191673195306523,
          1.6169272280185274,
          -0.16934686951477515,
          0.8909927135065305,
          1.1415013939890692,
          1.3296167437016093,
          2.4877145206499125,
          0.7116124689982983,
          0.8636838611392664,
          0.7021378601898782,
          1.8746863134725065,
          1.8746636500908755,
          0.5376577634081663,
          0.8909344555729113,
          0.8909945275553818,
          0.9040450108211592,
          1.1407770428371755,
          1.3296175151702252,
          0.21219864508232006,
          1.6760742211707012,
          1.3296142314088033,
          0.890861732276499,
          0.8909831865607861,
          -0.07516751857979247,
          1.329618451620407,
          0.21224663667944335,
          1.8746716319368975,
          0.8906738157224738,
          1.434519802089395,
          0.8639049918376687,
          1.0191912368127136,
          0.7021491008403922,
          1.8746531007730427,
          0.7020186799076079,
          0.8910006936526398,
          1.8746561429444086,
          1.140747834080429,
          0.8909973628443937,
          1.329618188613237,
          3.3459843857581,
          2.123323988657016,
          1.5131094478082765,
          0.702142294795669,
          1.874647555438954,
          0.8635413274303633,
          1.9546784371994856,
          0.9660002415272997,
          0.8639072518426083,
          1.3241010312659238,
          0.8639124101165083,
          1.5466948214114333,
          0.8909875775060022,
          0.7020683459199173,
          1.3294715881161887,
          0.6797728946643895,
          0.8639005092140013,
          1.616925758764288,
          1.3296479840311088,
          0.8638274509978238,
          0.8637158182915216,
          1.5422159206819084,
          1.3295738683381084,
          1.6231940532047247,
          0.8905776976753064,
          0.8909846725003712,
          0.8910053311159509,
          1.6857176787243304,
          1.1407892381552154,
          1.3296048368137665,
          0.8909839614306749,
          0.8639062759216855,
          1.32961663144214,
          0.8909929557823144,
          0.8910009037066399,
          0.7022124729059266,
          -0.08254812345699303,
          1.9976691465572751,
          1.616928630747807,
          0.8910149576794928,
          1.329147175657313,
          1.6169751942183437,
          1.6857940016970685,
          1.9850362544311022,
          1.6168146141622732,
          1.994337505899257,
          1.5319878086588798,
          1.329613914960989,
          1.9153480080943934,
          1.329617718903806,
          1.6169273459531892,
          0.8909925344013854,
          0.8909846632293171,
          1.616925758764288,
          1.3295966911767079,
          0.8639119282161212,
          0.8909961101834686,
          0.8964728267966441,
          0.890993993047832,
          0.8907497877529819,
          1.3296159171638875,
          0.8909473092609597,
          0.704434938747687,
          0.8909964888941065,
          0.8910002159123966,
          1.563827909864446,
          0.6548604195574352,
          0.8908146656469739,
          0.8639071350306015,
          1.329616365749809,
          0.8909974594086806,
          0.8909915780413283,
          0.7021167403874627,
          -0.12120605383698643,
          1.6857946378808681,
          0.8910529467829953,
          0.7021395481694189,
          1.3295841644454405,
          1.9458722996249056,
          1.3296236152439607,
          1.6169309120462836,
          1.3295878838800743,
          1.6169464956583235,
          1.3294756152114622,
          0.8909941127698414,
          0.8909893380385412,
          0.8906081848660757,
          0.645690091143396,
          1.3296094729113337,
          0.7014841786222901,
          1.6169180067679563,
          0.8909683766014549,
          1.9374883270564953,
          0.6749773621737094,
          1.6231953065879539,
          2.016806639116218,
          1.5422120090025855,
          1.5421950324523193,
          1.9445524334949098,
          1.8746546073710286,
          0.8754209881171788,
          1.8746592489106446,
          1.4898552740573845,
          1.9445704675740643,
          1.3296193805715517,
          0.7021384845733755,
          1.616902328577988,
          0.8909898167452202,
          0.8910002626927258,
          1.3604181447639487,
          1.5779219177222366,
          1.3296101605852029,
          0.5375822484141622,
          0.8909943794000285,
          0.7388008929841456,
          0.902761797392472,
          0.8639159979650306,
          1.5419930217420925,
          1.8650972984085359,
          0.890992763423564,
          1.7526273976502111,
          1.596076823530896,
          0.8910015234043586,
          0.6755273649511294,
          1.3295780535695214,
          1.531920826937261,
          1.5430889092864235,
          1.8746562391210624,
          0.8909670871073411,
          1.353346065167134,
          1.5638288142800225,
          0.8735816759111279,
          0.8909449752721853,
          1.3296180129539084,
          1.5637942093497301,
          0.8909101660934093,
          0.8909995866311541,
          1.1407482062363405,
          1.6231893120950862,
          -0.005914273663223988,
          -0.02608829426977846,
          0.891013581291015,
          1.685582686365902,
          1.9565172583500383,
          1.014664898795568,
          1.3296086777350073,
          1.9746775748885892,
          0.702099764737245,
          1.5651080718226293,
          1.5422006050584798,
          0.8909992405475854,
          0.8909986061355942,
          0.7020599084083471,
          1.7917418198743391,
          1.6168999325045352,
          0.8909926748124171,
          1.5566257192403512,
          1.7526759134308287,
          1.6168982627047592,
          0.715987075869782,
          0.8896166637286556,
          2.158189318183371,
          0.7021440340618148,
          0.8915396847127758,
          0.7021231479601002,
          1.9967744813723511,
          0.8909767172942393,
          1.7657978798278613,
          0.06209344420472014,
          1.5635754687137344,
          0.6750376226631808,
          1.5158604784947087,
          0.9048498615947956,
          1.5638240287050138,
          1.7526927615978272,
          0.6955191893078289,
          0.9276480082595225,
          1.5638192959257096,
          0.8906103669817313,
          1.1407414890535859,
          1.3296116038042463,
          0.7020830170978611,
          1.616846514662889,
          0.9563555236364518,
          1.1407172754011572,
          0.8844142975030991,
          1.096176388390168,
          1.7858212930679076,
          2.5763920502500746,
          1.148412626459597,
          1.7526866882655656,
          0.1492519171953578,
          0.8909983826250046,
          1.7526928111582094,
          1.5638247296189638,
          0.8753895580282866,
          1.1407470732367535,
          0.8909762488095508,
          1.9745933983207449,
          1.9952373748927077,
          1.3294597039952998,
          1.3296163326268389,
          1.5320415764792321,
          0.8840939724681512,
          1.3297254567334387,
          0.8909231988404005,
          0.8909879240854893,
          0.6750449291312218,
          0.8910043262201179,
          1.3296156465421147,
          0.8873196309909023,
          0.8718226477132165,
          1.329445366316885,
          0.8910208583791407,
          0.8910231237692858,
          1.3296255667774348,
          0.8909834181076326,
          1.61692287233012,
          1.0211702108243617,
          0.8639063060882585,
          1.5319793732093108,
          0.7026627117518194,
          0.890994555599635,
          0.5376347163597592,
          1.87465692133958,
          1.532442796584101,
          1.5324881127996939,
          0.6751041145818574,
          1.61692544623252,
          1.7721092814274282,
          0.6912862195467714,
          0.8909086650409286,
          0.7021366691913978
         ],
         "z": [
          -0.586262756045517,
          -0.5867359213744393,
          -0.6342596051164195,
          -0.5258859623623723,
          0.04228986893533531,
          -0.4144605455941671,
          -0.09218321626707905,
          -0.6582980409760936,
          -0.5862713735231929,
          -0.5865273003302308,
          -0.586313990426808,
          -0.5862628055785722,
          -0.5862632522903949,
          -0.3872037137131162,
          -0.06033577562769383,
          -0.4581828589452124,
          -0.5863075585755727,
          -0.20429843371533996,
          -0.5258895509451772,
          -0.4189453034356208,
          -0.27284681609200884,
          -0.4152844805828754,
          -0.2639893400710826,
          -0.6021002982618662,
          -0.6020790944087208,
          -0.2697304402210026,
          -0.5863821966458544,
          -0.5862997852262539,
          -0.5984676264095473,
          -0.2036207309920262,
          -0.5258808025885798,
          0.14189308962778696,
          -0.17340025162094222,
          -0.5258820346777431,
          -0.5868221238424697,
          -0.5862900355562389,
          -0.4207644661086171,
          -0.525884045943834,
          0.14189123676230098,
          -0.6020865622214963,
          -0.5863880208186796,
          -0.023439147909404382,
          -0.41447922444557717,
          -0.3872242052101678,
          -0.26399289164449774,
          -0.6020743902371087,
          -0.2640861101512749,
          -0.5862633671276177,
          -0.6020763755305668,
          -0.2036020128995754,
          -0.586268860436124,
          -0.5258814322311816,
          0.06378932095758291,
          -0.5932101670872868,
          -0.26699473180079125,
          -0.26402957196964694,
          -0.6020855602864358,
          -0.4145401880396833,
          -0.6582724356458493,
          -0.39876093451346534,
          -0.41446153679858416,
          -0.5321488410023409,
          -0.4144614123513816,
          -0.5392575467357291,
          -0.5862691758493085,
          -0.2640124962313143,
          -0.5259095773944721,
          -0.285675297760917,
          -0.4144629770477992,
          -0.06034301060557774,
          -0.5259415948592566,
          -0.4144732833674031,
          -0.41449896335949327,
          -0.5351058317915981,
          -0.5258998029963124,
          -0.059429247056796704,
          -0.5867285733879737,
          -0.5862674623814561,
          -0.5863107539954967,
          -0.27980641449529053,
          -0.2039149666728291,
          -0.525890464320838,
          -0.5862864557184194,
          -0.4144601932466717,
          -0.5258812667841215,
          -0.5862651676707326,
          -0.5862635636540782,
          -0.2640521825302547,
          -0.34327112264737936,
          -0.69586758530582,
          -0.06036894358414024,
          -0.586276712546919,
          -0.5260864735276932,
          -0.060397871969567446,
          -0.27979280238368354,
          -0.6464857475098922,
          -0.06035998879343401,
          -0.6873720788536357,
          -0.30122168932505095,
          -0.5258903482209764,
          -0.6405092762127143,
          -0.5258826515535455,
          -0.06035740999661712,
          -0.5862723240563352,
          -0.5862664492529043,
          -0.06034301060557774,
          -0.5258871480710742,
          -0.41446505105108705,
          -0.5862732846945483,
          -0.31111397118994755,
          -0.5862691515001444,
          -0.5863087160682116,
          -0.525881459466772,
          -0.5862754099109142,
          -0.28012856138663533,
          -0.5862650294043936,
          -0.5862643475367785,
          -0.18578354905119743,
          -0.33100009794541396,
          -0.5863045596734657,
          -0.41446099702871897,
          -0.5258837534760974,
          -0.5862689507816421,
          -0.5862642804384107,
          -0.2639862916465333,
          -0.3254417392764918,
          -0.27979857400878855,
          -0.5867427357266859,
          -0.2639987740751021,
          -0.5258926472884389,
          -0.7486330377652343,
          -0.5259338622497154,
          -0.060386700119692514,
          -0.5258961271903815,
          -0.06052599466009447,
          -0.5259632808915685,
          -0.5862663414618932,
          -0.5862650545631817,
          -0.5863266166088591,
          -0.09699321805239551,
          -0.5258904970464914,
          -0.2642317517855978,
          -0.06034006264596264,
          -0.5862783317656008,
          -0.6809213056253297,
          -0.09219446859028993,
          -0.05945904668072938,
          -0.6806839074953502,
          -0.535067733578719,
          -0.5350992031877498,
          -0.7214323181534863,
          -0.6020835484602818,
          -0.5932110285287241,
          -0.6020831119686775,
          -0.07801524492873718,
          -0.7214491908326055,
          -0.5258866401226171,
          -0.2639904519664577,
          -0.06033899730751323,
          -0.5862739622454805,
          -0.5862647719401101,
          0.043644219036097845,
          0.0763694270814781,
          -0.5258855441863454,
          -0.2698303577374649,
          -0.5862642324091493,
          -0.05724330795855764,
          -0.6080290669498339,
          -0.4145032971538242,
          -0.5353751210596908,
          -0.49486689136975065,
          -0.5862649876999424,
          -0.5080849139953303,
          -0.13474043339055197,
          -0.5862705095087912,
          -0.09649724393439789,
          -0.5259058711005123,
          -0.30132045146579717,
          -0.5487982739920941,
          -0.6021625616305705,
          -0.5863223257767959,
          -0.21279145772868444,
          -0.18578654762507218,
          -0.5914901685731535,
          -0.5862758091152224,
          -0.5259027919136547,
          -0.18579721932111012,
          -0.5865661020971933,
          -0.5862640533209864,
          -0.20360279156912167,
          -0.059421152191043186,
          0.0873288560236053,
          -0.27395600161069716,
          -0.5863752962941663,
          -0.279938404036166,
          5.645399142810639,
          -0.4679601410780573,
          -0.5258832958709698,
          -0.5003428961821907,
          -0.26400011239363214,
          -0.06904804434703855,
          -0.53507428327542,
          -0.5862632990447161,
          -0.5862635664502169,
          -0.26412468352436336,
          -0.051936329017238124,
          -0.06034812024443062,
          -0.5862687791206519,
          -0.18241350508446216,
          -0.5081303053453154,
          -0.06034311413556752,
          -0.03547133367835629,
          -0.5871733697018838,
          -0.24145857192660977,
          -0.26399934366319033,
          -0.591158548978843,
          -0.26398755128315254,
          -0.6864639731667088,
          -0.5862770952229999,
          -0.3360022834038251,
          -0.46761667898302817,
          -0.1858207203572767,
          -0.09220787685552202,
          -0.18804363071319705,
          -0.35776844431421045,
          -0.18578250072309566,
          -0.5080621897737154,
          -0.26505646066486155,
          -0.3795218629562003,
          -0.18581208070245622,
          -0.5863286581956209,
          -0.203611143314841,
          -0.525896795515128,
          -0.2640429886668474,
          -0.06035066115906281,
          -0.3944838551922471,
          -0.20360786065515468,
          -0.5878497873835238,
          0.30841698421449387,
          -0.17806372885831062,
          -0.21356690911585524,
          -0.21076458076913657,
          -0.5080775361119831,
          0.09302422008501708,
          -0.5862702450231474,
          -0.5080682133648973,
          -0.18577987193111092,
          -0.6038575410740581,
          -0.2036011719102817,
          -0.5862766569088637,
          -0.5004535520679708,
          -0.6871352116696094,
          -0.525913955915574,
          -0.5258926101884304,
          -0.3016486649944095,
          -0.5948682613337989,
          -0.5259817922526923,
          -0.5862769591213789,
          -0.5862747761302604,
          -0.09218059194442053,
          -0.5862667657566747,
          -0.5260942941630796,
          -0.587339412141468,
          -0.4219394995706873,
          -0.5261502203276424,
          -0.5862886904485501,
          -0.5864565449724225,
          -0.525977875201262,
          -0.5863160810265463,
          -0.06033557477218163,
          -0.24332465870789452,
          -0.41449638183971316,
          -0.30122882881421736,
          -0.2687820352882798,
          -0.5863867685427757,
          -0.26973315571583056,
          -0.6020728506486718,
          -0.3015935658199952,
          -0.3016359636578909,
          -0.09265740632799,
          -0.06033782541887786,
          0.06663857174981386,
          -0.20627116660619546,
          -0.5862848853321829,
          -0.2639816910779643
         ]
        },
        {
         "customdata": [
          [
           "SHA-256"
          ],
          [
           "Ethash"
          ],
          [
           "Scrypt"
          ],
          [
           "CryptoNight-V7"
          ],
          [
           "Ethash"
          ],
          [
           "Equihash"
          ],
          [
           "Multiple"
          ],
          [
           "Scrypt"
          ],
          [
           "X11"
          ],
          [
           "Scrypt"
          ],
          [
           "Multiple"
          ],
          [
           "Scrypt"
          ],
          [
           "SHA-256"
          ],
          [
           "Scrypt"
          ],
          [
           "Scrypt"
          ],
          [
           "Quark"
          ],
          [
           "Groestl"
          ],
          [
           "Scrypt"
          ],
          [
           "Scrypt"
          ],
          [
           "Scrypt"
          ],
          [
           "X11"
          ],
          [
           "Scrypt"
          ],
          [
           "Multiple"
          ],
          [
           "SHA-256"
          ],
          [
           "Scrypt"
          ],
          [
           "Scrypt"
          ],
          [
           "Scrypt"
          ],
          [
           "Scrypt"
          ],
          [
           "Scrypt"
          ],
          [
           "NeoScrypt"
          ],
          [
           "Scrypt"
          ],
          [
           "Scrypt"
          ],
          [
           "Scrypt"
          ],
          [
           "Scrypt"
          ],
          [
           "SHA-256"
          ],
          [
           "Scrypt"
          ],
          [
           "Scrypt"
          ],
          [
           "Scrypt"
          ],
          [
           "Scrypt"
          ],
          [
           "HybridScryptHash256"
          ],
          [
           "Scrypt"
          ],
          [
           "Scrypt"
          ],
          [
           "SHA-256"
          ],
          [
           "Scrypt"
          ],
          [
           "Scrypt"
          ],
          [
           "Scrypt"
          ],
          [
           "Scrypt"
          ],
          [
           "SHA-256"
          ],
          [
           "SHA-256"
          ],
          [
           "SHA-256"
          ],
          [
           "SHA-256"
          ],
          [
           "SHA-256"
          ],
          [
           "X11"
          ],
          [
           "Scrypt"
          ],
          [
           "Lyra2REv2"
          ],
          [
           "Scrypt"
          ],
          [
           "SHA-256"
          ],
          [
           "CryptoNight"
          ],
          [
           "CryptoNight"
          ],
          [
           "Shabal256"
          ],
          [
           "Scrypt"
          ],
          [
           "Scrypt"
          ],
          [
           "Scrypt"
          ],
          [
           "Scrypt"
          ],
          [
           "Scrypt"
          ],
          [
           "Scrypt"
          ],
          [
           "Stanford Folding"
          ],
          [
           "Multiple"
          ],
          [
           "QuBit"
          ],
          [
           "Scrypt"
          ],
          [
           "Scrypt"
          ],
          [
           "M7 POW"
          ],
          [
           "Scrypt"
          ],
          [
           "SHA-256"
          ],
          [
           "Scrypt"
          ],
          [
           "X11"
          ],
          [
           "Lyra2RE"
          ],
          [
           "SHA-256"
          ],
          [
           "X11"
          ],
          [
           "Scrypt"
          ],
          [
           "Scrypt"
          ],
          [
           "Ethash"
          ],
          [
           "Blake2b"
          ],
          [
           "X11"
          ],
          [
           "SHA-256"
          ],
          [
           "Scrypt"
          ],
          [
           "1GB AES Pattern Search"
          ],
          [
           "Scrypt"
          ],
          [
           "SHA-256"
          ],
          [
           "X11"
          ],
          [
           "Dagger"
          ],
          [
           "Scrypt"
          ],
          [
           "X11GOST"
          ],
          [
           "Scrypt"
          ],
          [
           "Scrypt"
          ],
          [
           "X11"
          ],
          [
           "Scrypt"
          ],
          [
           "X11"
          ],
          [
           "Equihash"
          ],
          [
           "CryptoNight"
          ],
          [
           "SHA-256"
          ],
          [
           "Multiple"
          ],
          [
           "Scrypt"
          ],
          [
           "SHA-256"
          ],
          [
           "Scrypt"
          ],
          [
           "Lyra2Z"
          ],
          [
           "Ethash"
          ],
          [
           "Equihash"
          ],
          [
           "Scrypt"
          ],
          [
           "X11"
          ],
          [
           "X11"
          ],
          [
           "CryptoNight"
          ],
          [
           "Scrypt"
          ],
          [
           "CryptoNight"
          ],
          [
           "Lyra2RE"
          ],
          [
           "X11"
          ],
          [
           "CryptoNight-V7"
          ],
          [
           "Scrypt"
          ],
          [
           "X11"
          ],
          [
           "Equihash"
          ],
          [
           "Scrypt"
          ],
          [
           "Lyra2RE"
          ],
          [
           "Dagger-Hashimoto"
          ],
          [
           "Scrypt"
          ],
          [
           "NIST5"
          ],
          [
           "Scrypt"
          ],
          [
           "SHA-256"
          ],
          [
           "Scrypt"
          ],
          [
           "CryptoNight-V7"
          ],
          [
           "Argon2d"
          ],
          [
           "Blake2b"
          ],
          [
           "Cloverhash"
          ],
          [
           "CryptoNight"
          ],
          [
           "X11"
          ],
          [
           "Scrypt"
          ],
          [
           "Scrypt"
          ],
          [
           "X11"
          ],
          [
           "X11"
          ],
          [
           "CryptoNight"
          ],
          [
           "Time Travel"
          ],
          [
           "Scrypt"
          ],
          [
           "Keccak"
          ],
          [
           "X11"
          ],
          [
           "SHA-256"
          ],
          [
           "Scrypt"
          ],
          [
           "Scrypt"
          ],
          [
           "Scrypt"
          ],
          [
           "Scrypt"
          ],
          [
           "Scrypt"
          ],
          [
           "Scrypt"
          ],
          [
           "CryptoNight"
          ],
          [
           "Equihash"
          ],
          [
           "X11"
          ],
          [
           "NeoScrypt"
          ],
          [
           "Equihash"
          ],
          [
           "Dagger"
          ],
          [
           "Scrypt"
          ],
          [
           "X11"
          ],
          [
           "NeoScrypt"
          ],
          [
           "Ethash"
          ],
          [
           "NeoScrypt"
          ],
          [
           "Multiple"
          ],
          [
           "CryptoNight"
          ],
          [
           "CryptoNight"
          ],
          [
           "Ethash"
          ],
          [
           "X11"
          ],
          [
           "CryptoNight-V7"
          ],
          [
           "Scrypt"
          ],
          [
           "BLAKE256"
          ],
          [
           "X11"
          ],
          [
           "NeoScrypt"
          ],
          [
           "NeoScrypt"
          ],
          [
           "Scrypt"
          ],
          [
           "X11"
          ],
          [
           "SHA-256"
          ],
          [
           "C11"
          ],
          [
           "CryptoNight"
          ],
          [
           "SkunkHash"
          ],
          [
           "CryptoNight"
          ],
          [
           "Scrypt"
          ],
          [
           "Dagger"
          ],
          [
           "Lyra2REv2"
          ],
          [
           "SHA-256 + Hive"
          ],
          [
           "Scrypt"
          ],
          [
           "Scrypt"
          ],
          [
           "X11"
          ],
          [
           "Ethash"
          ],
          [
           "CryptoNight"
          ],
          [
           "Scrypt"
          ],
          [
           "IMesh"
          ],
          [
           "Equihash"
          ],
          [
           "Lyra2Z"
          ],
          [
           "X11"
          ],
          [
           "CryptoNight"
          ],
          [
           "NIST5"
          ],
          [
           "Lyra2RE"
          ],
          [
           "Tribus"
          ],
          [
           "Lyra2Z"
          ],
          [
           "CryptoNight"
          ],
          [
           "CryptoNight Heavy"
          ],
          [
           "CryptoNight"
          ],
          [
           "Jump Consistent Hash"
          ],
          [
           "CryptoNight"
          ],
          [
           "X16R"
          ],
          [
           "HMQ1725"
          ],
          [
           "X11"
          ],
          [
           "Scrypt"
          ],
          [
           "CryptoNight-V7"
          ],
          [
           "Cryptonight-GPU"
          ],
          [
           "XEVAN"
          ],
          [
           "CryptoNight Heavy"
          ],
          [
           "SHA-256"
          ],
          [
           "X11"
          ],
          [
           "X16R"
          ],
          [
           "Equihash"
          ],
          [
           "Lyra2Z"
          ],
          [
           "SHA-256"
          ],
          [
           "CryptoNight"
          ],
          [
           "Blake"
          ],
          [
           "Blake"
          ],
          [
           "Exosis"
          ],
          [
           "Scrypt"
          ],
          [
           "Equihash"
          ],
          [
           "Equihash"
          ],
          [
           "QuBit"
          ],
          [
           "SHA-256"
          ],
          [
           "X13"
          ],
          [
           "SHA-256"
          ],
          [
           "Scrypt"
          ],
          [
           "NeoScrypt"
          ],
          [
           "Blake"
          ],
          [
           "Scrypt"
          ],
          [
           "SHA-256"
          ],
          [
           "Scrypt"
          ],
          [
           "Groestl"
          ],
          [
           "Scrypt"
          ],
          [
           "Scrypt"
          ],
          [
           "SHA3-256"
          ],
          [
           "Multiple"
          ],
          [
           "Equihash+Scrypt"
          ],
          [
           "Ethash"
          ],
          [
           "CryptoNight"
          ],
          [
           "Equihash"
          ]
         ],
         "hovertemplate": "<b>%{hovertext}</b><br><br>Class=%{marker.color}<br>PCA 1=%{x}<br>PCA 2=%{y}<br>PCA 3=%{z}<br>Algorithm=%{customdata[0]}<extra></extra>",
         "hovertext": [
          "Bitcoin",
          "Ethereum",
          "Litecoin",
          "Monero",
          "Ethereum Classic",
          "ZCash",
          "DigiByte",
          "ProsperCoin",
          "Spreadcoin",
          "Argentum",
          "MyriadCoin",
          "MoonCoin",
          "ZetaCoin",
          "SexCoin",
          "Quatloo",
          "QuarkCoin",
          "Riecoin",
          "Digitalcoin ",
          "Catcoin",
          "CannaCoin",
          "CryptCoin",
          "CasinoCoin",
          "Verge",
          "DevCoin",
          "EarthCoin",
          "E-Gulden",
          "Einsteinium",
          "Emerald",
          "Franko",
          "FeatherCoin",
          "GrandCoin",
          "GlobalCoin",
          "GoldCoin",
          "Infinite Coin",
          "IXcoin",
          "KrugerCoin",
          "LuckyCoin",
          "Litebar ",
          "MegaCoin",
          "MediterraneanCoin",
          "MinCoin",
          "NobleCoin",
          "Namecoin",
          "NyanCoin",
          "RonPaulCoin",
          "StableCoin",
          "SmartCoin",
          "SysCoin",
          "TigerCoin",
          "TerraCoin",
          "UnbreakableCoin",
          "Unobtanium",
          "UroCoin",
          "ViaCoin",
          "Vertcoin",
          "WorldCoin",
          "JouleCoin",
          "ByteCoin",
          "DigitalNote ",
          "BurstCoin",
          "MonaCoin",
          "Gulden",
          "PesetaCoin",
          "Wild Beast Coin",
          "Flo",
          "ArtByte",
          "Folding Coin",
          "Unitus",
          "CypherPunkCoin",
          "OmniCron",
          "GreenCoin",
          "Cryptonite",
          "MasterCoin",
          "SoonCoin",
          "1Credit",
          "MarsCoin ",
          "Crypto",
          "Anarchists Prime",
          "BowsCoin",
          "Song Coin",
          "BitZeny",
          "Expanse",
          "Siacoin",
          "MindCoin",
          "I0coin",
          "Revolution VR",
          "HOdlcoin",
          "Gamecredits",
          "CarpeDiemCoin",
          "Adzcoin",
          "SoilCoin",
          "YoCoin",
          "SibCoin",
          "SafeExchangeCoin",
          "Francs",
          "BolivarCoin",
          "Omni",
          "PizzaCoin",
          "Komodo",
          "Karbo",
          "ZayedCoin",
          "Circuits of Value",
          "DopeCoin",
          "DollarCoin",
          "Shilling",
          "ZCoin",
          "Elementrem",
          "ZClassic",
          "KiloCoin",
          "ArtexCoin",
          "Kurrent",
          "Cannabis Industry Coin",
          "OsmiumCoin",
          "Bikercoins",
          "HexxCoin",
          "PacCoin",
          "Citadel",
          "BeaverCoin",
          "VaultCoin",
          "Zero",
          "Canada eCoin",
          "Zoin",
          "DubaiCoin",
          "EB3coin",
          "Coinonat",
          "BenjiRolls",
          "ILCoin",
          "EquiTrader",
          "Quantum Resistant Ledger",
          "Dynamic",
          "Nano",
          "ChanCoin",
          "Dinastycoin",
          "DigitalPrice",
          "Unify",
          "SocialCoin",
          "ArcticCoin",
          "DAS",
          "LeviarCoin",
          "Bitcore",
          "gCn Coin",
          "SmartCash",
          "Onix",
          "Bitcoin Cash",
          "Sojourn Coin",
          "NewYorkCoin",
          "FrazCoin",
          "Kronecoin",
          "AdCoin",
          "Linx",
          "Sumokoin",
          "BitcoinZ",
          "Elements",
          "VIVO Coin",
          "Bitcoin Gold",
          "Pirl",
          "eBoost",
          "Pura",
          "Innova",
          "Ellaism",
          "GoByte",
          "SHIELD",
          "UltraNote",
          "BitCoal",
          "DaxxCoin",
          "AC3",
          "Lethean",
          "PopularCoin",
          "Photon",
          "Sucre",
          "SparksPay",
          "GunCoin",
          "IrishCoin",
          "Pioneer Coin",
          "UnitedBitcoin",
          "Interzone",
          "TurtleCoin",
          "MUNcoin",
          "Niobio Cash",
          "ShareChain",
          "Travelflex",
          "KREDS",
          "LitecoinCash",
          "BitFlip",
          "LottoCoin",
          "Crypto Improvement Fund",
          "Callisto Network",
          "BitTube",
          "Poseidon",
          "Aidos Kuneen",
          "Bitrolium",
          "Alpenschillling",
          "FuturoCoin",
          "Monero Classic",
          "Jumpcoin",
          "Infinex",
          "KEYCO",
          "GINcoin",
          "PlatinCoin",
          "Loki",
          "Newton Coin",
          "MassGrid",
          "PluraCoin",
          "Motion",
          "PlusOneCoin",
          "Axe",
          "HexCoin",
          "Webchain",
          "Ryo",
          "Urals Coin",
          "Qwertycoin",
          "Project Pai",
          "Azart",
          "Xchange",
          "CrypticCoin",
          "Actinium",
          "Bitcoin SV",
          "FREDEnergy",
          "Universal Molecule",
          "Lithium",
          "Exosis",
          "Block-Logic",
          "Beam",
          "Bithereum",
          "SLICE",
          "BLAST",
          "Bitcoin Rhodium",
          "GlobalToken",
          "SolarCoin",
          "UFO Coin",
          "BlakeCoin",
          "Crypto Escudo",
          "Crown Coin",
          "SmileyCoin",
          "Groestlcoin",
          "Bata",
          "Pakcoin",
          "Fiii",
          "JoinCoin",
          "Vollar",
          "Reality Clash",
          "Beldex",
          "Horizen"
         ],
         "legendgroup": "0",
         "marker": {
          "color": [
           0,
           0,
           0,
           0,
           0,
           0,
           0,
           0,
           0,
           0,
           0,
           0,
           0,
           0,
           0,
           0,
           0,
           0,
           0,
           0,
           0,
           0,
           0,
           0,
           0,
           0,
           0,
           0,
           0,
           0,
           0,
           0,
           0,
           0,
           0,
           0,
           0,
           0,
           0,
           0,
           0,
           0,
           0,
           0,
           0,
           0,
           0,
           0,
           0,
           0,
           0,
           0,
           0,
           0,
           0,
           0,
           0,
           0,
           0,
           0,
           0,
           0,
           0,
           0,
           0,
           0,
           0,
           0,
           0,
           0,
           0,
           0,
           0,
           0,
           0,
           0,
           0,
           0,
           0,
           0,
           0,
           0,
           0,
           0,
           0,
           0,
           0,
           0,
           0,
           0,
           0,
           0,
           0,
           0,
           0,
           0,
           0,
           0,
           0,
           0,
           0,
           0,
           0,
           0,
           0,
           0,
           0,
           0,
           0,
           0,
           0,
           0,
           0,
           0,
           0,
           0,
           0,
           0,
           0,
           0,
           0,
           0,
           0,
           0,
           0,
           0,
           0,
           0,
           0,
           0,
           0,
           0,
           0,
           0,
           0,
           0,
           0,
           0,
           0,
           0,
           0,
           0,
           0,
           0,
           0,
           0,
           0,
           0,
           0,
           0,
           0,
           0,
           0,
           0,
           0,
           0,
           0,
           0,
           0,
           0,
           0,
           0,
           0,
           0,
           0,
           0,
           0,
           0,
           0,
           0,
           0,
           0,
           0,
           0,
           0,
           0,
           0,
           0,
           0,
           0,
           0,
           0,
           0,
           0,
           0,
           0,
           0,
           0,
           0,
           0,
           0,
           0,
           0,
           0,
           0,
           0,
           0,
           0,
           0,
           0,
           0,
           0,
           0,
           0,
           0,
           0,
           0,
           0,
           0,
           0,
           0,
           0,
           0,
           0,
           0,
           0,
           0,
           0,
           0,
           0,
           0,
           0,
           0,
           0,
           0,
           0,
           0,
           0,
           0,
           0,
           0,
           0,
           0,
           0,
           0,
           0,
           0,
           0,
           0,
           0,
           0,
           0,
           0
          ],
          "coloraxis": "coloraxis",
          "symbol": "diamond"
         },
         "mode": "markers",
         "name": "0",
         "scene": "scene",
         "showlegend": true,
         "type": "scatter3d",
         "x": [
          -0.13659670196349605,
          -0.15654116765311973,
          -0.17907085768663314,
          -0.17945306639396022,
          -0.15498708761623084,
          -0.12316463232478518,
          0.12807029917336568,
          -0.18021491960336442,
          -0.19744778048767517,
          -0.1798323528227163,
          -0.1248156917923044,
          2.534718512215768,
          -0.1336870905757898,
          -0.17709323207660518,
          -0.17963694459690155,
          -0.24575170688430942,
          -0.21549618675348933,
          -0.17968525306897692,
          -0.1801972120018433,
          -0.18028347960443147,
          -0.19753697488541633,
          0.5743404161615577,
          0.15181764682976043,
          0.24052991293523215,
          0.06797530255865858,
          -0.18003021109177383,
          -0.17564416066683117,
          -0.17996967791803783,
          -0.18034038345217288,
          -0.17856075177990888,
          -0.15960423098891116,
          -0.17913772370475645,
          -0.17941477554669316,
          1.5652854134647962,
          -0.1365581288594557,
          -0.1767096529310156,
          -0.18005660583407704,
          -0.18041075142655882,
          -0.17967140918835625,
          -0.22521406233198454,
          -0.18029225954690412,
          -0.045511177683398414,
          -0.1366356239507357,
          -0.17396806007387414,
          -0.18027181427225855,
          -0.17837070700435753,
          -0.17975954795183863,
          -0.12381333756100531,
          -0.136100385365717,
          -0.13638712535919204,
          -0.13637042141753877,
          -0.1369596492116503,
          -0.19771047520416535,
          -0.179988740469846,
          -0.1777355503408292,
          -0.17709805501566353,
          -0.13616756490695991,
          3.855872611628138,
          0.46121273944538116,
          -0.19681940415506888,
          -0.17885863688053566,
          -0.16349229245148617,
          -0.17757982126171723,
          -0.1804129670645251,
          -0.1774450133633046,
          -0.16369546258434162,
          -0.11262546108885158,
          -0.15875664803992542,
          -0.19047552963766134,
          -0.18028623908182267,
          -0.05348842191795934,
          -0.17311473934038887,
          -0.18042183127220726,
          -0.13666336017035238,
          0.47007254159881895,
          -0.19709882092086656,
          -0.14516057272977656,
          -0.1364038557804267,
          -0.19738320579404375,
          -0.17854998126252458,
          -0.17774372340003858,
          -0.15760716601943053,
          0.3660926539273759,
          -0.1974185122844552,
          -0.13655924954205675,
          -0.1763872789474395,
          -0.17153739379282726,
          -0.17898794768208687,
          0.28113966986148897,
          -0.19658099410516255,
          -0.19481427812895208,
          -0.17923564117617577,
          -0.10418346945983764,
          -0.15503951610317618,
          -0.1802122012161839,
          -0.1973818781821483,
          -0.18042188965726344,
          -0.19753162636461394,
          -0.10775808302061442,
          0.3064232425927144,
          -0.13681886309661315,
          -0.13886778148778145,
          -0.17759431462503938,
          -0.13677756105303282,
          -0.18008601153318687,
          -0.1518338751053954,
          -0.1573497762289755,
          -0.12318621726878275,
          -0.10733217852146057,
          -0.18413845980583265,
          -0.19536453508862162,
          0.3064175318106124,
          -0.18040367047917172,
          0.3065480233931722,
          -0.14569979331390034,
          0.5158959648293252,
          -0.17822100279925526,
          -0.18037200959927777,
          -0.1902838417381713,
          -0.1231985434790323,
          -0.17850877859663924,
          -0.1454186748175724,
          -0.15991498786365949,
          -0.15136906975154388,
          -0.16164176856075926,
          -0.17993527991270167,
          -0.10321283362959034,
          -0.17975788481110594,
          -0.17807834530863748,
          -0.1106592382358774,
          -0.0336184075029879,
          -0.16349024064955325,
          0.34247093176279375,
          -0.1965894961309467,
          -0.1800762734408679,
          -0.1798404268120256,
          -0.19698328755491187,
          -0.1975595712014788,
          0.30681168324548813,
          -0.16876682123127487,
          3.2227008199178826,
          -0.06892428773864147,
          -0.18845342943875418,
          -0.13659586742203914,
          -0.10618540407908687,
          1.5640025445018073,
          -0.18017398112635352,
          -0.1796269225961799,
          -0.1793284629098982,
          -0.1793154132448838,
          0.30699475652872976,
          0.08865373156814155,
          -0.15202771850252472,
          -0.18324018857020652,
          -0.12304485363225601,
          -0.19357617226868984,
          -0.17850699041107665,
          -0.19311312091891752,
          -0.18308596623712386,
          -0.15571932628584229,
          -0.18318592268272116,
          -0.1490079633539974,
          1.1424725649768688,
          0.3064003913794973,
          -0.08079365293008071,
          -0.19285659223981408,
          -0.16721335113922856,
          -0.09672376057480311,
          1.0669490761919649,
          -0.19753361523070687,
          -0.18323770544610066,
          -0.17628953956189292,
          -0.1794264273495961,
          -0.19745915766417677,
          -0.1365752891063352,
          -0.22347483349784755,
          8.025181103866622,
          -0.11351337272207783,
          0.31026662006992867,
          0.012256186462759772,
          -0.1930796993778537,
          -0.16332273477158935,
          -0.2862947502949287,
          -0.17999911853634612,
          0.12648217505383344,
          -0.191612378680249,
          -0.10887467413481249,
          0.31430428592590515,
          -0.18023563348725724,
          -0.14630075018682417,
          -0.12203781367177449,
          -0.14962278835427914,
          -0.19663020808025466,
          0.3065825945682834,
          -0.16170093529727037,
          -0.14554538485595392,
          -0.1725352635357629,
          -0.1519180437918833,
          0.3105005726418264,
          0.6084143913280071,
          2.110989963616053,
          -0.13285044499889187,
          0.320159913135474,
          -0.18862345246639195,
          -0.22897522966087755,
          -0.19751581100865975,
          -0.18026018724580425,
          -0.16709909827566236,
          -0.15897290983727705,
          -0.2534798961638052,
          3.1258311965843446,
          -0.09649897723320369,
          -0.19748724943333135,
          -0.188052614961094,
          -0.018004685992988826,
          -0.15131724697523116,
          -0.13659590493176965,
          0.38616331447534485,
          -0.17266111931842676,
          -0.17305195624368783,
          -0.2521807522345966,
          -0.17915486981863255,
          -0.12110966891921822,
          -0.12287799542081386,
          -0.18968843180765982,
          -0.13587344709326793,
          -0.11629161856114768,
          -0.1347438537206322,
          0.5138805895336358,
          -0.10854447603012252,
          -0.12364376835549827,
          -0.1638458253713822,
          -0.1363864967438577,
          0.5339756591967952,
          -0.21505799721222205,
          -0.1803367819215797,
          -0.1782968679979705,
          0.2184883630921638,
          -0.15949046481667978,
          -0.1804228987876832,
          -0.15738287255803868,
          0.32811471785738056,
          -0.12316568770527508
         ],
         "y": [
          -1.268501070897203,
          -1.949418464322502,
          -1.2414199017703638,
          -2.1510177839463673,
          -1.9494982752258574,
          -1.7942698823279302,
          -1.7345079352926145,
          -1.2414206855217014,
          -0.8028004242415347,
          -1.2414346802998781,
          -1.731382794021755,
          -1.391973013815252,
          -1.2684916494040468,
          -1.2414556615044863,
          -1.2414509523966306,
          -0.379704256466212,
          -1.1132583790019412,
          -1.2414190219153127,
          -1.2414200395615762,
          -1.2414180774427073,
          -0.8028023779621507,
          -0.3571798691987086,
          -1.7307523449753297,
          -1.2683803810441823,
          -1.241128406942971,
          -1.2414139474926624,
          -1.2414351661688672,
          -1.241418889423019,
          -1.2414189155077202,
          -1.594796134509735,
          -1.2415785864276905,
          -1.241413240820512,
          -1.241424807198178,
          -1.2366235980474494,
          -1.2684996637790713,
          -1.2414516925326566,
          -1.241414260340901,
          -1.2414150565788453,
          -1.2414145089249053,
          -2.1260656066402155,
          -1.2414163566897995,
          -1.2462433277584737,
          -1.2685024907423281,
          -1.2413982086272002,
          -1.2414227609968809,
          -1.2415022628391286,
          -1.2414237042747167,
          -1.2685983039560647,
          -1.2684998737366648,
          -1.268507075957298,
          -1.2685311670779749,
          -1.268500823187127,
          -0.8027970069029544,
          -1.2414137346998715,
          -1.2047625626745182,
          -1.241465861151648,
          -1.2685010165923518,
          -2.2327254222452995,
          -2.243154102657397,
          -0.856779654705173,
          -1.2414258883734317,
          -1.241889026962024,
          -1.2414190617859757,
          -1.2414159681194101,
          -1.2414099931155138,
          -1.2414544300818666,
          -2.1699970876017756,
          -1.7313209102126081,
          -1.4775343484866834,
          -1.24141182835512,
          -1.2432842701075,
          -2.000764736045536,
          -1.2414149859150712,
          -1.268503502538978,
          -1.2774861657775758,
          -0.8027961446163577,
          -2.1546690973900646,
          -1.2685153304154588,
          -0.8027987186170856,
          -1.2414829581409321,
          -1.2414793909438564,
          -1.9494683405158575,
          -2.2123785394680966,
          -0.8027967565099963,
          -1.2684997046607385,
          -1.2414039083670476,
          -2.162064865300259,
          -1.2414168772751064,
          -1.2673060570478383,
          -0.8028104053076532,
          -2.1209715876205193,
          -1.2414807423333678,
          -2.184156523271067,
          -0.35918250445877775,
          -1.2414199363446436,
          -0.8028012702360587,
          -1.2414149860753771,
          -0.8028067329383097,
          -0.5348435654707846,
          -2.2423070852606983,
          -1.268501853431263,
          -1.731375393942591,
          -1.2414414400070988,
          -1.2685009332682642,
          -1.2414218331620883,
          -2.1896120431423305,
          -1.9494649956846923,
          -1.7942706697306245,
          -1.2452484502768104,
          -0.8026269160401676,
          -0.8028596315616567,
          -2.242314443721264,
          -1.2414156850738582,
          -2.242312283534713,
          -2.1546525041528835,
          -0.8417664067270713,
          -2.151093091461955,
          -1.2414149498305755,
          -0.8031761011579276,
          -1.7942685193323336,
          -1.2414097977405447,
          -2.154649399295486,
          -2.135332633371697,
          -1.2429548093951677,
          -0.5902153994787925,
          -1.2414199229127438,
          -1.2688946327585737,
          -1.241437163860769,
          -2.1510358864375245,
          -2.15175481440368,
          -2.22718088924595,
          -2.125459351779401,
          -2.242285616897539,
          -0.8028211156522945,
          -1.241414507711653,
          -1.2414421249684837,
          -0.8028094803777032,
          -0.8028037872700289,
          -2.242321515776708,
          -2.2223773908858084,
          -1.2472736649554192,
          -1.1768812905757935,
          -0.8031743303111502,
          -1.2685010404537487,
          -1.2455316229569873,
          -1.177779280253525,
          -1.241418542104211,
          -1.2414401866044347,
          -1.2414396992142671,
          -1.2414392231721991,
          -2.2423375156065,
          -1.8001795144459447,
          -0.8023005561066647,
          -1.5947659830754348,
          -1.7942655128903693,
          -2.121008523372112,
          -1.2414097325088658,
          -0.8028568031509383,
          -1.5947720573812019,
          -1.9495704876097562,
          -1.5947671235553658,
          -1.7313942935794944,
          -2.2670531749864202,
          -2.242309543886742,
          -1.9531553745258625,
          -0.8029774476389915,
          -2.1512209635386865,
          -1.2416114015006319,
          -1.1883087917023167,
          -0.8028034254266174,
          -1.594761992419015,
          -1.594819884398252,
          -1.2414198724407164,
          -0.8028027893094167,
          -1.268499747661835,
          -1.11775129912901,
          -2.61073835957561,
          -2.1975852815042543,
          -2.2423787857259128,
          -1.2408859557222054,
          -2.120953812340761,
          -1.2048972064026873,
          -0.25324069157814577,
          -1.2414251634933984,
          -1.242183717110436,
          -0.8028995590384684,
          -1.9519047061722825,
          -2.2426631028587294,
          -1.2414214411487705,
          -2.296501268019222,
          -1.7942606274255908,
          -2.1897124777746346,
          -0.8028226007939069,
          -2.242306732322683,
          -0.5901998437016507,
          -2.1546574536484187,
          -2.075969769228392,
          -2.1896080284191206,
          -2.2425418548985343,
          -2.21550939409802,
          -2.2960736004335973,
          -2.113887719101633,
          -2.2424494939359976,
          -1.227554302608397,
          -1.9247039412791371,
          -0.8028035559566272,
          -1.241423055286172,
          -2.1517046419378127,
          -2.118801394702343,
          -0.15778992076669454,
          -2.243486172779721,
          -1.268389711347112,
          -0.8028051141008823,
          -1.2275841306358077,
          -1.795360169096619,
          -2.189633887703656,
          -1.2685010418220757,
          -2.2446438261788524,
          -2.0974613719753648,
          -2.097423699150593,
          -2.13278769055214,
          -1.2414463669138243,
          -1.7943520917704348,
          -1.7942658520487587,
          -1.4775706369752957,
          -1.2685026376274156,
          -0.25775845603270875,
          -1.2685290321827913,
          -1.279853155923996,
          -1.5946236380065044,
          -2.1001550124136013,
          -1.2414599152044352,
          -1.2685070530258789,
          -1.2478545103014087,
          -1.1132560444322377,
          -1.2414147307713095,
          -1.2414553684095881,
          -0.5353621756032423,
          -1.7313494993369904,
          -2.0525675729672295,
          -1.94946508655624,
          -2.2424194582058132,
          -1.794269920827426
         ],
         "z": [
          0.15710539467916695,
          0.33657642234559054,
          -0.014721544180880836,
          0.4431847524616578,
          0.3365606924801324,
          0.34232372509236636,
          0.3851390700454008,
          -0.014693690626471429,
          0.045686086582779145,
          -0.014699107781340233,
          0.39039431992709284,
          -0.039132481681398115,
          0.1570325263210757,
          -0.014759547161472977,
          -0.014699380913522594,
          0.06338962327295454,
          0.18434476920639375,
          -0.014706941531709474,
          -0.014694294986573521,
          -0.014692747167002687,
          0.045688775444380526,
          -0.2667224174376793,
          0.3835388270599194,
          0.1479614250794471,
          -0.0207695941938708,
          -0.014699994724446037,
          -0.014800157277898601,
          -0.014700106342310906,
          -0.014691143358089052,
          0.3017356823342818,
          -0.01514846335205448,
          -0.01472174943540354,
          -0.014711894666134193,
          -0.058174345226346305,
          0.15710407817985916,
          -0.01476989888535913,
          -0.014699271543140727,
          -0.01469049812023127,
          -0.014708509540907229,
          0.46552856235710727,
          -0.014693005393874133,
          -0.016629796671494196,
          0.1571067230858451,
          -0.01485075186741927,
          -0.014691748812508228,
          -0.014715946966575074,
          -0.014703866795734261,
          0.15682313923239205,
          0.15709307696889982,
          0.15710197291931285,
          0.1571081543024283,
          0.15711409539384813,
          0.04569149893353032,
          -0.014701054774489894,
          0.19203318131236835,
          -0.014756642729624294,
          0.15709501233750572,
          0.37126194976715515,
          0.4561238661600858,
          0.015705336058613992,
          -0.014725034866808314,
          -0.01496967780532776,
          -0.0147577956435795,
          -0.014690195437337208,
          -0.014763531239958968,
          -0.015083559719441718,
          0.4182786021174176,
          0.39119738262511994,
          0.2405876583055489,
          -0.01469438859172866,
          -0.017245887205034175,
          0.3530085598844041,
          -0.01469024975769921,
          0.1571076697224914,
          -0.020546011772878108,
          0.04567648631911541,
          0.4299717805000297,
          0.1571046333362361,
          0.04568406032046355,
          -0.014716892528402947,
          -0.014737345905021772,
          0.3366158086216446,
          0.4970871300733182,
          0.04568437697658033,
          0.1571041164287352,
          -0.014790748158111025,
          0.44824212156873994,
          -0.01472437389776266,
          0.14668668648519417,
          0.04566787410779579,
          0.41436267627692286,
          -0.014700933365191392,
          0.3368957465800498,
          -0.24855397906844548,
          -0.014693961075719592,
          0.0456847256920766,
          -0.014690248303360536,
          0.045689836594685625,
          0.14872308430275197,
          0.459631897986324,
          0.15711097575112,
          0.3907317808838366,
          -0.014751328760930047,
          0.15710972642511922,
          -0.014696491219737599,
          0.4611250709910665,
          0.3366086760985002,
          0.34232446178609427,
          -0.015408200819997471,
          0.045317121679764545,
          0.045651940972119644,
          0.45963404727340745,
          -0.014690497399119882,
          0.45963030428116747,
          0.42998027199711303,
          0.039103199297157644,
          0.4431755712425895,
          -0.01469146325985874,
          0.0456156988205023,
          0.34232417179643304,
          -0.014737885197575443,
          0.4299726318065768,
          0.4692047119131819,
          -0.01497124703533138,
          0.03650015728923944,
          -0.014700654873484287,
          0.15640644966804243,
          -0.014700228007191575,
          0.4431564886855255,
          0.5375855353325076,
          0.5107897191915127,
          0.47791941150535366,
          0.45875515582641524,
          0.04567100701369987,
          -0.01469872877957942,
          -0.014696877838039685,
          0.045677340277666616,
          0.04568970655988734,
          0.45962645802705754,
          0.5062459124111051,
          -0.09530472186321243,
          0.1758629351468273,
          0.045570993958204416,
          0.1571053661962797,
          -0.015358504837125832,
          -0.0742275304661021,
          -0.014695265526655843,
          -0.014702565696142107,
          -0.014709909387611074,
          -0.014710354772429242,
          0.4596264084741319,
          0.33882172294385626,
          0.04445215466107101,
          0.30184049116227984,
          0.34231963704787804,
          0.41434286075889587,
          -0.014737946228314707,
          0.04559677608042426,
          0.3018384256304125,
          0.33659812072412854,
          0.3018394918881536,
          0.3909819228948472,
          0.44619778722426506,
          0.4596331220746585,
          0.33576786856803637,
          0.04562355491058286,
          0.4429445898396209,
          -0.016658619649172313,
          0.1545616521082835,
          0.0456889805867712,
          0.301839340388829,
          0.30168730390688236,
          -0.01471296200998875,
          0.04568700789783225,
          0.15710451568135606,
          0.10361215263640657,
          0.37385980821651793,
          0.4293014586702724,
          0.45955864424939374,
          -0.019489749434047802,
          0.4143159120894375,
          0.19172178566944456,
          7.063769037523834,
          -0.014697680168606881,
          -0.021894605869453434,
          0.04557220638827611,
          0.3361044256768165,
          0.4595388121657492,
          -0.014692983662009522,
          0.40949660160958734,
          0.34229397265977485,
          0.4610991057121265,
          0.045672396511752505,
          0.459627951740701,
          0.036497334765673475,
          0.4299778945193032,
          0.4883415460708428,
          0.46112600705560475,
          0.4595975646213989,
          0.48148260472181426,
          0.4307317106913612,
          0.36645645349326506,
          0.45933895972086647,
          0.21382019749028208,
          0.44057775828582035,
          0.04568858613390705,
          -0.014691949269797997,
          0.443074035570055,
          0.41155055519821926,
          0.07121439488931025,
          0.42831148900578603,
          0.15610623757923814,
          0.045688322010868046,
          0.21381455968558863,
          0.3400811847108599,
          0.4611185606715076,
          0.15710536747648624,
          0.4583441737705081,
          0.4234733922312051,
          0.4234725371586926,
          0.4648771040977013,
          -0.014712280701594672,
          0.34229655001680076,
          0.3423156986332959,
          0.24057856174617614,
          0.1570883498463014,
          -0.030500601691008083,
          0.1570682746035777,
          -0.02095738806570538,
          0.29999701379063975,
          0.4230254494473155,
          -0.015078427840390375,
          0.15710195146468356,
          -0.030189195263306122,
          0.18433354489136836,
          -0.014692374199803486,
          -0.01473054870114039,
          2.906888561937815,
          0.39122292525578944,
          0.5224267461764579,
          0.3366095005091954,
          0.45913857023700294,
          0.3423237611124837
         ]
        },
        {
         "customdata": [
          [
           "VeChainThor Authority"
          ],
          [
           "Proof-of-Authority"
          ],
          [
           "ECC 256K1"
          ],
          [
           "Leased POS"
          ]
         ],
         "hovertemplate": "<b>%{hovertext}</b><br><br>Class=%{marker.color}<br>PCA 1=%{x}<br>PCA 2=%{y}<br>PCA 3=%{z}<br>Algorithm=%{customdata[0]}<extra></extra>",
         "hovertext": [
          "Vechain",
          "Poa Network",
          "Acute Angle Cloud",
          "Waves"
         ],
         "legendgroup": "3",
         "marker": {
          "color": [
           3,
           3,
           3,
           3
          ],
          "coloraxis": "coloraxis",
          "symbol": "square"
         },
         "mode": "markers",
         "name": "3",
         "scene": "scene",
         "showlegend": true,
         "type": "scatter3d",
         "x": [
          4.153616916136931,
          0.01818564248823273,
          -0.28930591934803596,
          -0.6339003592615068
         ],
         "y": [
          3.7323284319957075,
          3.6545332484590065,
          3.778912215176499,
          3.77360268972602
         ],
         "z": [
          9.627816321716077,
          10.553727495897958,
          15.807247515062205,
          21.195850515848893
         ]
        },
        {
         "customdata": [
          [
           "TRC10"
          ]
         ],
         "hovertemplate": "<b>%{hovertext}</b><br><br>Class=%{marker.color}<br>PCA 1=%{x}<br>PCA 2=%{y}<br>PCA 3=%{z}<br>Algorithm=%{customdata[0]}<extra></extra>",
         "hovertext": [
          "BitTorrent"
         ],
         "legendgroup": "2",
         "marker": {
          "color": [
           2
          ],
          "coloraxis": "coloraxis",
          "symbol": "x"
         },
         "mode": "markers",
         "name": "2",
         "scene": "scene",
         "showlegend": true,
         "type": "scatter3d",
         "x": [
          34.06121676064401
         ],
         "y": [
          1.7746500202931856
         ],
         "z": [
          -1.2974531996924965
         ]
        }
       ],
       "layout": {
        "coloraxis": {
         "colorbar": {
          "title": {
           "text": "Class"
          }
         },
         "colorscale": [
          [
           0,
           "#0d0887"
          ],
          [
           0.1111111111111111,
           "#46039f"
          ],
          [
           0.2222222222222222,
           "#7201a8"
          ],
          [
           0.3333333333333333,
           "#9c179e"
          ],
          [
           0.4444444444444444,
           "#bd3786"
          ],
          [
           0.5555555555555556,
           "#d8576b"
          ],
          [
           0.6666666666666666,
           "#ed7953"
          ],
          [
           0.7777777777777778,
           "#fb9f3a"
          ],
          [
           0.8888888888888888,
           "#fdca26"
          ],
          [
           1,
           "#f0f921"
          ]
         ]
        },
        "legend": {
         "title": {
          "text": "Class"
         },
         "tracegroupgap": 0,
         "x": 0,
         "y": 1
        },
        "margin": {
         "t": 60
        },
        "scene": {
         "domain": {
          "x": [
           0,
           1
          ],
          "y": [
           0,
           1
          ]
         },
         "xaxis": {
          "title": {
           "text": "PCA 1"
          }
         },
         "yaxis": {
          "title": {
           "text": "PCA 2"
          }
         },
         "zaxis": {
          "title": {
           "text": "PCA 3"
          }
         }
        },
        "template": {
         "data": {
          "bar": [
           {
            "error_x": {
             "color": "#2a3f5f"
            },
            "error_y": {
             "color": "#2a3f5f"
            },
            "marker": {
             "line": {
              "color": "#E5ECF6",
              "width": 0.5
             }
            },
            "type": "bar"
           }
          ],
          "barpolar": [
           {
            "marker": {
             "line": {
              "color": "#E5ECF6",
              "width": 0.5
             }
            },
            "type": "barpolar"
           }
          ],
          "carpet": [
           {
            "aaxis": {
             "endlinecolor": "#2a3f5f",
             "gridcolor": "white",
             "linecolor": "white",
             "minorgridcolor": "white",
             "startlinecolor": "#2a3f5f"
            },
            "baxis": {
             "endlinecolor": "#2a3f5f",
             "gridcolor": "white",
             "linecolor": "white",
             "minorgridcolor": "white",
             "startlinecolor": "#2a3f5f"
            },
            "type": "carpet"
           }
          ],
          "choropleth": [
           {
            "colorbar": {
             "outlinewidth": 0,
             "ticks": ""
            },
            "type": "choropleth"
           }
          ],
          "contour": [
           {
            "colorbar": {
             "outlinewidth": 0,
             "ticks": ""
            },
            "colorscale": [
             [
              0,
              "#0d0887"
             ],
             [
              0.1111111111111111,
              "#46039f"
             ],
             [
              0.2222222222222222,
              "#7201a8"
             ],
             [
              0.3333333333333333,
              "#9c179e"
             ],
             [
              0.4444444444444444,
              "#bd3786"
             ],
             [
              0.5555555555555556,
              "#d8576b"
             ],
             [
              0.6666666666666666,
              "#ed7953"
             ],
             [
              0.7777777777777778,
              "#fb9f3a"
             ],
             [
              0.8888888888888888,
              "#fdca26"
             ],
             [
              1,
              "#f0f921"
             ]
            ],
            "type": "contour"
           }
          ],
          "contourcarpet": [
           {
            "colorbar": {
             "outlinewidth": 0,
             "ticks": ""
            },
            "type": "contourcarpet"
           }
          ],
          "heatmap": [
           {
            "colorbar": {
             "outlinewidth": 0,
             "ticks": ""
            },
            "colorscale": [
             [
              0,
              "#0d0887"
             ],
             [
              0.1111111111111111,
              "#46039f"
             ],
             [
              0.2222222222222222,
              "#7201a8"
             ],
             [
              0.3333333333333333,
              "#9c179e"
             ],
             [
              0.4444444444444444,
              "#bd3786"
             ],
             [
              0.5555555555555556,
              "#d8576b"
             ],
             [
              0.6666666666666666,
              "#ed7953"
             ],
             [
              0.7777777777777778,
              "#fb9f3a"
             ],
             [
              0.8888888888888888,
              "#fdca26"
             ],
             [
              1,
              "#f0f921"
             ]
            ],
            "type": "heatmap"
           }
          ],
          "heatmapgl": [
           {
            "colorbar": {
             "outlinewidth": 0,
             "ticks": ""
            },
            "colorscale": [
             [
              0,
              "#0d0887"
             ],
             [
              0.1111111111111111,
              "#46039f"
             ],
             [
              0.2222222222222222,
              "#7201a8"
             ],
             [
              0.3333333333333333,
              "#9c179e"
             ],
             [
              0.4444444444444444,
              "#bd3786"
             ],
             [
              0.5555555555555556,
              "#d8576b"
             ],
             [
              0.6666666666666666,
              "#ed7953"
             ],
             [
              0.7777777777777778,
              "#fb9f3a"
             ],
             [
              0.8888888888888888,
              "#fdca26"
             ],
             [
              1,
              "#f0f921"
             ]
            ],
            "type": "heatmapgl"
           }
          ],
          "histogram": [
           {
            "marker": {
             "colorbar": {
              "outlinewidth": 0,
              "ticks": ""
             }
            },
            "type": "histogram"
           }
          ],
          "histogram2d": [
           {
            "colorbar": {
             "outlinewidth": 0,
             "ticks": ""
            },
            "colorscale": [
             [
              0,
              "#0d0887"
             ],
             [
              0.1111111111111111,
              "#46039f"
             ],
             [
              0.2222222222222222,
              "#7201a8"
             ],
             [
              0.3333333333333333,
              "#9c179e"
             ],
             [
              0.4444444444444444,
              "#bd3786"
             ],
             [
              0.5555555555555556,
              "#d8576b"
             ],
             [
              0.6666666666666666,
              "#ed7953"
             ],
             [
              0.7777777777777778,
              "#fb9f3a"
             ],
             [
              0.8888888888888888,
              "#fdca26"
             ],
             [
              1,
              "#f0f921"
             ]
            ],
            "type": "histogram2d"
           }
          ],
          "histogram2dcontour": [
           {
            "colorbar": {
             "outlinewidth": 0,
             "ticks": ""
            },
            "colorscale": [
             [
              0,
              "#0d0887"
             ],
             [
              0.1111111111111111,
              "#46039f"
             ],
             [
              0.2222222222222222,
              "#7201a8"
             ],
             [
              0.3333333333333333,
              "#9c179e"
             ],
             [
              0.4444444444444444,
              "#bd3786"
             ],
             [
              0.5555555555555556,
              "#d8576b"
             ],
             [
              0.6666666666666666,
              "#ed7953"
             ],
             [
              0.7777777777777778,
              "#fb9f3a"
             ],
             [
              0.8888888888888888,
              "#fdca26"
             ],
             [
              1,
              "#f0f921"
             ]
            ],
            "type": "histogram2dcontour"
           }
          ],
          "mesh3d": [
           {
            "colorbar": {
             "outlinewidth": 0,
             "ticks": ""
            },
            "type": "mesh3d"
           }
          ],
          "parcoords": [
           {
            "line": {
             "colorbar": {
              "outlinewidth": 0,
              "ticks": ""
             }
            },
            "type": "parcoords"
           }
          ],
          "pie": [
           {
            "automargin": true,
            "type": "pie"
           }
          ],
          "scatter": [
           {
            "marker": {
             "colorbar": {
              "outlinewidth": 0,
              "ticks": ""
             }
            },
            "type": "scatter"
           }
          ],
          "scatter3d": [
           {
            "line": {
             "colorbar": {
              "outlinewidth": 0,
              "ticks": ""
             }
            },
            "marker": {
             "colorbar": {
              "outlinewidth": 0,
              "ticks": ""
             }
            },
            "type": "scatter3d"
           }
          ],
          "scattercarpet": [
           {
            "marker": {
             "colorbar": {
              "outlinewidth": 0,
              "ticks": ""
             }
            },
            "type": "scattercarpet"
           }
          ],
          "scattergeo": [
           {
            "marker": {
             "colorbar": {
              "outlinewidth": 0,
              "ticks": ""
             }
            },
            "type": "scattergeo"
           }
          ],
          "scattergl": [
           {
            "marker": {
             "colorbar": {
              "outlinewidth": 0,
              "ticks": ""
             }
            },
            "type": "scattergl"
           }
          ],
          "scattermapbox": [
           {
            "marker": {
             "colorbar": {
              "outlinewidth": 0,
              "ticks": ""
             }
            },
            "type": "scattermapbox"
           }
          ],
          "scatterpolar": [
           {
            "marker": {
             "colorbar": {
              "outlinewidth": 0,
              "ticks": ""
             }
            },
            "type": "scatterpolar"
           }
          ],
          "scatterpolargl": [
           {
            "marker": {
             "colorbar": {
              "outlinewidth": 0,
              "ticks": ""
             }
            },
            "type": "scatterpolargl"
           }
          ],
          "scatterternary": [
           {
            "marker": {
             "colorbar": {
              "outlinewidth": 0,
              "ticks": ""
             }
            },
            "type": "scatterternary"
           }
          ],
          "surface": [
           {
            "colorbar": {
             "outlinewidth": 0,
             "ticks": ""
            },
            "colorscale": [
             [
              0,
              "#0d0887"
             ],
             [
              0.1111111111111111,
              "#46039f"
             ],
             [
              0.2222222222222222,
              "#7201a8"
             ],
             [
              0.3333333333333333,
              "#9c179e"
             ],
             [
              0.4444444444444444,
              "#bd3786"
             ],
             [
              0.5555555555555556,
              "#d8576b"
             ],
             [
              0.6666666666666666,
              "#ed7953"
             ],
             [
              0.7777777777777778,
              "#fb9f3a"
             ],
             [
              0.8888888888888888,
              "#fdca26"
             ],
             [
              1,
              "#f0f921"
             ]
            ],
            "type": "surface"
           }
          ],
          "table": [
           {
            "cells": {
             "fill": {
              "color": "#EBF0F8"
             },
             "line": {
              "color": "white"
             }
            },
            "header": {
             "fill": {
              "color": "#C8D4E3"
             },
             "line": {
              "color": "white"
             }
            },
            "type": "table"
           }
          ]
         },
         "layout": {
          "annotationdefaults": {
           "arrowcolor": "#2a3f5f",
           "arrowhead": 0,
           "arrowwidth": 1
          },
          "autotypenumbers": "strict",
          "coloraxis": {
           "colorbar": {
            "outlinewidth": 0,
            "ticks": ""
           }
          },
          "colorscale": {
           "diverging": [
            [
             0,
             "#8e0152"
            ],
            [
             0.1,
             "#c51b7d"
            ],
            [
             0.2,
             "#de77ae"
            ],
            [
             0.3,
             "#f1b6da"
            ],
            [
             0.4,
             "#fde0ef"
            ],
            [
             0.5,
             "#f7f7f7"
            ],
            [
             0.6,
             "#e6f5d0"
            ],
            [
             0.7,
             "#b8e186"
            ],
            [
             0.8,
             "#7fbc41"
            ],
            [
             0.9,
             "#4d9221"
            ],
            [
             1,
             "#276419"
            ]
           ],
           "sequential": [
            [
             0,
             "#0d0887"
            ],
            [
             0.1111111111111111,
             "#46039f"
            ],
            [
             0.2222222222222222,
             "#7201a8"
            ],
            [
             0.3333333333333333,
             "#9c179e"
            ],
            [
             0.4444444444444444,
             "#bd3786"
            ],
            [
             0.5555555555555556,
             "#d8576b"
            ],
            [
             0.6666666666666666,
             "#ed7953"
            ],
            [
             0.7777777777777778,
             "#fb9f3a"
            ],
            [
             0.8888888888888888,
             "#fdca26"
            ],
            [
             1,
             "#f0f921"
            ]
           ],
           "sequentialminus": [
            [
             0,
             "#0d0887"
            ],
            [
             0.1111111111111111,
             "#46039f"
            ],
            [
             0.2222222222222222,
             "#7201a8"
            ],
            [
             0.3333333333333333,
             "#9c179e"
            ],
            [
             0.4444444444444444,
             "#bd3786"
            ],
            [
             0.5555555555555556,
             "#d8576b"
            ],
            [
             0.6666666666666666,
             "#ed7953"
            ],
            [
             0.7777777777777778,
             "#fb9f3a"
            ],
            [
             0.8888888888888888,
             "#fdca26"
            ],
            [
             1,
             "#f0f921"
            ]
           ]
          },
          "colorway": [
           "#636efa",
           "#EF553B",
           "#00cc96",
           "#ab63fa",
           "#FFA15A",
           "#19d3f3",
           "#FF6692",
           "#B6E880",
           "#FF97FF",
           "#FECB52"
          ],
          "font": {
           "color": "#2a3f5f"
          },
          "geo": {
           "bgcolor": "white",
           "lakecolor": "white",
           "landcolor": "#E5ECF6",
           "showlakes": true,
           "showland": true,
           "subunitcolor": "white"
          },
          "hoverlabel": {
           "align": "left"
          },
          "hovermode": "closest",
          "mapbox": {
           "style": "light"
          },
          "paper_bgcolor": "white",
          "plot_bgcolor": "#E5ECF6",
          "polar": {
           "angularaxis": {
            "gridcolor": "white",
            "linecolor": "white",
            "ticks": ""
           },
           "bgcolor": "#E5ECF6",
           "radialaxis": {
            "gridcolor": "white",
            "linecolor": "white",
            "ticks": ""
           }
          },
          "scene": {
           "xaxis": {
            "backgroundcolor": "#E5ECF6",
            "gridcolor": "white",
            "gridwidth": 2,
            "linecolor": "white",
            "showbackground": true,
            "ticks": "",
            "zerolinecolor": "white"
           },
           "yaxis": {
            "backgroundcolor": "#E5ECF6",
            "gridcolor": "white",
            "gridwidth": 2,
            "linecolor": "white",
            "showbackground": true,
            "ticks": "",
            "zerolinecolor": "white"
           },
           "zaxis": {
            "backgroundcolor": "#E5ECF6",
            "gridcolor": "white",
            "gridwidth": 2,
            "linecolor": "white",
            "showbackground": true,
            "ticks": "",
            "zerolinecolor": "white"
           }
          },
          "shapedefaults": {
           "line": {
            "color": "#2a3f5f"
           }
          },
          "ternary": {
           "aaxis": {
            "gridcolor": "white",
            "linecolor": "white",
            "ticks": ""
           },
           "baxis": {
            "gridcolor": "white",
            "linecolor": "white",
            "ticks": ""
           },
           "bgcolor": "#E5ECF6",
           "caxis": {
            "gridcolor": "white",
            "linecolor": "white",
            "ticks": ""
           }
          },
          "title": {
           "x": 0.05
          },
          "xaxis": {
           "automargin": true,
           "gridcolor": "white",
           "linecolor": "white",
           "ticks": "",
           "title": {
            "standoff": 15
           },
           "zerolinecolor": "white",
           "zerolinewidth": 2
          },
          "yaxis": {
           "automargin": true,
           "gridcolor": "white",
           "linecolor": "white",
           "ticks": "",
           "title": {
            "standoff": 15
           },
           "zerolinecolor": "white",
           "zerolinewidth": 2
          }
         }
        },
        "width": 800
       }
      },
      "text/html": [
       "<div>                            <div id=\"07cf21d4-d1d0-4440-801b-9dc8475e6dcb\" class=\"plotly-graph-div\" style=\"height:525px; width:800px;\"></div>            <script type=\"text/javascript\">                require([\"plotly\"], function(Plotly) {                    window.PLOTLYENV=window.PLOTLYENV || {};                                    if (document.getElementById(\"07cf21d4-d1d0-4440-801b-9dc8475e6dcb\")) {                    Plotly.newPlot(                        \"07cf21d4-d1d0-4440-801b-9dc8475e6dcb\",                        [{\"customdata\": [[\"Scrypt\"], [\"Scrypt\"], [\"X13\"], [\"X11\"], [\"SHA-512\"], [\"SHA-256\"], [\"SHA-256\"], [\"X15\"], [\"Scrypt\"], [\"Scrypt\"], [\"Scrypt\"], [\"Scrypt\"], [\"Scrypt\"], [\"Groestl\"], [\"PoS\"], [\"Scrypt\"], [\"Scrypt\"], [\"X11\"], [\"X11\"], [\"SHA3\"], [\"Scrypt\"], [\"SHA-256\"], [\"Scrypt\"], [\"X13\"], [\"X13\"], [\"NeoScrypt\"], [\"Scrypt\"], [\"Scrypt\"], [\"Scrypt\"], [\"X11\"], [\"X11\"], [\"Multiple\"], [\"PHI1612\"], [\"X11\"], [\"Scrypt\"], [\"Scrypt\"], [\"Scrypt\"], [\"X11\"], [\"Multiple\"], [\"X13\"], [\"Scrypt\"], [\"Counterparty\"], [\"SHA-256\"], [\"Groestl\"], [\"Scrypt\"], [\"X13\"], [\"Scrypt\"], [\"Scrypt\"], [\"X13\"], [\"X11\"], [\"Scrypt\"], [\"X11\"], [\"SHA3\"], [\"QUAIT\"], [\"X11\"], [\"Scrypt\"], [\"X13\"], [\"SHA-256\"], [\"X15\"], [\"BLAKE256\"], [\"SHA-256\"], [\"X11\"], [\"SHA-256\"], [\"NIST5\"], [\"Scrypt\"], [\"Scrypt\"], [\"X11\"], [\"Scrypt\"], [\"SHA-256\"], [\"PoS\"], [\"X11\"], [\"SHA-256\"], [\"SHA-256\"], [\"NIST5\"], [\"X11\"], [\"POS 3.0\"], [\"Scrypt\"], [\"Scrypt\"], [\"Scrypt\"], [\"X13\"], [\"X11\"], [\"X11\"], [\"Scrypt\"], [\"SHA-256\"], [\"X11\"], [\"Scrypt\"], [\"Scrypt\"], [\"Scrypt\"], [\"Scrypt\"], [\"SHA-256D\"], [\"PoS\"], [\"Scrypt\"], [\"X11\"], [\"PoS\"], [\"X13\"], [\"X14\"], [\"PoS\"], [\"SHA-256D\"], [\"DPoS\"], [\"X11\"], [\"X13\"], [\"X11\"], [\"PoS\"], [\"Scrypt\"], [\"Scrypt\"], [\"PoS\"], [\"X11\"], [\"SHA-256\"], [\"Scrypt\"], [\"X11\"], [\"Scrypt\"], [\"Scrypt\"], [\"X11\"], [\"Scrypt\"], [\"Scrypt\"], [\"Scrypt\"], [\"Scrypt\"], [\"Quark\"], [\"QuBit\"], [\"Scrypt\"], [\"SHA-256\"], [\"X11\"], [\"Scrypt\"], [\"Scrypt\"], [\"Scrypt\"], [\"Scrypt\"], [\"X13\"], [\"Scrypt\"], [\"Scrypt\"], [\"X11\"], [\"Blake2S\"], [\"X11\"], [\"PoS\"], [\"X11\"], [\"PoS\"], [\"X11\"], [\"Scrypt\"], [\"Scrypt\"], [\"Scrypt\"], [\"SHA-256\"], [\"X11\"], [\"Scrypt\"], [\"PoS\"], [\"Scrypt\"], [\"X15\"], [\"SHA-256\"], [\"POS 3.0\"], [\"536\"], [\"NIST5\"], [\"NIST5\"], [\"Skein\"], [\"X13\"], [\"Scrypt\"], [\"X13\"], [\"SkunkHash v2 Raptor\"], [\"Skein\"], [\"X11\"], [\"Scrypt\"], [\"PoS\"], [\"Scrypt\"], [\"Scrypt\"], [\"SHA-512\"], [\"Ouroboros\"], [\"X11\"], [\"NeoScrypt\"], [\"Scrypt\"], [\"Lyra2REv2\"], [\"Scrypt\"], [\"SHA-256\"], [\"NIST5\"], [\"PHI1612\"], [\"Scrypt\"], [\"Quark\"], [\"POS 2.0\"], [\"Scrypt\"], [\"SHA-256\"], [\"X11\"], [\"DPoS\"], [\"NIST5\"], [\"X13\"], [\"Scrypt\"], [\"NIST5\"], [\"Quark\"], [\"Scrypt\"], [\"Scrypt\"], [\"X11\"], [\"Quark\"], [\"Scrypt\"], [\"Scrypt\"], [\"X11\"], [\"POS 3.0\"], [\"Ethash\"], [\"Scrypt\"], [\"Scrypt\"], [\"X13\"], [\"Proof-of-BibleHash\"], [\"C11\"], [\"X11\"], [\"XEVAN\"], [\"Scrypt\"], [\"VBFT\"], [\"NIST5\"], [\"Scrypt\"], [\"Scrypt\"], [\"Scrypt\"], [\"Green Protocol\"], [\"PoS\"], [\"Scrypt\"], [\"Semux BFT consensus\"], [\"Quark\"], [\"PoS\"], [\"X16R\"], [\"Scrypt\"], [\"XEVAN\"], [\"Scrypt\"], [\"Scrypt\"], [\"Scrypt\"], [\"SHA-256D\"], [\"Scrypt\"], [\"X15\"], [\"Scrypt\"], [\"Quark\"], [\"SHA-256\"], [\"DPoS\"], [\"X16R\"], [\"Quark\"], [\"Quark\"], [\"Scrypt\"], [\"Lyra2REv2\"], [\"Quark\"], [\"Scrypt\"], [\"X11\"], [\"X11\"], [\"Scrypt\"], [\"PoS\"], [\"Keccak\"], [\"X11\"], [\"Scrypt\"], [\"SHA-512\"], [\"XEVAN\"], [\"XEVAN\"], [\"X11\"], [\"Quark\"], [\"Equihash\"], [\"Scrypt\"], [\"Quark\"], [\"Quark\"], [\"Scrypt\"], [\"X11\"], [\"Scrypt\"], [\"XEVAN\"], [\"SHA-256D\"], [\"X11\"], [\"X11\"], [\"DPoS\"], [\"Scrypt\"], [\"X11\"], [\"Scrypt\"], [\"Scrypt\"], [\"SHA-256\"], [\"Scrypt\"], [\"X11\"], [\"Scrypt\"], [\"SHA-256\"], [\"X11\"], [\"Scrypt\"], [\"Scrypt\"], [\"X11\"], [\"Scrypt\"], [\"PoS\"], [\"X11\"], [\"SHA-256\"], [\"DPoS\"], [\"Scrypt\"], [\"Scrypt\"], [\"NeoScrypt\"], [\"X13\"], [\"DPoS\"], [\"DPoS\"], [\"SHA-256\"], [\"PoS\"], [\"PoS\"], [\"SHA-256\"], [\"Scrypt\"], [\"Scrypt\"]], \"hovertemplate\": \"<b>%{hovertext}</b><br><br>Class=%{marker.color}<br>PCA 1=%{x}<br>PCA 2=%{y}<br>PCA 3=%{z}<br>Algorithm=%{customdata[0]}<extra></extra>\", \"hovertext\": [\"42 Coin\", \"404Coin\", \"EliteCoin\", \"Dash\", \"Bitshares\", \"BitcoinDark\", \"PayCoin\", \"KoboCoin\", \"Aurora Coin\", \"BlueCoin\", \"EnergyCoin\", \"BitBar\", \"CryptoBullion\", \"Diamond\", \"Exclusive Coin\", \"FlutterCoin\", \"HoboNickels\", \"HyperStake\", \"IOCoin\", \"MaxCoin\", \"MintCoin\", \"MazaCoin\", \"Nautilus Coin\", \"NavCoin\", \"OpalCoin\", \"Orbitcoin\", \"PotCoin\", \"PhoenixCoin\", \"Reddcoin\", \"SuperCoin\", \"SyncCoin\", \"TeslaCoin\", \"TittieCoin\", \"TorCoin\", \"UnitaryStatus Dollar\", \"UltraCoin\", \"VeriCoin\", \"X11 Coin\", \"Crypti\", \"StealthCoin\", \"ZCC Coin\", \"StorjCoin\", \"Neutron\", \"FairCoin\", \"RubyCoin\", \"Kore\", \"Dnotes\", \"8BIT Coin\", \"Sativa Coin\", \"Ucoin\", \"Vtorrent\", \"IslaCoin\", \"Nexus\", \"Droidz\", \"Squall Coin\", \"Diggits\", \"Paycon\", \"Emercoin\", \"EverGreenCoin\", \"Decred\", \"EDRCoin\", \"Hitcoin\", \"DubaiCoin\", \"PWR Coin\", \"BillaryCoin\", \"GPU Coin\", \"EuropeCoin\", \"ZeitCoin\", \"SwingCoin\", \"Nebuchadnezzar\", \"Ratecoin\", \"Revenu\", \"Clockcoin\", \"VIP Tokens\", \"BitSend\", \"Let it Ride\", \"PutinCoin\", \"iBankCoin\", \"Frankywillcoin\", \"MudraCoin\", \"Lutetium Coin\", \"GoldBlocks\", \"CarterCoin\", \"BitTokens\", \"MustangCoin\", \"ZoneCoin\", \"RootCoin\", \"BitCurrency\", \"Swiscoin\", \"BuzzCoin\", \"Opair\", \"PesoBit\", \"Halloween Coin\", \"CoffeeCoin\", \"RoyalCoin\", \"GanjaCoin V2\", \"TeamUP\", \"LanaCoin\", \"ARK\", \"InsaneCoin\", \"EmberCoin\", \"XenixCoin\", \"FreeCoin\", \"PLNCoin\", \"AquariusCoin\", \"Creatio\", \"Eternity\", \"Eurocoin\", \"BitcoinFast\", \"Stakenet\", \"BitConnect Coin\", \"MoneyCoin\", \"Enigma\", \"Russiacoin\", \"PandaCoin\", \"GameUnits\", \"GAKHcoin\", \"Allsafe\", \"LiteCreed\", \"Klingon Empire Darsek\", \"Internet of People\", \"KushCoin\", \"Printerium\", \"Impeach\", \"Zilbercoin\", \"FirstCoin\", \"FindCoin\", \"OpenChat\", \"RenosCoin\", \"VirtacoinPlus\", \"TajCoin\", \"Impact\", \"Atmos\", \"HappyCoin\", \"MacronCoin\", \"Condensate\", \"Independent Money System\", \"ArgusCoin\", \"LomoCoin\", \"ProCurrency\", \"GoldReserve\", \"GrowthCoin\", \"Phreak\", \"Degas Coin\", \"HTML5 Coin\", \"Ultimate Secure Cash\", \"QTUM\", \"Espers\", \"Denarius\", \"Virta Unique Coin\", \"Bitcoin Planet\", \"BritCoin\", \"Linda\", \"DeepOnion\", \"Signatum\", \"Cream\", \"Monoeci\", \"Draftcoin\", \"Stakecoin\", \"CoinonatX\", \"Ethereum Dark\", \"Obsidian\", \"Cardano\", \"Regalcoin\", \"TrezarCoin\", \"TerraNovaCoin\", \"Rupee\", \"WomenCoin\", \"Theresa May Coin\", \"NamoCoin\", \"LUXCoin\", \"Xios\", \"Bitcloud 2.0\", \"KekCoin\", \"BlackholeCoin\", \"Infinity Economics\", \"Magnet\", \"Lamden Tau\", \"Electra\", \"Bitcoin Diamond\", \"Cash & Back Coin\", \"Bulwark\", \"Kalkulus\", \"GermanCoin\", \"LiteCoin Ultra\", \"PhantomX\", \"Digiwage\", \"Trollcoin\", \"Litecoin Plus\", \"Monkey Project\", \"TokenPay\", \"1717 Masonic Commemorative Token\", \"My Big Coin\", \"Unified Society USDEX\", \"Tokyo Coin\", \"BiblePay\", \"Stipend\", \"Pushi\", \"Ellerium\", \"Velox\", \"Ontology\", \"Bitspace\", \"Briacoin\", \"Ignition\", \"MedicCoin\", \"Bitcoin Green\", \"Deviant Coin\", \"Abjcoin\", \"Semux\", \"Carebit\", \"Zealium\", \"Proton\", \"iDealCash\", \"Bitcoin Incognito\", \"HollyWoodCoin\", \"Swisscoin\", \"Xt3ch\", \"TheVig\", \"EmaratCoin\", \"Dekado\", \"Lynx\", \"Poseidon Quark\", \"BitcoinWSpectrum\", \"Muse\", \"Trivechain\", \"Dystem\", \"Giant\", \"Peony Coin\", \"Absolute Coin\", \"Vitae\", \"TPCash\", \"ARENON\", \"EUNO\", \"MMOCoin\", \"Ketan\", \"XDNA\", \"PAXEX\", \"ThunderStake\", \"Kcash\", \"Bettex coin\", \"BitMoney\", \"Junson Ming Chan Coin\", \"HerbCoin\", \"PirateCash\", \"Oduwa\", \"Galilel\", \"Crypto Sports\", \"Credit\", \"Dash Platinum\", \"Nasdacoin\", \"Beetle Coin\", \"Titan Coin\", \"Award\", \"Insane Coin\", \"ALAX\", \"LiteDoge\", \"TruckCoin\", \"OrangeCoin\", \"BitstarCoin\", \"NeosCoin\", \"HyperCoin\", \"PinkCoin\", \"AudioCoin\", \"IncaKoin\", \"Piggy Coin\", \"Genstake\", \"XiaoMiCoin\", \"CapriCoin\", \" ClubCoin\", \"Radium\", \"Creditbit \", \"OKCash\", \"Lisk\", \"HiCoin\", \"WhiteCoin\", \"FriendshipCoin\", \"Triangles Coin\", \"EOS\", \"Oxycoin\", \"TigerCash\", \"Particl\", \"Nxt\", \"ZEPHYR\", \"Gapcoin\", \"BitcoinPlus\"], \"legendgroup\": \"1\", \"marker\": {\"color\": [1, 1, 1, 1, 1, 1, 1, 1, 1, 1, 1, 1, 1, 1, 1, 1, 1, 1, 1, 1, 1, 1, 1, 1, 1, 1, 1, 1, 1, 1, 1, 1, 1, 1, 1, 1, 1, 1, 1, 1, 1, 1, 1, 1, 1, 1, 1, 1, 1, 1, 1, 1, 1, 1, 1, 1, 1, 1, 1, 1, 1, 1, 1, 1, 1, 1, 1, 1, 1, 1, 1, 1, 1, 1, 1, 1, 1, 1, 1, 1, 1, 1, 1, 1, 1, 1, 1, 1, 1, 1, 1, 1, 1, 1, 1, 1, 1, 1, 1, 1, 1, 1, 1, 1, 1, 1, 1, 1, 1, 1, 1, 1, 1, 1, 1, 1, 1, 1, 1, 1, 1, 1, 1, 1, 1, 1, 1, 1, 1, 1, 1, 1, 1, 1, 1, 1, 1, 1, 1, 1, 1, 1, 1, 1, 1, 1, 1, 1, 1, 1, 1, 1, 1, 1, 1, 1, 1, 1, 1, 1, 1, 1, 1, 1, 1, 1, 1, 1, 1, 1, 1, 1, 1, 1, 1, 1, 1, 1, 1, 1, 1, 1, 1, 1, 1, 1, 1, 1, 1, 1, 1, 1, 1, 1, 1, 1, 1, 1, 1, 1, 1, 1, 1, 1, 1, 1, 1, 1, 1, 1, 1, 1, 1, 1, 1, 1, 1, 1, 1, 1, 1, 1, 1, 1, 1, 1, 1, 1, 1, 1, 1, 1, 1, 1, 1, 1, 1, 1, 1, 1, 1, 1, 1, 1, 1, 1, 1, 1, 1, 1, 1, 1, 1, 1, 1, 1, 1, 1, 1, 1, 1, 1, 1, 1, 1, 1, 1, 1, 1, 1, 1, 1, 1, 1, 1, 1, 1, 1, 1, 1, 1, 1, 1, 1, 1], \"coloraxis\": \"coloraxis\", \"symbol\": \"circle\"}, \"mode\": \"markers\", \"name\": \"1\", \"scene\": \"scene\", \"showlegend\": true, \"type\": \"scatter3d\", \"x\": [-0.3237565893381879, -0.30712352530308534, 2.3188440059004902, -0.3407823025592708, -0.31643231916136033, -0.28011541231789094, -0.2823368346330352, -0.19912980841709269, -0.3234168072253312, -0.31600550743932854, -0.3222554348559596, -0.32375253539630117, -0.3237368439959226, -0.3599460775090158, -0.43601052570546134, -0.3191833943594711, -0.321819201438447, -0.32285780690489, -0.340677157970874, -0.5852394287928355, -0.06629204050120495, -0.24349519554000262, -0.325729669002673, -0.258837415443857, -0.25945868309709746, -0.3267387949640331, -0.318070611767815, -0.32216148424686863, 0.03384309372356978, -0.34271432909537364, -0.34104800304572574, -0.3034724810751699, -0.3333390274654358, -0.3409598512546563, -0.2990381172028802, -0.32243673574933346, -0.3622103258757386, -0.3409243473456497, -0.30393876346470133, -0.25923987802962983, -0.3148806537821785, -0.3980152221015269, -0.2793286639816232, -0.3593684827181378, -0.3257098371499457, -0.2595340456551424, -0.3203757035050328, -0.32373868500259884, -0.2594862884655984, -0.34315865039700927, -0.3234736182439039, -0.3410295598789237, -0.8870084670047996, -0.36533585957414416, -0.4097595802876122, -0.32411454180444177, -0.25900894903409716, -0.27269072505604686, -0.20156513664328096, -0.07950507124912999, -0.280086370273608, -0.01918446157077946, -0.28014988219822523, -0.182599229231693, -0.3233498511197921, -0.3239846919507674, -0.3382059213373211, 0.8249444809262618, -0.27995046856758926, -0.43569442846472706, -0.3388763815876033, -0.2786972827932302, -0.2763713097180318, -0.30377493653341464, -0.3397677074666983, -0.35589425478673753, -0.29969683882349757, -0.3233879086517469, -0.3218296906029473, -0.26045328272728085, -0.3306731456677027, -0.3405046364406901, -0.3225936812011053, -0.28013094172127406, -0.3410187903101577, -0.32357660964772167, -0.3237329268259072, -0.32397262886048944, -0.2700020142164385, 0.09220955684189537, -0.43465349032571027, -0.32334766751752225, -0.3272133372492743, -0.4339828904205844, -0.2618802410932861, -0.37737749096321416, -0.4337341675584421, -0.22174680818564246, 3.815123531018669, -0.3406121523159278, 0.8709609921601036, -0.3409737747377007, -0.435116358601366, -0.3232756211852955, -0.3234297397201197, -0.43569442846472706, -0.34054974464961624, -0.27999381496219, -0.32327631435053966, -0.23763654417522198, -0.32342344446888943, -0.3190228265746644, -0.3410027333383492, -0.32263621234865736, 0.3163244880750657, -0.32362230648845663, -0.3236926982243457, -0.3960376385712337, -0.33294984984934695, -0.319928899146381, -0.2801073911060657, -0.3409128537759021, -0.3234709711425686, -0.3235977466754202, -0.3256169014685367, -0.3168608600359053, -0.26164853667419, -0.3044875947021117, -0.32535826945140295, -0.3401803905848296, -0.3824606075678149, -0.338920745323293, -0.433944312893236, -0.3400784303185301, -0.4283548715390197, -0.33602855992136843, -0.32354111361682797, -0.3235403602833469, -0.3166797819440491, 0.2489581242840382, -0.34055573467614364, -0.30829987628740235, -0.43572874586340216, -0.32275362537605473, 0.9304180537683004, -0.28103063560625874, -0.3546749535333716, 0.6234575819227774, -0.30530766146072463, -0.30381298171983145, -0.37703393066186563, -0.2591720092208717, 0.14011152084405562, -0.25924259112044856, -0.33656181873288327, -0.37653956533646565, -0.3408274778625568, -0.3256907091104369, -0.435595459797458, -0.3231770648036384, -0.32367566036661394, -0.3743822198286592, 0.5176122367988651, -0.34076852646923117, -0.32174857840468185, -0.3236314293160889, -0.324098939107721, 0.4441336594247904, -0.27845675689859856, -0.29010649069676286, -0.3665808514737631, -0.32358188274735683, -0.3921983767089114, -0.3219091645873209, -0.3234524315406476, -0.10915058214012584, -0.3395638849698456, 3.8199693781553057, 0.25311298687520617, -0.2559199152700881, -0.3209180122936529, -0.3073565379554277, -0.39592375255378437, 0.08969074973156752, -0.32259328150774486, -0.3401434410198948, -0.395090503609052, -0.31018348725303563, -0.3236977568709903, -0.34313062986298, -0.35617568087701545, -0.30343122612811385, -0.3352750760862936, -0.31925146363901913, -0.25346259648172337, 0.06461973372933186, -0.36683164510961147, -0.34084481297151253, -0.3980380880367466, -0.3248527630824191, -0.37294675732207155, -0.3049075286111864, -0.32372506268807694, -0.323706816355239, -0.319245513213118, -0.5099324693471654, -0.43519072910477063, -0.3234239436781173, 3.937157178473214, -0.390868421380069, -0.4353790525276005, -0.33411443758376347, -0.2704124475759156, -0.46690150975830763, -0.3253854461664854, -0.12721283660468252, -0.32563725722502207, -0.28690756034539716, -0.3228991756553656, -0.2031952038381035, 2.1771103789295085, -0.3916429033441908, -0.28115742099878477, 1.04563312919234, -0.3311674255660333, -0.3960371200719522, -0.39387851795583395, -0.2066751616457686, -0.3217426964793402, -0.3947591829889937, -0.31661996395682795, -0.34270893167624983, -0.3403191340137564, -0.32288852247048694, -0.4344811844486104, -0.27229225041222527, -0.3425708558927047, -0.1835542036348861, -0.3472567124874392, -0.4003159660578039, 0.20079396173776154, -0.1334012973709437, -0.3931745803658089, -0.26810404362480766, -0.32342784447764034, -0.39362974696101083, -0.39615386258590357, 0.5811532861640083, -0.34318485288799344, -0.3229120181511473, -0.392505386033528, -0.24173246460240289, -0.3378902262314841, -0.3405458772289366, 3.8321888078234125, 0.11058239867669946, -0.3380890360686808, -0.3222993011667488, -0.32312196248514896, -0.2823694781122648, -0.32363910601173623, -0.33218990346697413, -0.23755088875922634, -0.06010935133008712, -0.3279484262261811, -0.3229186323284731, -0.3159963383644577, -0.3371210172555777, -0.3213612673765955, -0.4359695593421895, -0.2666920054352735, -0.27863334534731704, 3.815514491311231, -0.1332860280421451, -0.31856134138674463, -0.3263656393117584, -0.25964099903732096, 3.8253687067392494, 3.8266109529041814, -0.26330254558112504, -0.43590552051124987, -0.5518268817973774, 2.5236029312222787, -0.3218067797053996, -0.3260328052704666], \"y\": [0.8910000404885006, 0.8912609957606252, 1.7645108214524325, 1.3296129081052785, 1.360251102779667, 0.863906192410447, 0.6750516450457427, 1.9545568658737962, 0.8910015357282721, 0.8912827942149647, 0.8910548015141254, 0.8909998633944272, 0.8910001107988761, 1.0191673195306523, 1.6169272280185274, -0.16934686951477515, 0.8909927135065305, 1.1415013939890692, 1.3296167437016093, 2.4877145206499125, 0.7116124689982983, 0.8636838611392664, 0.7021378601898782, 1.8746863134725065, 1.8746636500908755, 0.5376577634081663, 0.8909344555729113, 0.8909945275553818, 0.9040450108211592, 1.1407770428371755, 1.3296175151702252, 0.21219864508232006, 1.6760742211707012, 1.3296142314088033, 0.890861732276499, 0.8909831865607861, -0.07516751857979247, 1.329618451620407, 0.21224663667944335, 1.8746716319368975, 0.8906738157224738, 1.434519802089395, 0.8639049918376687, 1.0191912368127136, 0.7021491008403922, 1.8746531007730427, 0.7020186799076079, 0.8910006936526398, 1.8746561429444086, 1.140747834080429, 0.8909973628443937, 1.329618188613237, 3.3459843857581, 2.123323988657016, 1.5131094478082765, 0.702142294795669, 1.874647555438954, 0.8635413274303633, 1.9546784371994856, 0.9660002415272997, 0.8639072518426083, 1.3241010312659238, 0.8639124101165083, 1.5466948214114333, 0.8909875775060022, 0.7020683459199173, 1.3294715881161887, 0.6797728946643895, 0.8639005092140013, 1.616925758764288, 1.3296479840311088, 0.8638274509978238, 0.8637158182915216, 1.5422159206819084, 1.3295738683381084, 1.6231940532047247, 0.8905776976753064, 0.8909846725003712, 0.8910053311159509, 1.6857176787243304, 1.1407892381552154, 1.3296048368137665, 0.8909839614306749, 0.8639062759216855, 1.32961663144214, 0.8909929557823144, 0.8910009037066399, 0.7022124729059266, -0.08254812345699303, 1.9976691465572751, 1.616928630747807, 0.8910149576794928, 1.329147175657313, 1.6169751942183437, 1.6857940016970685, 1.9850362544311022, 1.6168146141622732, 1.994337505899257, 1.5319878086588798, 1.329613914960989, 1.9153480080943934, 1.329617718903806, 1.6169273459531892, 0.8909925344013854, 0.8909846632293171, 1.616925758764288, 1.3295966911767079, 0.8639119282161212, 0.8909961101834686, 0.8964728267966441, 0.890993993047832, 0.8907497877529819, 1.3296159171638875, 0.8909473092609597, 0.704434938747687, 0.8909964888941065, 0.8910002159123966, 1.563827909864446, 0.6548604195574352, 0.8908146656469739, 0.8639071350306015, 1.329616365749809, 0.8909974594086806, 0.8909915780413283, 0.7021167403874627, -0.12120605383698643, 1.6857946378808681, 0.8910529467829953, 0.7021395481694189, 1.3295841644454405, 1.9458722996249056, 1.3296236152439607, 1.6169309120462836, 1.3295878838800743, 1.6169464956583235, 1.3294756152114622, 0.8909941127698414, 0.8909893380385412, 0.8906081848660757, 0.645690091143396, 1.3296094729113337, 0.7014841786222901, 1.6169180067679563, 0.8909683766014549, 1.9374883270564953, 0.6749773621737094, 1.6231953065879539, 2.016806639116218, 1.5422120090025855, 1.5421950324523193, 1.9445524334949098, 1.8746546073710286, 0.8754209881171788, 1.8746592489106446, 1.4898552740573845, 1.9445704675740643, 1.3296193805715517, 0.7021384845733755, 1.616902328577988, 0.8909898167452202, 0.8910002626927258, 1.3604181447639487, 1.5779219177222366, 1.3296101605852029, 0.5375822484141622, 0.8909943794000285, 0.7388008929841456, 0.902761797392472, 0.8639159979650306, 1.5419930217420925, 1.8650972984085359, 0.890992763423564, 1.7526273976502111, 1.596076823530896, 0.8910015234043586, 0.6755273649511294, 1.3295780535695214, 1.531920826937261, 1.5430889092864235, 1.8746562391210624, 0.8909670871073411, 1.353346065167134, 1.5638288142800225, 0.8735816759111279, 0.8909449752721853, 1.3296180129539084, 1.5637942093497301, 0.8909101660934093, 0.8909995866311541, 1.1407482062363405, 1.6231893120950862, -0.005914273663223988, -0.02608829426977846, 0.891013581291015, 1.685582686365902, 1.9565172583500383, 1.014664898795568, 1.3296086777350073, 1.9746775748885892, 0.702099764737245, 1.5651080718226293, 1.5422006050584798, 0.8909992405475854, 0.8909986061355942, 0.7020599084083471, 1.7917418198743391, 1.6168999325045352, 0.8909926748124171, 1.5566257192403512, 1.7526759134308287, 1.6168982627047592, 0.715987075869782, 0.8896166637286556, 2.158189318183371, 0.7021440340618148, 0.8915396847127758, 0.7021231479601002, 1.9967744813723511, 0.8909767172942393, 1.7657978798278613, 0.06209344420472014, 1.5635754687137344, 0.6750376226631808, 1.5158604784947087, 0.9048498615947956, 1.5638240287050138, 1.7526927615978272, 0.6955191893078289, 0.9276480082595225, 1.5638192959257096, 0.8906103669817313, 1.1407414890535859, 1.3296116038042463, 0.7020830170978611, 1.616846514662889, 0.9563555236364518, 1.1407172754011572, 0.8844142975030991, 1.096176388390168, 1.7858212930679076, 2.5763920502500746, 1.148412626459597, 1.7526866882655656, 0.1492519171953578, 0.8909983826250046, 1.7526928111582094, 1.5638247296189638, 0.8753895580282866, 1.1407470732367535, 0.8909762488095508, 1.9745933983207449, 1.9952373748927077, 1.3294597039952998, 1.3296163326268389, 1.5320415764792321, 0.8840939724681512, 1.3297254567334387, 0.8909231988404005, 0.8909879240854893, 0.6750449291312218, 0.8910043262201179, 1.3296156465421147, 0.8873196309909023, 0.8718226477132165, 1.329445366316885, 0.8910208583791407, 0.8910231237692858, 1.3296255667774348, 0.8909834181076326, 1.61692287233012, 1.0211702108243617, 0.8639063060882585, 1.5319793732093108, 0.7026627117518194, 0.890994555599635, 0.5376347163597592, 1.87465692133958, 1.532442796584101, 1.5324881127996939, 0.6751041145818574, 1.61692544623252, 1.7721092814274282, 0.6912862195467714, 0.8909086650409286, 0.7021366691913978], \"z\": [-0.586262756045517, -0.5867359213744393, -0.6342596051164195, -0.5258859623623723, 0.04228986893533531, -0.4144605455941671, -0.09218321626707905, -0.6582980409760936, -0.5862713735231929, -0.5865273003302308, -0.586313990426808, -0.5862628055785722, -0.5862632522903949, -0.3872037137131162, -0.06033577562769383, -0.4581828589452124, -0.5863075585755727, -0.20429843371533996, -0.5258895509451772, -0.4189453034356208, -0.27284681609200884, -0.4152844805828754, -0.2639893400710826, -0.6021002982618662, -0.6020790944087208, -0.2697304402210026, -0.5863821966458544, -0.5862997852262539, -0.5984676264095473, -0.2036207309920262, -0.5258808025885798, 0.14189308962778696, -0.17340025162094222, -0.5258820346777431, -0.5868221238424697, -0.5862900355562389, -0.4207644661086171, -0.525884045943834, 0.14189123676230098, -0.6020865622214963, -0.5863880208186796, -0.023439147909404382, -0.41447922444557717, -0.3872242052101678, -0.26399289164449774, -0.6020743902371087, -0.2640861101512749, -0.5862633671276177, -0.6020763755305668, -0.2036020128995754, -0.586268860436124, -0.5258814322311816, 0.06378932095758291, -0.5932101670872868, -0.26699473180079125, -0.26402957196964694, -0.6020855602864358, -0.4145401880396833, -0.6582724356458493, -0.39876093451346534, -0.41446153679858416, -0.5321488410023409, -0.4144614123513816, -0.5392575467357291, -0.5862691758493085, -0.2640124962313143, -0.5259095773944721, -0.285675297760917, -0.4144629770477992, -0.06034301060557774, -0.5259415948592566, -0.4144732833674031, -0.41449896335949327, -0.5351058317915981, -0.5258998029963124, -0.059429247056796704, -0.5867285733879737, -0.5862674623814561, -0.5863107539954967, -0.27980641449529053, -0.2039149666728291, -0.525890464320838, -0.5862864557184194, -0.4144601932466717, -0.5258812667841215, -0.5862651676707326, -0.5862635636540782, -0.2640521825302547, -0.34327112264737936, -0.69586758530582, -0.06036894358414024, -0.586276712546919, -0.5260864735276932, -0.060397871969567446, -0.27979280238368354, -0.6464857475098922, -0.06035998879343401, -0.6873720788536357, -0.30122168932505095, -0.5258903482209764, -0.6405092762127143, -0.5258826515535455, -0.06035740999661712, -0.5862723240563352, -0.5862664492529043, -0.06034301060557774, -0.5258871480710742, -0.41446505105108705, -0.5862732846945483, -0.31111397118994755, -0.5862691515001444, -0.5863087160682116, -0.525881459466772, -0.5862754099109142, -0.28012856138663533, -0.5862650294043936, -0.5862643475367785, -0.18578354905119743, -0.33100009794541396, -0.5863045596734657, -0.41446099702871897, -0.5258837534760974, -0.5862689507816421, -0.5862642804384107, -0.2639862916465333, -0.3254417392764918, -0.27979857400878855, -0.5867427357266859, -0.2639987740751021, -0.5258926472884389, -0.7486330377652343, -0.5259338622497154, -0.060386700119692514, -0.5258961271903815, -0.06052599466009447, -0.5259632808915685, -0.5862663414618932, -0.5862650545631817, -0.5863266166088591, -0.09699321805239551, -0.5258904970464914, -0.2642317517855978, -0.06034006264596264, -0.5862783317656008, -0.6809213056253297, -0.09219446859028993, -0.05945904668072938, -0.6806839074953502, -0.535067733578719, -0.5350992031877498, -0.7214323181534863, -0.6020835484602818, -0.5932110285287241, -0.6020831119686775, -0.07801524492873718, -0.7214491908326055, -0.5258866401226171, -0.2639904519664577, -0.06033899730751323, -0.5862739622454805, -0.5862647719401101, 0.043644219036097845, 0.0763694270814781, -0.5258855441863454, -0.2698303577374649, -0.5862642324091493, -0.05724330795855764, -0.6080290669498339, -0.4145032971538242, -0.5353751210596908, -0.49486689136975065, -0.5862649876999424, -0.5080849139953303, -0.13474043339055197, -0.5862705095087912, -0.09649724393439789, -0.5259058711005123, -0.30132045146579717, -0.5487982739920941, -0.6021625616305705, -0.5863223257767959, -0.21279145772868444, -0.18578654762507218, -0.5914901685731535, -0.5862758091152224, -0.5259027919136547, -0.18579721932111012, -0.5865661020971933, -0.5862640533209864, -0.20360279156912167, -0.059421152191043186, 0.0873288560236053, -0.27395600161069716, -0.5863752962941663, -0.279938404036166, 5.645399142810639, -0.4679601410780573, -0.5258832958709698, -0.5003428961821907, -0.26400011239363214, -0.06904804434703855, -0.53507428327542, -0.5862632990447161, -0.5862635664502169, -0.26412468352436336, -0.051936329017238124, -0.06034812024443062, -0.5862687791206519, -0.18241350508446216, -0.5081303053453154, -0.06034311413556752, -0.03547133367835629, -0.5871733697018838, -0.24145857192660977, -0.26399934366319033, -0.591158548978843, -0.26398755128315254, -0.6864639731667088, -0.5862770952229999, -0.3360022834038251, -0.46761667898302817, -0.1858207203572767, -0.09220787685552202, -0.18804363071319705, -0.35776844431421045, -0.18578250072309566, -0.5080621897737154, -0.26505646066486155, -0.3795218629562003, -0.18581208070245622, -0.5863286581956209, -0.203611143314841, -0.525896795515128, -0.2640429886668474, -0.06035066115906281, -0.3944838551922471, -0.20360786065515468, -0.5878497873835238, 0.30841698421449387, -0.17806372885831062, -0.21356690911585524, -0.21076458076913657, -0.5080775361119831, 0.09302422008501708, -0.5862702450231474, -0.5080682133648973, -0.18577987193111092, -0.6038575410740581, -0.2036011719102817, -0.5862766569088637, -0.5004535520679708, -0.6871352116696094, -0.525913955915574, -0.5258926101884304, -0.3016486649944095, -0.5948682613337989, -0.5259817922526923, -0.5862769591213789, -0.5862747761302604, -0.09218059194442053, -0.5862667657566747, -0.5260942941630796, -0.587339412141468, -0.4219394995706873, -0.5261502203276424, -0.5862886904485501, -0.5864565449724225, -0.525977875201262, -0.5863160810265463, -0.06033557477218163, -0.24332465870789452, -0.41449638183971316, -0.30122882881421736, -0.2687820352882798, -0.5863867685427757, -0.26973315571583056, -0.6020728506486718, -0.3015935658199952, -0.3016359636578909, -0.09265740632799, -0.06033782541887786, 0.06663857174981386, -0.20627116660619546, -0.5862848853321829, -0.2639816910779643]}, {\"customdata\": [[\"SHA-256\"], [\"Ethash\"], [\"Scrypt\"], [\"CryptoNight-V7\"], [\"Ethash\"], [\"Equihash\"], [\"Multiple\"], [\"Scrypt\"], [\"X11\"], [\"Scrypt\"], [\"Multiple\"], [\"Scrypt\"], [\"SHA-256\"], [\"Scrypt\"], [\"Scrypt\"], [\"Quark\"], [\"Groestl\"], [\"Scrypt\"], [\"Scrypt\"], [\"Scrypt\"], [\"X11\"], [\"Scrypt\"], [\"Multiple\"], [\"SHA-256\"], [\"Scrypt\"], [\"Scrypt\"], [\"Scrypt\"], [\"Scrypt\"], [\"Scrypt\"], [\"NeoScrypt\"], [\"Scrypt\"], [\"Scrypt\"], [\"Scrypt\"], [\"Scrypt\"], [\"SHA-256\"], [\"Scrypt\"], [\"Scrypt\"], [\"Scrypt\"], [\"Scrypt\"], [\"HybridScryptHash256\"], [\"Scrypt\"], [\"Scrypt\"], [\"SHA-256\"], [\"Scrypt\"], [\"Scrypt\"], [\"Scrypt\"], [\"Scrypt\"], [\"SHA-256\"], [\"SHA-256\"], [\"SHA-256\"], [\"SHA-256\"], [\"SHA-256\"], [\"X11\"], [\"Scrypt\"], [\"Lyra2REv2\"], [\"Scrypt\"], [\"SHA-256\"], [\"CryptoNight\"], [\"CryptoNight\"], [\"Shabal256\"], [\"Scrypt\"], [\"Scrypt\"], [\"Scrypt\"], [\"Scrypt\"], [\"Scrypt\"], [\"Scrypt\"], [\"Stanford Folding\"], [\"Multiple\"], [\"QuBit\"], [\"Scrypt\"], [\"Scrypt\"], [\"M7 POW\"], [\"Scrypt\"], [\"SHA-256\"], [\"Scrypt\"], [\"X11\"], [\"Lyra2RE\"], [\"SHA-256\"], [\"X11\"], [\"Scrypt\"], [\"Scrypt\"], [\"Ethash\"], [\"Blake2b\"], [\"X11\"], [\"SHA-256\"], [\"Scrypt\"], [\"1GB AES Pattern Search\"], [\"Scrypt\"], [\"SHA-256\"], [\"X11\"], [\"Dagger\"], [\"Scrypt\"], [\"X11GOST\"], [\"Scrypt\"], [\"Scrypt\"], [\"X11\"], [\"Scrypt\"], [\"X11\"], [\"Equihash\"], [\"CryptoNight\"], [\"SHA-256\"], [\"Multiple\"], [\"Scrypt\"], [\"SHA-256\"], [\"Scrypt\"], [\"Lyra2Z\"], [\"Ethash\"], [\"Equihash\"], [\"Scrypt\"], [\"X11\"], [\"X11\"], [\"CryptoNight\"], [\"Scrypt\"], [\"CryptoNight\"], [\"Lyra2RE\"], [\"X11\"], [\"CryptoNight-V7\"], [\"Scrypt\"], [\"X11\"], [\"Equihash\"], [\"Scrypt\"], [\"Lyra2RE\"], [\"Dagger-Hashimoto\"], [\"Scrypt\"], [\"NIST5\"], [\"Scrypt\"], [\"SHA-256\"], [\"Scrypt\"], [\"CryptoNight-V7\"], [\"Argon2d\"], [\"Blake2b\"], [\"Cloverhash\"], [\"CryptoNight\"], [\"X11\"], [\"Scrypt\"], [\"Scrypt\"], [\"X11\"], [\"X11\"], [\"CryptoNight\"], [\"Time Travel\"], [\"Scrypt\"], [\"Keccak\"], [\"X11\"], [\"SHA-256\"], [\"Scrypt\"], [\"Scrypt\"], [\"Scrypt\"], [\"Scrypt\"], [\"Scrypt\"], [\"Scrypt\"], [\"CryptoNight\"], [\"Equihash\"], [\"X11\"], [\"NeoScrypt\"], [\"Equihash\"], [\"Dagger\"], [\"Scrypt\"], [\"X11\"], [\"NeoScrypt\"], [\"Ethash\"], [\"NeoScrypt\"], [\"Multiple\"], [\"CryptoNight\"], [\"CryptoNight\"], [\"Ethash\"], [\"X11\"], [\"CryptoNight-V7\"], [\"Scrypt\"], [\"BLAKE256\"], [\"X11\"], [\"NeoScrypt\"], [\"NeoScrypt\"], [\"Scrypt\"], [\"X11\"], [\"SHA-256\"], [\"C11\"], [\"CryptoNight\"], [\"SkunkHash\"], [\"CryptoNight\"], [\"Scrypt\"], [\"Dagger\"], [\"Lyra2REv2\"], [\"SHA-256 + Hive\"], [\"Scrypt\"], [\"Scrypt\"], [\"X11\"], [\"Ethash\"], [\"CryptoNight\"], [\"Scrypt\"], [\"IMesh\"], [\"Equihash\"], [\"Lyra2Z\"], [\"X11\"], [\"CryptoNight\"], [\"NIST5\"], [\"Lyra2RE\"], [\"Tribus\"], [\"Lyra2Z\"], [\"CryptoNight\"], [\"CryptoNight Heavy\"], [\"CryptoNight\"], [\"Jump Consistent Hash\"], [\"CryptoNight\"], [\"X16R\"], [\"HMQ1725\"], [\"X11\"], [\"Scrypt\"], [\"CryptoNight-V7\"], [\"Cryptonight-GPU\"], [\"XEVAN\"], [\"CryptoNight Heavy\"], [\"SHA-256\"], [\"X11\"], [\"X16R\"], [\"Equihash\"], [\"Lyra2Z\"], [\"SHA-256\"], [\"CryptoNight\"], [\"Blake\"], [\"Blake\"], [\"Exosis\"], [\"Scrypt\"], [\"Equihash\"], [\"Equihash\"], [\"QuBit\"], [\"SHA-256\"], [\"X13\"], [\"SHA-256\"], [\"Scrypt\"], [\"NeoScrypt\"], [\"Blake\"], [\"Scrypt\"], [\"SHA-256\"], [\"Scrypt\"], [\"Groestl\"], [\"Scrypt\"], [\"Scrypt\"], [\"SHA3-256\"], [\"Multiple\"], [\"Equihash+Scrypt\"], [\"Ethash\"], [\"CryptoNight\"], [\"Equihash\"]], \"hovertemplate\": \"<b>%{hovertext}</b><br><br>Class=%{marker.color}<br>PCA 1=%{x}<br>PCA 2=%{y}<br>PCA 3=%{z}<br>Algorithm=%{customdata[0]}<extra></extra>\", \"hovertext\": [\"Bitcoin\", \"Ethereum\", \"Litecoin\", \"Monero\", \"Ethereum Classic\", \"ZCash\", \"DigiByte\", \"ProsperCoin\", \"Spreadcoin\", \"Argentum\", \"MyriadCoin\", \"MoonCoin\", \"ZetaCoin\", \"SexCoin\", \"Quatloo\", \"QuarkCoin\", \"Riecoin\", \"Digitalcoin \", \"Catcoin\", \"CannaCoin\", \"CryptCoin\", \"CasinoCoin\", \"Verge\", \"DevCoin\", \"EarthCoin\", \"E-Gulden\", \"Einsteinium\", \"Emerald\", \"Franko\", \"FeatherCoin\", \"GrandCoin\", \"GlobalCoin\", \"GoldCoin\", \"Infinite Coin\", \"IXcoin\", \"KrugerCoin\", \"LuckyCoin\", \"Litebar \", \"MegaCoin\", \"MediterraneanCoin\", \"MinCoin\", \"NobleCoin\", \"Namecoin\", \"NyanCoin\", \"RonPaulCoin\", \"StableCoin\", \"SmartCoin\", \"SysCoin\", \"TigerCoin\", \"TerraCoin\", \"UnbreakableCoin\", \"Unobtanium\", \"UroCoin\", \"ViaCoin\", \"Vertcoin\", \"WorldCoin\", \"JouleCoin\", \"ByteCoin\", \"DigitalNote \", \"BurstCoin\", \"MonaCoin\", \"Gulden\", \"PesetaCoin\", \"Wild Beast Coin\", \"Flo\", \"ArtByte\", \"Folding Coin\", \"Unitus\", \"CypherPunkCoin\", \"OmniCron\", \"GreenCoin\", \"Cryptonite\", \"MasterCoin\", \"SoonCoin\", \"1Credit\", \"MarsCoin \", \"Crypto\", \"Anarchists Prime\", \"BowsCoin\", \"Song Coin\", \"BitZeny\", \"Expanse\", \"Siacoin\", \"MindCoin\", \"I0coin\", \"Revolution VR\", \"HOdlcoin\", \"Gamecredits\", \"CarpeDiemCoin\", \"Adzcoin\", \"SoilCoin\", \"YoCoin\", \"SibCoin\", \"SafeExchangeCoin\", \"Francs\", \"BolivarCoin\", \"Omni\", \"PizzaCoin\", \"Komodo\", \"Karbo\", \"ZayedCoin\", \"Circuits of Value\", \"DopeCoin\", \"DollarCoin\", \"Shilling\", \"ZCoin\", \"Elementrem\", \"ZClassic\", \"KiloCoin\", \"ArtexCoin\", \"Kurrent\", \"Cannabis Industry Coin\", \"OsmiumCoin\", \"Bikercoins\", \"HexxCoin\", \"PacCoin\", \"Citadel\", \"BeaverCoin\", \"VaultCoin\", \"Zero\", \"Canada eCoin\", \"Zoin\", \"DubaiCoin\", \"EB3coin\", \"Coinonat\", \"BenjiRolls\", \"ILCoin\", \"EquiTrader\", \"Quantum Resistant Ledger\", \"Dynamic\", \"Nano\", \"ChanCoin\", \"Dinastycoin\", \"DigitalPrice\", \"Unify\", \"SocialCoin\", \"ArcticCoin\", \"DAS\", \"LeviarCoin\", \"Bitcore\", \"gCn Coin\", \"SmartCash\", \"Onix\", \"Bitcoin Cash\", \"Sojourn Coin\", \"NewYorkCoin\", \"FrazCoin\", \"Kronecoin\", \"AdCoin\", \"Linx\", \"Sumokoin\", \"BitcoinZ\", \"Elements\", \"VIVO Coin\", \"Bitcoin Gold\", \"Pirl\", \"eBoost\", \"Pura\", \"Innova\", \"Ellaism\", \"GoByte\", \"SHIELD\", \"UltraNote\", \"BitCoal\", \"DaxxCoin\", \"AC3\", \"Lethean\", \"PopularCoin\", \"Photon\", \"Sucre\", \"SparksPay\", \"GunCoin\", \"IrishCoin\", \"Pioneer Coin\", \"UnitedBitcoin\", \"Interzone\", \"TurtleCoin\", \"MUNcoin\", \"Niobio Cash\", \"ShareChain\", \"Travelflex\", \"KREDS\", \"LitecoinCash\", \"BitFlip\", \"LottoCoin\", \"Crypto Improvement Fund\", \"Callisto Network\", \"BitTube\", \"Poseidon\", \"Aidos Kuneen\", \"Bitrolium\", \"Alpenschillling\", \"FuturoCoin\", \"Monero Classic\", \"Jumpcoin\", \"Infinex\", \"KEYCO\", \"GINcoin\", \"PlatinCoin\", \"Loki\", \"Newton Coin\", \"MassGrid\", \"PluraCoin\", \"Motion\", \"PlusOneCoin\", \"Axe\", \"HexCoin\", \"Webchain\", \"Ryo\", \"Urals Coin\", \"Qwertycoin\", \"Project Pai\", \"Azart\", \"Xchange\", \"CrypticCoin\", \"Actinium\", \"Bitcoin SV\", \"FREDEnergy\", \"Universal Molecule\", \"Lithium\", \"Exosis\", \"Block-Logic\", \"Beam\", \"Bithereum\", \"SLICE\", \"BLAST\", \"Bitcoin Rhodium\", \"GlobalToken\", \"SolarCoin\", \"UFO Coin\", \"BlakeCoin\", \"Crypto Escudo\", \"Crown Coin\", \"SmileyCoin\", \"Groestlcoin\", \"Bata\", \"Pakcoin\", \"Fiii\", \"JoinCoin\", \"Vollar\", \"Reality Clash\", \"Beldex\", \"Horizen\"], \"legendgroup\": \"0\", \"marker\": {\"color\": [0, 0, 0, 0, 0, 0, 0, 0, 0, 0, 0, 0, 0, 0, 0, 0, 0, 0, 0, 0, 0, 0, 0, 0, 0, 0, 0, 0, 0, 0, 0, 0, 0, 0, 0, 0, 0, 0, 0, 0, 0, 0, 0, 0, 0, 0, 0, 0, 0, 0, 0, 0, 0, 0, 0, 0, 0, 0, 0, 0, 0, 0, 0, 0, 0, 0, 0, 0, 0, 0, 0, 0, 0, 0, 0, 0, 0, 0, 0, 0, 0, 0, 0, 0, 0, 0, 0, 0, 0, 0, 0, 0, 0, 0, 0, 0, 0, 0, 0, 0, 0, 0, 0, 0, 0, 0, 0, 0, 0, 0, 0, 0, 0, 0, 0, 0, 0, 0, 0, 0, 0, 0, 0, 0, 0, 0, 0, 0, 0, 0, 0, 0, 0, 0, 0, 0, 0, 0, 0, 0, 0, 0, 0, 0, 0, 0, 0, 0, 0, 0, 0, 0, 0, 0, 0, 0, 0, 0, 0, 0, 0, 0, 0, 0, 0, 0, 0, 0, 0, 0, 0, 0, 0, 0, 0, 0, 0, 0, 0, 0, 0, 0, 0, 0, 0, 0, 0, 0, 0, 0, 0, 0, 0, 0, 0, 0, 0, 0, 0, 0, 0, 0, 0, 0, 0, 0, 0, 0, 0, 0, 0, 0, 0, 0, 0, 0, 0, 0, 0, 0, 0, 0, 0, 0, 0, 0, 0, 0, 0, 0, 0, 0, 0, 0, 0, 0, 0, 0, 0, 0, 0, 0, 0], \"coloraxis\": \"coloraxis\", \"symbol\": \"diamond\"}, \"mode\": \"markers\", \"name\": \"0\", \"scene\": \"scene\", \"showlegend\": true, \"type\": \"scatter3d\", \"x\": [-0.13659670196349605, -0.15654116765311973, -0.17907085768663314, -0.17945306639396022, -0.15498708761623084, -0.12316463232478518, 0.12807029917336568, -0.18021491960336442, -0.19744778048767517, -0.1798323528227163, -0.1248156917923044, 2.534718512215768, -0.1336870905757898, -0.17709323207660518, -0.17963694459690155, -0.24575170688430942, -0.21549618675348933, -0.17968525306897692, -0.1801972120018433, -0.18028347960443147, -0.19753697488541633, 0.5743404161615577, 0.15181764682976043, 0.24052991293523215, 0.06797530255865858, -0.18003021109177383, -0.17564416066683117, -0.17996967791803783, -0.18034038345217288, -0.17856075177990888, -0.15960423098891116, -0.17913772370475645, -0.17941477554669316, 1.5652854134647962, -0.1365581288594557, -0.1767096529310156, -0.18005660583407704, -0.18041075142655882, -0.17967140918835625, -0.22521406233198454, -0.18029225954690412, -0.045511177683398414, -0.1366356239507357, -0.17396806007387414, -0.18027181427225855, -0.17837070700435753, -0.17975954795183863, -0.12381333756100531, -0.136100385365717, -0.13638712535919204, -0.13637042141753877, -0.1369596492116503, -0.19771047520416535, -0.179988740469846, -0.1777355503408292, -0.17709805501566353, -0.13616756490695991, 3.855872611628138, 0.46121273944538116, -0.19681940415506888, -0.17885863688053566, -0.16349229245148617, -0.17757982126171723, -0.1804129670645251, -0.1774450133633046, -0.16369546258434162, -0.11262546108885158, -0.15875664803992542, -0.19047552963766134, -0.18028623908182267, -0.05348842191795934, -0.17311473934038887, -0.18042183127220726, -0.13666336017035238, 0.47007254159881895, -0.19709882092086656, -0.14516057272977656, -0.1364038557804267, -0.19738320579404375, -0.17854998126252458, -0.17774372340003858, -0.15760716601943053, 0.3660926539273759, -0.1974185122844552, -0.13655924954205675, -0.1763872789474395, -0.17153739379282726, -0.17898794768208687, 0.28113966986148897, -0.19658099410516255, -0.19481427812895208, -0.17923564117617577, -0.10418346945983764, -0.15503951610317618, -0.1802122012161839, -0.1973818781821483, -0.18042188965726344, -0.19753162636461394, -0.10775808302061442, 0.3064232425927144, -0.13681886309661315, -0.13886778148778145, -0.17759431462503938, -0.13677756105303282, -0.18008601153318687, -0.1518338751053954, -0.1573497762289755, -0.12318621726878275, -0.10733217852146057, -0.18413845980583265, -0.19536453508862162, 0.3064175318106124, -0.18040367047917172, 0.3065480233931722, -0.14569979331390034, 0.5158959648293252, -0.17822100279925526, -0.18037200959927777, -0.1902838417381713, -0.1231985434790323, -0.17850877859663924, -0.1454186748175724, -0.15991498786365949, -0.15136906975154388, -0.16164176856075926, -0.17993527991270167, -0.10321283362959034, -0.17975788481110594, -0.17807834530863748, -0.1106592382358774, -0.0336184075029879, -0.16349024064955325, 0.34247093176279375, -0.1965894961309467, -0.1800762734408679, -0.1798404268120256, -0.19698328755491187, -0.1975595712014788, 0.30681168324548813, -0.16876682123127487, 3.2227008199178826, -0.06892428773864147, -0.18845342943875418, -0.13659586742203914, -0.10618540407908687, 1.5640025445018073, -0.18017398112635352, -0.1796269225961799, -0.1793284629098982, -0.1793154132448838, 0.30699475652872976, 0.08865373156814155, -0.15202771850252472, -0.18324018857020652, -0.12304485363225601, -0.19357617226868984, -0.17850699041107665, -0.19311312091891752, -0.18308596623712386, -0.15571932628584229, -0.18318592268272116, -0.1490079633539974, 1.1424725649768688, 0.3064003913794973, -0.08079365293008071, -0.19285659223981408, -0.16721335113922856, -0.09672376057480311, 1.0669490761919649, -0.19753361523070687, -0.18323770544610066, -0.17628953956189292, -0.1794264273495961, -0.19745915766417677, -0.1365752891063352, -0.22347483349784755, 8.025181103866622, -0.11351337272207783, 0.31026662006992867, 0.012256186462759772, -0.1930796993778537, -0.16332273477158935, -0.2862947502949287, -0.17999911853634612, 0.12648217505383344, -0.191612378680249, -0.10887467413481249, 0.31430428592590515, -0.18023563348725724, -0.14630075018682417, -0.12203781367177449, -0.14962278835427914, -0.19663020808025466, 0.3065825945682834, -0.16170093529727037, -0.14554538485595392, -0.1725352635357629, -0.1519180437918833, 0.3105005726418264, 0.6084143913280071, 2.110989963616053, -0.13285044499889187, 0.320159913135474, -0.18862345246639195, -0.22897522966087755, -0.19751581100865975, -0.18026018724580425, -0.16709909827566236, -0.15897290983727705, -0.2534798961638052, 3.1258311965843446, -0.09649897723320369, -0.19748724943333135, -0.188052614961094, -0.018004685992988826, -0.15131724697523116, -0.13659590493176965, 0.38616331447534485, -0.17266111931842676, -0.17305195624368783, -0.2521807522345966, -0.17915486981863255, -0.12110966891921822, -0.12287799542081386, -0.18968843180765982, -0.13587344709326793, -0.11629161856114768, -0.1347438537206322, 0.5138805895336358, -0.10854447603012252, -0.12364376835549827, -0.1638458253713822, -0.1363864967438577, 0.5339756591967952, -0.21505799721222205, -0.1803367819215797, -0.1782968679979705, 0.2184883630921638, -0.15949046481667978, -0.1804228987876832, -0.15738287255803868, 0.32811471785738056, -0.12316568770527508], \"y\": [-1.268501070897203, -1.949418464322502, -1.2414199017703638, -2.1510177839463673, -1.9494982752258574, -1.7942698823279302, -1.7345079352926145, -1.2414206855217014, -0.8028004242415347, -1.2414346802998781, -1.731382794021755, -1.391973013815252, -1.2684916494040468, -1.2414556615044863, -1.2414509523966306, -0.379704256466212, -1.1132583790019412, -1.2414190219153127, -1.2414200395615762, -1.2414180774427073, -0.8028023779621507, -0.3571798691987086, -1.7307523449753297, -1.2683803810441823, -1.241128406942971, -1.2414139474926624, -1.2414351661688672, -1.241418889423019, -1.2414189155077202, -1.594796134509735, -1.2415785864276905, -1.241413240820512, -1.241424807198178, -1.2366235980474494, -1.2684996637790713, -1.2414516925326566, -1.241414260340901, -1.2414150565788453, -1.2414145089249053, -2.1260656066402155, -1.2414163566897995, -1.2462433277584737, -1.2685024907423281, -1.2413982086272002, -1.2414227609968809, -1.2415022628391286, -1.2414237042747167, -1.2685983039560647, -1.2684998737366648, -1.268507075957298, -1.2685311670779749, -1.268500823187127, -0.8027970069029544, -1.2414137346998715, -1.2047625626745182, -1.241465861151648, -1.2685010165923518, -2.2327254222452995, -2.243154102657397, -0.856779654705173, -1.2414258883734317, -1.241889026962024, -1.2414190617859757, -1.2414159681194101, -1.2414099931155138, -1.2414544300818666, -2.1699970876017756, -1.7313209102126081, -1.4775343484866834, -1.24141182835512, -1.2432842701075, -2.000764736045536, -1.2414149859150712, -1.268503502538978, -1.2774861657775758, -0.8027961446163577, -2.1546690973900646, -1.2685153304154588, -0.8027987186170856, -1.2414829581409321, -1.2414793909438564, -1.9494683405158575, -2.2123785394680966, -0.8027967565099963, -1.2684997046607385, -1.2414039083670476, -2.162064865300259, -1.2414168772751064, -1.2673060570478383, -0.8028104053076532, -2.1209715876205193, -1.2414807423333678, -2.184156523271067, -0.35918250445877775, -1.2414199363446436, -0.8028012702360587, -1.2414149860753771, -0.8028067329383097, -0.5348435654707846, -2.2423070852606983, -1.268501853431263, -1.731375393942591, -1.2414414400070988, -1.2685009332682642, -1.2414218331620883, -2.1896120431423305, -1.9494649956846923, -1.7942706697306245, -1.2452484502768104, -0.8026269160401676, -0.8028596315616567, -2.242314443721264, -1.2414156850738582, -2.242312283534713, -2.1546525041528835, -0.8417664067270713, -2.151093091461955, -1.2414149498305755, -0.8031761011579276, -1.7942685193323336, -1.2414097977405447, -2.154649399295486, -2.135332633371697, -1.2429548093951677, -0.5902153994787925, -1.2414199229127438, -1.2688946327585737, -1.241437163860769, -2.1510358864375245, -2.15175481440368, -2.22718088924595, -2.125459351779401, -2.242285616897539, -0.8028211156522945, -1.241414507711653, -1.2414421249684837, -0.8028094803777032, -0.8028037872700289, -2.242321515776708, -2.2223773908858084, -1.2472736649554192, -1.1768812905757935, -0.8031743303111502, -1.2685010404537487, -1.2455316229569873, -1.177779280253525, -1.241418542104211, -1.2414401866044347, -1.2414396992142671, -1.2414392231721991, -2.2423375156065, -1.8001795144459447, -0.8023005561066647, -1.5947659830754348, -1.7942655128903693, -2.121008523372112, -1.2414097325088658, -0.8028568031509383, -1.5947720573812019, -1.9495704876097562, -1.5947671235553658, -1.7313942935794944, -2.2670531749864202, -2.242309543886742, -1.9531553745258625, -0.8029774476389915, -2.1512209635386865, -1.2416114015006319, -1.1883087917023167, -0.8028034254266174, -1.594761992419015, -1.594819884398252, -1.2414198724407164, -0.8028027893094167, -1.268499747661835, -1.11775129912901, -2.61073835957561, -2.1975852815042543, -2.2423787857259128, -1.2408859557222054, -2.120953812340761, -1.2048972064026873, -0.25324069157814577, -1.2414251634933984, -1.242183717110436, -0.8028995590384684, -1.9519047061722825, -2.2426631028587294, -1.2414214411487705, -2.296501268019222, -1.7942606274255908, -2.1897124777746346, -0.8028226007939069, -2.242306732322683, -0.5901998437016507, -2.1546574536484187, -2.075969769228392, -2.1896080284191206, -2.2425418548985343, -2.21550939409802, -2.2960736004335973, -2.113887719101633, -2.2424494939359976, -1.227554302608397, -1.9247039412791371, -0.8028035559566272, -1.241423055286172, -2.1517046419378127, -2.118801394702343, -0.15778992076669454, -2.243486172779721, -1.268389711347112, -0.8028051141008823, -1.2275841306358077, -1.795360169096619, -2.189633887703656, -1.2685010418220757, -2.2446438261788524, -2.0974613719753648, -2.097423699150593, -2.13278769055214, -1.2414463669138243, -1.7943520917704348, -1.7942658520487587, -1.4775706369752957, -1.2685026376274156, -0.25775845603270875, -1.2685290321827913, -1.279853155923996, -1.5946236380065044, -2.1001550124136013, -1.2414599152044352, -1.2685070530258789, -1.2478545103014087, -1.1132560444322377, -1.2414147307713095, -1.2414553684095881, -0.5353621756032423, -1.7313494993369904, -2.0525675729672295, -1.94946508655624, -2.2424194582058132, -1.794269920827426], \"z\": [0.15710539467916695, 0.33657642234559054, -0.014721544180880836, 0.4431847524616578, 0.3365606924801324, 0.34232372509236636, 0.3851390700454008, -0.014693690626471429, 0.045686086582779145, -0.014699107781340233, 0.39039431992709284, -0.039132481681398115, 0.1570325263210757, -0.014759547161472977, -0.014699380913522594, 0.06338962327295454, 0.18434476920639375, -0.014706941531709474, -0.014694294986573521, -0.014692747167002687, 0.045688775444380526, -0.2667224174376793, 0.3835388270599194, 0.1479614250794471, -0.0207695941938708, -0.014699994724446037, -0.014800157277898601, -0.014700106342310906, -0.014691143358089052, 0.3017356823342818, -0.01514846335205448, -0.01472174943540354, -0.014711894666134193, -0.058174345226346305, 0.15710407817985916, -0.01476989888535913, -0.014699271543140727, -0.01469049812023127, -0.014708509540907229, 0.46552856235710727, -0.014693005393874133, -0.016629796671494196, 0.1571067230858451, -0.01485075186741927, -0.014691748812508228, -0.014715946966575074, -0.014703866795734261, 0.15682313923239205, 0.15709307696889982, 0.15710197291931285, 0.1571081543024283, 0.15711409539384813, 0.04569149893353032, -0.014701054774489894, 0.19203318131236835, -0.014756642729624294, 0.15709501233750572, 0.37126194976715515, 0.4561238661600858, 0.015705336058613992, -0.014725034866808314, -0.01496967780532776, -0.0147577956435795, -0.014690195437337208, -0.014763531239958968, -0.015083559719441718, 0.4182786021174176, 0.39119738262511994, 0.2405876583055489, -0.01469438859172866, -0.017245887205034175, 0.3530085598844041, -0.01469024975769921, 0.1571076697224914, -0.020546011772878108, 0.04567648631911541, 0.4299717805000297, 0.1571046333362361, 0.04568406032046355, -0.014716892528402947, -0.014737345905021772, 0.3366158086216446, 0.4970871300733182, 0.04568437697658033, 0.1571041164287352, -0.014790748158111025, 0.44824212156873994, -0.01472437389776266, 0.14668668648519417, 0.04566787410779579, 0.41436267627692286, -0.014700933365191392, 0.3368957465800498, -0.24855397906844548, -0.014693961075719592, 0.0456847256920766, -0.014690248303360536, 0.045689836594685625, 0.14872308430275197, 0.459631897986324, 0.15711097575112, 0.3907317808838366, -0.014751328760930047, 0.15710972642511922, -0.014696491219737599, 0.4611250709910665, 0.3366086760985002, 0.34232446178609427, -0.015408200819997471, 0.045317121679764545, 0.045651940972119644, 0.45963404727340745, -0.014690497399119882, 0.45963030428116747, 0.42998027199711303, 0.039103199297157644, 0.4431755712425895, -0.01469146325985874, 0.0456156988205023, 0.34232417179643304, -0.014737885197575443, 0.4299726318065768, 0.4692047119131819, -0.01497124703533138, 0.03650015728923944, -0.014700654873484287, 0.15640644966804243, -0.014700228007191575, 0.4431564886855255, 0.5375855353325076, 0.5107897191915127, 0.47791941150535366, 0.45875515582641524, 0.04567100701369987, -0.01469872877957942, -0.014696877838039685, 0.045677340277666616, 0.04568970655988734, 0.45962645802705754, 0.5062459124111051, -0.09530472186321243, 0.1758629351468273, 0.045570993958204416, 0.1571053661962797, -0.015358504837125832, -0.0742275304661021, -0.014695265526655843, -0.014702565696142107, -0.014709909387611074, -0.014710354772429242, 0.4596264084741319, 0.33882172294385626, 0.04445215466107101, 0.30184049116227984, 0.34231963704787804, 0.41434286075889587, -0.014737946228314707, 0.04559677608042426, 0.3018384256304125, 0.33659812072412854, 0.3018394918881536, 0.3909819228948472, 0.44619778722426506, 0.4596331220746585, 0.33576786856803637, 0.04562355491058286, 0.4429445898396209, -0.016658619649172313, 0.1545616521082835, 0.0456889805867712, 0.301839340388829, 0.30168730390688236, -0.01471296200998875, 0.04568700789783225, 0.15710451568135606, 0.10361215263640657, 0.37385980821651793, 0.4293014586702724, 0.45955864424939374, -0.019489749434047802, 0.4143159120894375, 0.19172178566944456, 7.063769037523834, -0.014697680168606881, -0.021894605869453434, 0.04557220638827611, 0.3361044256768165, 0.4595388121657492, -0.014692983662009522, 0.40949660160958734, 0.34229397265977485, 0.4610991057121265, 0.045672396511752505, 0.459627951740701, 0.036497334765673475, 0.4299778945193032, 0.4883415460708428, 0.46112600705560475, 0.4595975646213989, 0.48148260472181426, 0.4307317106913612, 0.36645645349326506, 0.45933895972086647, 0.21382019749028208, 0.44057775828582035, 0.04568858613390705, -0.014691949269797997, 0.443074035570055, 0.41155055519821926, 0.07121439488931025, 0.42831148900578603, 0.15610623757923814, 0.045688322010868046, 0.21381455968558863, 0.3400811847108599, 0.4611185606715076, 0.15710536747648624, 0.4583441737705081, 0.4234733922312051, 0.4234725371586926, 0.4648771040977013, -0.014712280701594672, 0.34229655001680076, 0.3423156986332959, 0.24057856174617614, 0.1570883498463014, -0.030500601691008083, 0.1570682746035777, -0.02095738806570538, 0.29999701379063975, 0.4230254494473155, -0.015078427840390375, 0.15710195146468356, -0.030189195263306122, 0.18433354489136836, -0.014692374199803486, -0.01473054870114039, 2.906888561937815, 0.39122292525578944, 0.5224267461764579, 0.3366095005091954, 0.45913857023700294, 0.3423237611124837]}, {\"customdata\": [[\"VeChainThor Authority\"], [\"Proof-of-Authority\"], [\"ECC 256K1\"], [\"Leased POS\"]], \"hovertemplate\": \"<b>%{hovertext}</b><br><br>Class=%{marker.color}<br>PCA 1=%{x}<br>PCA 2=%{y}<br>PCA 3=%{z}<br>Algorithm=%{customdata[0]}<extra></extra>\", \"hovertext\": [\"Vechain\", \"Poa Network\", \"Acute Angle Cloud\", \"Waves\"], \"legendgroup\": \"3\", \"marker\": {\"color\": [3, 3, 3, 3], \"coloraxis\": \"coloraxis\", \"symbol\": \"square\"}, \"mode\": \"markers\", \"name\": \"3\", \"scene\": \"scene\", \"showlegend\": true, \"type\": \"scatter3d\", \"x\": [4.153616916136931, 0.01818564248823273, -0.28930591934803596, -0.6339003592615068], \"y\": [3.7323284319957075, 3.6545332484590065, 3.778912215176499, 3.77360268972602], \"z\": [9.627816321716077, 10.553727495897958, 15.807247515062205, 21.195850515848893]}, {\"customdata\": [[\"TRC10\"]], \"hovertemplate\": \"<b>%{hovertext}</b><br><br>Class=%{marker.color}<br>PCA 1=%{x}<br>PCA 2=%{y}<br>PCA 3=%{z}<br>Algorithm=%{customdata[0]}<extra></extra>\", \"hovertext\": [\"BitTorrent\"], \"legendgroup\": \"2\", \"marker\": {\"color\": [2], \"coloraxis\": \"coloraxis\", \"symbol\": \"x\"}, \"mode\": \"markers\", \"name\": \"2\", \"scene\": \"scene\", \"showlegend\": true, \"type\": \"scatter3d\", \"x\": [34.06121676064401], \"y\": [1.7746500202931856], \"z\": [-1.2974531996924965]}],                        {\"coloraxis\": {\"colorbar\": {\"title\": {\"text\": \"Class\"}}, \"colorscale\": [[0.0, \"#0d0887\"], [0.1111111111111111, \"#46039f\"], [0.2222222222222222, \"#7201a8\"], [0.3333333333333333, \"#9c179e\"], [0.4444444444444444, \"#bd3786\"], [0.5555555555555556, \"#d8576b\"], [0.6666666666666666, \"#ed7953\"], [0.7777777777777778, \"#fb9f3a\"], [0.8888888888888888, \"#fdca26\"], [1.0, \"#f0f921\"]]}, \"legend\": {\"title\": {\"text\": \"Class\"}, \"tracegroupgap\": 0, \"x\": 0, \"y\": 1}, \"margin\": {\"t\": 60}, \"scene\": {\"domain\": {\"x\": [0.0, 1.0], \"y\": [0.0, 1.0]}, \"xaxis\": {\"title\": {\"text\": \"PCA 1\"}}, \"yaxis\": {\"title\": {\"text\": \"PCA 2\"}}, \"zaxis\": {\"title\": {\"text\": \"PCA 3\"}}}, \"template\": {\"data\": {\"bar\": [{\"error_x\": {\"color\": \"#2a3f5f\"}, \"error_y\": {\"color\": \"#2a3f5f\"}, \"marker\": {\"line\": {\"color\": \"#E5ECF6\", \"width\": 0.5}}, \"type\": \"bar\"}], \"barpolar\": [{\"marker\": {\"line\": {\"color\": \"#E5ECF6\", \"width\": 0.5}}, \"type\": \"barpolar\"}], \"carpet\": [{\"aaxis\": {\"endlinecolor\": \"#2a3f5f\", \"gridcolor\": \"white\", \"linecolor\": \"white\", \"minorgridcolor\": \"white\", \"startlinecolor\": \"#2a3f5f\"}, \"baxis\": {\"endlinecolor\": \"#2a3f5f\", \"gridcolor\": \"white\", \"linecolor\": \"white\", \"minorgridcolor\": \"white\", \"startlinecolor\": \"#2a3f5f\"}, \"type\": \"carpet\"}], \"choropleth\": [{\"colorbar\": {\"outlinewidth\": 0, \"ticks\": \"\"}, \"type\": \"choropleth\"}], \"contour\": [{\"colorbar\": {\"outlinewidth\": 0, \"ticks\": \"\"}, \"colorscale\": [[0.0, \"#0d0887\"], [0.1111111111111111, \"#46039f\"], [0.2222222222222222, \"#7201a8\"], [0.3333333333333333, \"#9c179e\"], [0.4444444444444444, \"#bd3786\"], [0.5555555555555556, \"#d8576b\"], [0.6666666666666666, \"#ed7953\"], [0.7777777777777778, \"#fb9f3a\"], [0.8888888888888888, \"#fdca26\"], [1.0, \"#f0f921\"]], \"type\": \"contour\"}], \"contourcarpet\": [{\"colorbar\": {\"outlinewidth\": 0, \"ticks\": \"\"}, \"type\": \"contourcarpet\"}], \"heatmap\": [{\"colorbar\": {\"outlinewidth\": 0, \"ticks\": \"\"}, \"colorscale\": [[0.0, \"#0d0887\"], [0.1111111111111111, \"#46039f\"], [0.2222222222222222, \"#7201a8\"], [0.3333333333333333, \"#9c179e\"], [0.4444444444444444, \"#bd3786\"], [0.5555555555555556, \"#d8576b\"], [0.6666666666666666, \"#ed7953\"], [0.7777777777777778, \"#fb9f3a\"], [0.8888888888888888, \"#fdca26\"], [1.0, \"#f0f921\"]], \"type\": \"heatmap\"}], \"heatmapgl\": [{\"colorbar\": {\"outlinewidth\": 0, \"ticks\": \"\"}, \"colorscale\": [[0.0, \"#0d0887\"], [0.1111111111111111, \"#46039f\"], [0.2222222222222222, \"#7201a8\"], [0.3333333333333333, \"#9c179e\"], [0.4444444444444444, \"#bd3786\"], [0.5555555555555556, \"#d8576b\"], [0.6666666666666666, \"#ed7953\"], [0.7777777777777778, \"#fb9f3a\"], [0.8888888888888888, \"#fdca26\"], [1.0, \"#f0f921\"]], \"type\": \"heatmapgl\"}], \"histogram\": [{\"marker\": {\"colorbar\": {\"outlinewidth\": 0, \"ticks\": \"\"}}, \"type\": \"histogram\"}], \"histogram2d\": [{\"colorbar\": {\"outlinewidth\": 0, \"ticks\": \"\"}, \"colorscale\": [[0.0, \"#0d0887\"], [0.1111111111111111, \"#46039f\"], [0.2222222222222222, \"#7201a8\"], [0.3333333333333333, \"#9c179e\"], [0.4444444444444444, \"#bd3786\"], [0.5555555555555556, \"#d8576b\"], [0.6666666666666666, \"#ed7953\"], [0.7777777777777778, \"#fb9f3a\"], [0.8888888888888888, \"#fdca26\"], [1.0, \"#f0f921\"]], \"type\": \"histogram2d\"}], \"histogram2dcontour\": [{\"colorbar\": {\"outlinewidth\": 0, \"ticks\": \"\"}, \"colorscale\": [[0.0, \"#0d0887\"], [0.1111111111111111, \"#46039f\"], [0.2222222222222222, \"#7201a8\"], [0.3333333333333333, \"#9c179e\"], [0.4444444444444444, \"#bd3786\"], [0.5555555555555556, \"#d8576b\"], [0.6666666666666666, \"#ed7953\"], [0.7777777777777778, \"#fb9f3a\"], [0.8888888888888888, \"#fdca26\"], [1.0, \"#f0f921\"]], \"type\": \"histogram2dcontour\"}], \"mesh3d\": [{\"colorbar\": {\"outlinewidth\": 0, \"ticks\": \"\"}, \"type\": \"mesh3d\"}], \"parcoords\": [{\"line\": {\"colorbar\": {\"outlinewidth\": 0, \"ticks\": \"\"}}, \"type\": \"parcoords\"}], \"pie\": [{\"automargin\": true, \"type\": \"pie\"}], \"scatter\": [{\"marker\": {\"colorbar\": {\"outlinewidth\": 0, \"ticks\": \"\"}}, \"type\": \"scatter\"}], \"scatter3d\": [{\"line\": {\"colorbar\": {\"outlinewidth\": 0, \"ticks\": \"\"}}, \"marker\": {\"colorbar\": {\"outlinewidth\": 0, \"ticks\": \"\"}}, \"type\": \"scatter3d\"}], \"scattercarpet\": [{\"marker\": {\"colorbar\": {\"outlinewidth\": 0, \"ticks\": \"\"}}, \"type\": \"scattercarpet\"}], \"scattergeo\": [{\"marker\": {\"colorbar\": {\"outlinewidth\": 0, \"ticks\": \"\"}}, \"type\": \"scattergeo\"}], \"scattergl\": [{\"marker\": {\"colorbar\": {\"outlinewidth\": 0, \"ticks\": \"\"}}, \"type\": \"scattergl\"}], \"scattermapbox\": [{\"marker\": {\"colorbar\": {\"outlinewidth\": 0, \"ticks\": \"\"}}, \"type\": \"scattermapbox\"}], \"scatterpolar\": [{\"marker\": {\"colorbar\": {\"outlinewidth\": 0, \"ticks\": \"\"}}, \"type\": \"scatterpolar\"}], \"scatterpolargl\": [{\"marker\": {\"colorbar\": {\"outlinewidth\": 0, \"ticks\": \"\"}}, \"type\": \"scatterpolargl\"}], \"scatterternary\": [{\"marker\": {\"colorbar\": {\"outlinewidth\": 0, \"ticks\": \"\"}}, \"type\": \"scatterternary\"}], \"surface\": [{\"colorbar\": {\"outlinewidth\": 0, \"ticks\": \"\"}, \"colorscale\": [[0.0, \"#0d0887\"], [0.1111111111111111, \"#46039f\"], [0.2222222222222222, \"#7201a8\"], [0.3333333333333333, \"#9c179e\"], [0.4444444444444444, \"#bd3786\"], [0.5555555555555556, \"#d8576b\"], [0.6666666666666666, \"#ed7953\"], [0.7777777777777778, \"#fb9f3a\"], [0.8888888888888888, \"#fdca26\"], [1.0, \"#f0f921\"]], \"type\": \"surface\"}], \"table\": [{\"cells\": {\"fill\": {\"color\": \"#EBF0F8\"}, \"line\": {\"color\": \"white\"}}, \"header\": {\"fill\": {\"color\": \"#C8D4E3\"}, \"line\": {\"color\": \"white\"}}, \"type\": \"table\"}]}, \"layout\": {\"annotationdefaults\": {\"arrowcolor\": \"#2a3f5f\", \"arrowhead\": 0, \"arrowwidth\": 1}, \"autotypenumbers\": \"strict\", \"coloraxis\": {\"colorbar\": {\"outlinewidth\": 0, \"ticks\": \"\"}}, \"colorscale\": {\"diverging\": [[0, \"#8e0152\"], [0.1, \"#c51b7d\"], [0.2, \"#de77ae\"], [0.3, \"#f1b6da\"], [0.4, \"#fde0ef\"], [0.5, \"#f7f7f7\"], [0.6, \"#e6f5d0\"], [0.7, \"#b8e186\"], [0.8, \"#7fbc41\"], [0.9, \"#4d9221\"], [1, \"#276419\"]], \"sequential\": [[0.0, \"#0d0887\"], [0.1111111111111111, \"#46039f\"], [0.2222222222222222, \"#7201a8\"], [0.3333333333333333, \"#9c179e\"], [0.4444444444444444, \"#bd3786\"], [0.5555555555555556, \"#d8576b\"], [0.6666666666666666, \"#ed7953\"], [0.7777777777777778, \"#fb9f3a\"], [0.8888888888888888, \"#fdca26\"], [1.0, \"#f0f921\"]], \"sequentialminus\": [[0.0, \"#0d0887\"], [0.1111111111111111, \"#46039f\"], [0.2222222222222222, \"#7201a8\"], [0.3333333333333333, \"#9c179e\"], [0.4444444444444444, \"#bd3786\"], [0.5555555555555556, \"#d8576b\"], [0.6666666666666666, \"#ed7953\"], [0.7777777777777778, \"#fb9f3a\"], [0.8888888888888888, \"#fdca26\"], [1.0, \"#f0f921\"]]}, \"colorway\": [\"#636efa\", \"#EF553B\", \"#00cc96\", \"#ab63fa\", \"#FFA15A\", \"#19d3f3\", \"#FF6692\", \"#B6E880\", \"#FF97FF\", \"#FECB52\"], \"font\": {\"color\": \"#2a3f5f\"}, \"geo\": {\"bgcolor\": \"white\", \"lakecolor\": \"white\", \"landcolor\": \"#E5ECF6\", \"showlakes\": true, \"showland\": true, \"subunitcolor\": \"white\"}, \"hoverlabel\": {\"align\": \"left\"}, \"hovermode\": \"closest\", \"mapbox\": {\"style\": \"light\"}, \"paper_bgcolor\": \"white\", \"plot_bgcolor\": \"#E5ECF6\", \"polar\": {\"angularaxis\": {\"gridcolor\": \"white\", \"linecolor\": \"white\", \"ticks\": \"\"}, \"bgcolor\": \"#E5ECF6\", \"radialaxis\": {\"gridcolor\": \"white\", \"linecolor\": \"white\", \"ticks\": \"\"}}, \"scene\": {\"xaxis\": {\"backgroundcolor\": \"#E5ECF6\", \"gridcolor\": \"white\", \"gridwidth\": 2, \"linecolor\": \"white\", \"showbackground\": true, \"ticks\": \"\", \"zerolinecolor\": \"white\"}, \"yaxis\": {\"backgroundcolor\": \"#E5ECF6\", \"gridcolor\": \"white\", \"gridwidth\": 2, \"linecolor\": \"white\", \"showbackground\": true, \"ticks\": \"\", \"zerolinecolor\": \"white\"}, \"zaxis\": {\"backgroundcolor\": \"#E5ECF6\", \"gridcolor\": \"white\", \"gridwidth\": 2, \"linecolor\": \"white\", \"showbackground\": true, \"ticks\": \"\", \"zerolinecolor\": \"white\"}}, \"shapedefaults\": {\"line\": {\"color\": \"#2a3f5f\"}}, \"ternary\": {\"aaxis\": {\"gridcolor\": \"white\", \"linecolor\": \"white\", \"ticks\": \"\"}, \"baxis\": {\"gridcolor\": \"white\", \"linecolor\": \"white\", \"ticks\": \"\"}, \"bgcolor\": \"#E5ECF6\", \"caxis\": {\"gridcolor\": \"white\", \"linecolor\": \"white\", \"ticks\": \"\"}}, \"title\": {\"x\": 0.05}, \"xaxis\": {\"automargin\": true, \"gridcolor\": \"white\", \"linecolor\": \"white\", \"ticks\": \"\", \"title\": {\"standoff\": 15}, \"zerolinecolor\": \"white\", \"zerolinewidth\": 2}, \"yaxis\": {\"automargin\": true, \"gridcolor\": \"white\", \"linecolor\": \"white\", \"ticks\": \"\", \"title\": {\"standoff\": 15}, \"zerolinecolor\": \"white\", \"zerolinewidth\": 2}}}, \"width\": 800},                        {\"responsive\": true}                    ).then(function(){\n",
       "                            \n",
       "var gd = document.getElementById('07cf21d4-d1d0-4440-801b-9dc8475e6dcb');\n",
       "var x = new MutationObserver(function (mutations, observer) {{\n",
       "        var display = window.getComputedStyle(gd).display;\n",
       "        if (!display || display === 'none') {{\n",
       "            console.log([gd, 'removed!']);\n",
       "            Plotly.purge(gd);\n",
       "            observer.disconnect();\n",
       "        }}\n",
       "}});\n",
       "\n",
       "// Listen for the removal of the full notebook cells\n",
       "var notebookContainer = gd.closest('#notebook-container');\n",
       "if (notebookContainer) {{\n",
       "    x.observe(notebookContainer, {childList: true});\n",
       "}}\n",
       "\n",
       "// Listen for the clearing of the current output cell\n",
       "var outputEl = gd.closest('.output');\n",
       "if (outputEl) {{\n",
       "    x.observe(outputEl, {childList: true});\n",
       "}}\n",
       "\n",
       "                        })                };                });            </script>        </div>"
      ]
     },
     "metadata": {},
     "output_type": "display_data"
    }
   ],
   "source": [
    "# Create a 3D-Scatter with the PCA data and the clusters\n",
    "fig = px.scatter_3d(\n",
    "    crypto_df,\n",
    "    x=\"PCA 3\",\n",
    "    y=\"PCA 2\",\n",
    "    z=\"PCA 1\",\n",
    "    color=\"Class\",\n",
    "    symbol=\"Class\",\n",
    "    hover_name=\"CoinName\",\n",
    "    hover_data=[\"Algorithm\"],\n",
    "    width=800,\n",
    ")\n",
    "fig.update_layout(legend=dict(x=0, y=1))\n",
    "fig.show()\n"
   ]
  },
  {
   "cell_type": "markdown",
   "metadata": {},
   "source": [
    "#### Table of Tradable Cryptocurrencies"
   ]
  },
  {
   "cell_type": "code",
   "execution_count": 101,
   "metadata": {},
   "outputs": [
    {
     "ename": "DataError",
     "evalue": "Supplied data does not contain specified dimensions, the following dimensions were not found: ['class']\n\nPandasInterface expects tabular data, for more information on supported datatypes see http://holoviews.org/user_guide/Tabular_Datasets.html",
     "output_type": "error",
     "traceback": [
      "\u001b[0;31m---------------------------------------------------------------------------\u001b[0m",
      "\u001b[0;31mDataError\u001b[0m                                 Traceback (most recent call last)",
      "\u001b[0;32m<ipython-input-101-4c067b7b6527>\u001b[0m in \u001b[0;36m<module>\u001b[0;34m\u001b[0m\n\u001b[1;32m      1\u001b[0m \u001b[0;31m# Table with tradable cryptos\u001b[0m\u001b[0;34m\u001b[0m\u001b[0;34m\u001b[0m\u001b[0;34m\u001b[0m\u001b[0m\n\u001b[0;32m----> 2\u001b[0;31m \u001b[0mcrypto_df\u001b[0m\u001b[0;34m.\u001b[0m\u001b[0mhvplot\u001b[0m\u001b[0;34m.\u001b[0m\u001b[0mtable\u001b[0m\u001b[0;34m(\u001b[0m\u001b[0mcolumns\u001b[0m\u001b[0;34m=\u001b[0m\u001b[0;34m[\u001b[0m\u001b[0;34m\"CoinName\"\u001b[0m\u001b[0;34m,\u001b[0m \u001b[0;34m\"Algorithm\"\u001b[0m\u001b[0;34m,\u001b[0m \u001b[0;34m\"ProofType\"\u001b[0m\u001b[0;34m,\u001b[0m \u001b[0;34m\"TotalCoinSupply\"\u001b[0m\u001b[0;34m,\u001b[0m \u001b[0;34m\"TotalCoinsMined\"\u001b[0m\u001b[0;34m,\u001b[0m \u001b[0;34m\"class\"\u001b[0m\u001b[0;34m]\u001b[0m\u001b[0;34m,\u001b[0m \u001b[0mwidth\u001b[0m\u001b[0;34m=\u001b[0m\u001b[0;36m400\u001b[0m\u001b[0;34m)\u001b[0m\u001b[0;34m\u001b[0m\u001b[0;34m\u001b[0m\u001b[0m\n\u001b[0m",
      "\u001b[0;32m~/opt/anaconda3/envs/pyvizenv/lib/python3.7/site-packages/hvplot/plotting/core.py\u001b[0m in \u001b[0;36mtable\u001b[0;34m(self, columns, **kwds)\u001b[0m\n\u001b[1;32m    462\u001b[0m             \u001b[0mThe\u001b[0m \u001b[0mHoloViews\u001b[0m \u001b[0mrepresentation\u001b[0m \u001b[0mof\u001b[0m \u001b[0mthe\u001b[0m \u001b[0mplot\u001b[0m\u001b[0;34m.\u001b[0m\u001b[0;34m\u001b[0m\u001b[0;34m\u001b[0m\u001b[0m\n\u001b[1;32m    463\u001b[0m         \"\"\"\n\u001b[0;32m--> 464\u001b[0;31m         \u001b[0;32mreturn\u001b[0m \u001b[0mself\u001b[0m\u001b[0;34m(\u001b[0m\u001b[0mkind\u001b[0m\u001b[0;34m=\u001b[0m\u001b[0;34m'table'\u001b[0m\u001b[0;34m,\u001b[0m \u001b[0;34m**\u001b[0m\u001b[0mdict\u001b[0m\u001b[0;34m(\u001b[0m\u001b[0mkwds\u001b[0m\u001b[0;34m,\u001b[0m \u001b[0mcolumns\u001b[0m\u001b[0;34m=\u001b[0m\u001b[0mcolumns\u001b[0m\u001b[0;34m)\u001b[0m\u001b[0;34m)\u001b[0m\u001b[0;34m\u001b[0m\u001b[0;34m\u001b[0m\u001b[0m\n\u001b[0m\u001b[1;32m    465\u001b[0m \u001b[0;34m\u001b[0m\u001b[0m\n\u001b[1;32m    466\u001b[0m     \u001b[0;32mdef\u001b[0m \u001b[0mdataset\u001b[0m\u001b[0;34m(\u001b[0m\u001b[0mself\u001b[0m\u001b[0;34m,\u001b[0m \u001b[0mcolumns\u001b[0m\u001b[0;34m=\u001b[0m\u001b[0;32mNone\u001b[0m\u001b[0;34m,\u001b[0m \u001b[0;34m**\u001b[0m\u001b[0mkwds\u001b[0m\u001b[0;34m)\u001b[0m\u001b[0;34m:\u001b[0m\u001b[0;34m\u001b[0m\u001b[0;34m\u001b[0m\u001b[0m\n",
      "\u001b[0;32m~/opt/anaconda3/envs/pyvizenv/lib/python3.7/site-packages/hvplot/plotting/core.py\u001b[0m in \u001b[0;36m__call__\u001b[0;34m(self, x, y, kind, **kwds)\u001b[0m\n\u001b[1;32m     77\u001b[0m                 \u001b[0;32mreturn\u001b[0m \u001b[0mpn\u001b[0m\u001b[0;34m.\u001b[0m\u001b[0mpanel\u001b[0m\u001b[0;34m(\u001b[0m\u001b[0mplot\u001b[0m\u001b[0;34m,\u001b[0m \u001b[0;34m**\u001b[0m\u001b[0mpanel_dict\u001b[0m\u001b[0;34m)\u001b[0m\u001b[0;34m\u001b[0m\u001b[0;34m\u001b[0m\u001b[0m\n\u001b[1;32m     78\u001b[0m \u001b[0;34m\u001b[0m\u001b[0m\n\u001b[0;32m---> 79\u001b[0;31m         \u001b[0;32mreturn\u001b[0m \u001b[0mself\u001b[0m\u001b[0;34m.\u001b[0m\u001b[0m_get_converter\u001b[0m\u001b[0;34m(\u001b[0m\u001b[0mx\u001b[0m\u001b[0;34m,\u001b[0m \u001b[0my\u001b[0m\u001b[0;34m,\u001b[0m \u001b[0mkind\u001b[0m\u001b[0;34m,\u001b[0m \u001b[0;34m**\u001b[0m\u001b[0mkwds\u001b[0m\u001b[0;34m)\u001b[0m\u001b[0;34m(\u001b[0m\u001b[0mkind\u001b[0m\u001b[0;34m,\u001b[0m \u001b[0mx\u001b[0m\u001b[0;34m,\u001b[0m \u001b[0my\u001b[0m\u001b[0;34m)\u001b[0m\u001b[0;34m\u001b[0m\u001b[0;34m\u001b[0m\u001b[0m\n\u001b[0m\u001b[1;32m     80\u001b[0m \u001b[0;34m\u001b[0m\u001b[0m\n\u001b[1;32m     81\u001b[0m     \u001b[0;32mdef\u001b[0m \u001b[0m_get_converter\u001b[0m\u001b[0;34m(\u001b[0m\u001b[0mself\u001b[0m\u001b[0;34m,\u001b[0m \u001b[0mx\u001b[0m\u001b[0;34m=\u001b[0m\u001b[0;32mNone\u001b[0m\u001b[0;34m,\u001b[0m \u001b[0my\u001b[0m\u001b[0;34m=\u001b[0m\u001b[0;32mNone\u001b[0m\u001b[0;34m,\u001b[0m \u001b[0mkind\u001b[0m\u001b[0;34m=\u001b[0m\u001b[0;32mNone\u001b[0m\u001b[0;34m,\u001b[0m \u001b[0;34m**\u001b[0m\u001b[0mkwds\u001b[0m\u001b[0;34m)\u001b[0m\u001b[0;34m:\u001b[0m\u001b[0;34m\u001b[0m\u001b[0;34m\u001b[0m\u001b[0m\n",
      "\u001b[0;32m~/opt/anaconda3/envs/pyvizenv/lib/python3.7/site-packages/hvplot/converter.py\u001b[0m in \u001b[0;36m__call__\u001b[0;34m(self, kind, x, y)\u001b[0m\n\u001b[1;32m   1095\u001b[0m                         \u001b[0mdataset\u001b[0m \u001b[0;34m=\u001b[0m \u001b[0mDataset\u001b[0m\u001b[0;34m(\u001b[0m\u001b[0mdata\u001b[0m\u001b[0;34m)\u001b[0m\u001b[0;34m\u001b[0m\u001b[0;34m\u001b[0m\u001b[0m\n\u001b[1;32m   1096\u001b[0m                     \u001b[0mdataset\u001b[0m \u001b[0;34m=\u001b[0m \u001b[0mdataset\u001b[0m\u001b[0;34m.\u001b[0m\u001b[0mredim\u001b[0m\u001b[0;34m(\u001b[0m\u001b[0;34m**\u001b[0m\u001b[0mself\u001b[0m\u001b[0;34m.\u001b[0m\u001b[0m_redim\u001b[0m\u001b[0;34m)\u001b[0m\u001b[0;34m\u001b[0m\u001b[0;34m\u001b[0m\u001b[0m\n\u001b[0;32m-> 1097\u001b[0;31m                 \u001b[0mobj\u001b[0m \u001b[0;34m=\u001b[0m \u001b[0mmethod\u001b[0m\u001b[0;34m(\u001b[0m\u001b[0mx\u001b[0m\u001b[0;34m,\u001b[0m \u001b[0my\u001b[0m\u001b[0;34m)\u001b[0m\u001b[0;34m\u001b[0m\u001b[0;34m\u001b[0m\u001b[0m\n\u001b[0m\u001b[1;32m   1098\u001b[0m                 \u001b[0mobj\u001b[0m\u001b[0;34m.\u001b[0m\u001b[0m_dataset\u001b[0m \u001b[0;34m=\u001b[0m \u001b[0mdataset\u001b[0m\u001b[0;34m\u001b[0m\u001b[0;34m\u001b[0m\u001b[0m\n\u001b[1;32m   1099\u001b[0m \u001b[0;34m\u001b[0m\u001b[0m\n",
      "\u001b[0;32m~/opt/anaconda3/envs/pyvizenv/lib/python3.7/site-packages/hvplot/converter.py\u001b[0m in \u001b[0;36mtable\u001b[0;34m(self, x, y, data)\u001b[0m\n\u001b[1;32m   1680\u001b[0m \u001b[0;34m\u001b[0m\u001b[0m\n\u001b[1;32m   1681\u001b[0m         \u001b[0mopts\u001b[0m \u001b[0;34m=\u001b[0m \u001b[0mfilter_opts\u001b[0m\u001b[0;34m(\u001b[0m\u001b[0;34m'Table'\u001b[0m\u001b[0;34m,\u001b[0m \u001b[0mself\u001b[0m\u001b[0;34m.\u001b[0m\u001b[0m_plot_opts\u001b[0m\u001b[0;34m)\u001b[0m\u001b[0;34m\u001b[0m\u001b[0;34m\u001b[0m\u001b[0m\n\u001b[0;32m-> 1682\u001b[0;31m         \u001b[0;32mreturn\u001b[0m \u001b[0mTable\u001b[0m\u001b[0;34m(\u001b[0m\u001b[0mdata\u001b[0m\u001b[0;34m,\u001b[0m \u001b[0mself\u001b[0m\u001b[0;34m.\u001b[0m\u001b[0mkwds\u001b[0m\u001b[0;34m.\u001b[0m\u001b[0mget\u001b[0m\u001b[0;34m(\u001b[0m\u001b[0;34m'columns'\u001b[0m\u001b[0;34m)\u001b[0m\u001b[0;34m,\u001b[0m \u001b[0;34m[\u001b[0m\u001b[0;34m]\u001b[0m\u001b[0;34m)\u001b[0m\u001b[0;34m.\u001b[0m\u001b[0mredim\u001b[0m\u001b[0;34m(\u001b[0m\u001b[0;34m**\u001b[0m\u001b[0mself\u001b[0m\u001b[0;34m.\u001b[0m\u001b[0m_redim\u001b[0m\u001b[0;34m)\u001b[0m\u001b[0;34m.\u001b[0m\u001b[0mopts\u001b[0m\u001b[0;34m(\u001b[0m\u001b[0;34m**\u001b[0m\u001b[0mopts\u001b[0m\u001b[0;34m)\u001b[0m\u001b[0;34m\u001b[0m\u001b[0;34m\u001b[0m\u001b[0m\n\u001b[0m\u001b[1;32m   1683\u001b[0m \u001b[0;34m\u001b[0m\u001b[0m\n\u001b[1;32m   1684\u001b[0m     \u001b[0;32mdef\u001b[0m \u001b[0mlabels\u001b[0m\u001b[0;34m(\u001b[0m\u001b[0mself\u001b[0m\u001b[0;34m,\u001b[0m \u001b[0mx\u001b[0m\u001b[0;34m=\u001b[0m\u001b[0;32mNone\u001b[0m\u001b[0;34m,\u001b[0m \u001b[0my\u001b[0m\u001b[0;34m=\u001b[0m\u001b[0;32mNone\u001b[0m\u001b[0;34m,\u001b[0m \u001b[0mdata\u001b[0m\u001b[0;34m=\u001b[0m\u001b[0;32mNone\u001b[0m\u001b[0;34m)\u001b[0m\u001b[0;34m:\u001b[0m\u001b[0;34m\u001b[0m\u001b[0;34m\u001b[0m\u001b[0m\n",
      "\u001b[0;32m~/opt/anaconda3/envs/pyvizenv/lib/python3.7/site-packages/holoviews/element/selection.py\u001b[0m in \u001b[0;36m__init__\u001b[0;34m(self, *args, **kwargs)\u001b[0m\n\u001b[1;32m     19\u001b[0m \u001b[0;34m\u001b[0m\u001b[0m\n\u001b[1;32m     20\u001b[0m     \u001b[0;32mdef\u001b[0m \u001b[0m__init__\u001b[0m\u001b[0;34m(\u001b[0m\u001b[0mself\u001b[0m\u001b[0;34m,\u001b[0m \u001b[0;34m*\u001b[0m\u001b[0margs\u001b[0m\u001b[0;34m,\u001b[0m \u001b[0;34m**\u001b[0m\u001b[0mkwargs\u001b[0m\u001b[0;34m)\u001b[0m\u001b[0;34m:\u001b[0m\u001b[0;34m\u001b[0m\u001b[0;34m\u001b[0m\u001b[0m\n\u001b[0;32m---> 21\u001b[0;31m         \u001b[0msuper\u001b[0m\u001b[0;34m(\u001b[0m\u001b[0mSelectionIndexExpr\u001b[0m\u001b[0;34m,\u001b[0m \u001b[0mself\u001b[0m\u001b[0;34m)\u001b[0m\u001b[0;34m.\u001b[0m\u001b[0m__init__\u001b[0m\u001b[0;34m(\u001b[0m\u001b[0;34m*\u001b[0m\u001b[0margs\u001b[0m\u001b[0;34m,\u001b[0m \u001b[0;34m**\u001b[0m\u001b[0mkwargs\u001b[0m\u001b[0;34m)\u001b[0m\u001b[0;34m\u001b[0m\u001b[0;34m\u001b[0m\u001b[0m\n\u001b[0m\u001b[1;32m     22\u001b[0m         \u001b[0mself\u001b[0m\u001b[0;34m.\u001b[0m\u001b[0m_index_skip\u001b[0m \u001b[0;34m=\u001b[0m \u001b[0;32mFalse\u001b[0m\u001b[0;34m\u001b[0m\u001b[0;34m\u001b[0m\u001b[0m\n\u001b[1;32m     23\u001b[0m \u001b[0;34m\u001b[0m\u001b[0m\n",
      "\u001b[0;32m~/opt/anaconda3/envs/pyvizenv/lib/python3.7/site-packages/holoviews/core/data/__init__.py\u001b[0m in \u001b[0;36m__init__\u001b[0;34m(self, data, kdims, vdims, **kwargs)\u001b[0m\n\u001b[1;32m    343\u001b[0m         \u001b[0;34m(\u001b[0m\u001b[0mdata\u001b[0m\u001b[0;34m,\u001b[0m \u001b[0mself\u001b[0m\u001b[0;34m.\u001b[0m\u001b[0minterface\u001b[0m\u001b[0;34m,\u001b[0m \u001b[0mdims\u001b[0m\u001b[0;34m,\u001b[0m \u001b[0mextra_kws\u001b[0m\u001b[0;34m)\u001b[0m \u001b[0;34m=\u001b[0m \u001b[0minitialized\u001b[0m\u001b[0;34m\u001b[0m\u001b[0;34m\u001b[0m\u001b[0m\n\u001b[1;32m    344\u001b[0m         \u001b[0msuper\u001b[0m\u001b[0;34m(\u001b[0m\u001b[0mDataset\u001b[0m\u001b[0;34m,\u001b[0m \u001b[0mself\u001b[0m\u001b[0;34m)\u001b[0m\u001b[0;34m.\u001b[0m\u001b[0m__init__\u001b[0m\u001b[0;34m(\u001b[0m\u001b[0mdata\u001b[0m\u001b[0;34m,\u001b[0m \u001b[0;34m**\u001b[0m\u001b[0mdict\u001b[0m\u001b[0;34m(\u001b[0m\u001b[0mkwargs\u001b[0m\u001b[0;34m,\u001b[0m \u001b[0;34m**\u001b[0m\u001b[0mdict\u001b[0m\u001b[0;34m(\u001b[0m\u001b[0mdims\u001b[0m\u001b[0;34m,\u001b[0m \u001b[0;34m**\u001b[0m\u001b[0mextra_kws\u001b[0m\u001b[0;34m)\u001b[0m\u001b[0;34m)\u001b[0m\u001b[0;34m)\u001b[0m\u001b[0;34m\u001b[0m\u001b[0;34m\u001b[0m\u001b[0m\n\u001b[0;32m--> 345\u001b[0;31m         \u001b[0mself\u001b[0m\u001b[0;34m.\u001b[0m\u001b[0minterface\u001b[0m\u001b[0;34m.\u001b[0m\u001b[0mvalidate\u001b[0m\u001b[0;34m(\u001b[0m\u001b[0mself\u001b[0m\u001b[0;34m,\u001b[0m \u001b[0mvalidate_vdims\u001b[0m\u001b[0;34m)\u001b[0m\u001b[0;34m\u001b[0m\u001b[0;34m\u001b[0m\u001b[0m\n\u001b[0m\u001b[1;32m    346\u001b[0m \u001b[0;34m\u001b[0m\u001b[0m\n\u001b[1;32m    347\u001b[0m         \u001b[0;31m# Handle _pipeline property\u001b[0m\u001b[0;34m\u001b[0m\u001b[0;34m\u001b[0m\u001b[0;34m\u001b[0m\u001b[0m\n",
      "\u001b[0;32m~/opt/anaconda3/envs/pyvizenv/lib/python3.7/site-packages/holoviews/core/data/pandas.py\u001b[0m in \u001b[0;36mvalidate\u001b[0;34m(cls, dataset, vdims)\u001b[0m\n\u001b[1;32m    156\u001b[0m             raise DataError(\"Supplied data does not contain specified \"\n\u001b[1;32m    157\u001b[0m                             \u001b[0;34m\"dimensions, the following dimensions were \"\u001b[0m\u001b[0;34m\u001b[0m\u001b[0;34m\u001b[0m\u001b[0m\n\u001b[0;32m--> 158\u001b[0;31m                             \"not found: %s\" % repr(not_found), cls)\n\u001b[0m\u001b[1;32m    159\u001b[0m \u001b[0;34m\u001b[0m\u001b[0m\n\u001b[1;32m    160\u001b[0m \u001b[0;34m\u001b[0m\u001b[0m\n",
      "\u001b[0;31mDataError\u001b[0m: Supplied data does not contain specified dimensions, the following dimensions were not found: ['class']\n\nPandasInterface expects tabular data, for more information on supported datatypes see http://holoviews.org/user_guide/Tabular_Datasets.html"
     ]
    }
   ],
   "source": [
    "# Table with tradable cryptos\n",
    "crypto_df.hvplot.table(columns=[\"CoinName\", \"Algorithm\", \"ProofType\", \"TotalCoinSupply\", \"TotalCoinsMined\", \"class\"], width=400)"
   ]
  },
  {
   "cell_type": "code",
   "execution_count": 95,
   "metadata": {},
   "outputs": [
    {
     "data": {
      "text/html": [
       "<div>\n",
       "<style scoped>\n",
       "    .dataframe tbody tr th:only-of-type {\n",
       "        vertical-align: middle;\n",
       "    }\n",
       "\n",
       "    .dataframe tbody tr th {\n",
       "        vertical-align: top;\n",
       "    }\n",
       "\n",
       "    .dataframe thead th {\n",
       "        text-align: right;\n",
       "    }\n",
       "</style>\n",
       "<table border=\"1\" class=\"dataframe\">\n",
       "  <thead>\n",
       "    <tr style=\"text-align: right;\">\n",
       "      <th></th>\n",
       "      <th>TotalCoinsMined</th>\n",
       "      <th>PCA 1</th>\n",
       "      <th>PCA 2</th>\n",
       "      <th>PCA 3</th>\n",
       "      <th>Class</th>\n",
       "    </tr>\n",
       "    <tr>\n",
       "      <th>CoinName</th>\n",
       "      <th></th>\n",
       "      <th></th>\n",
       "      <th></th>\n",
       "      <th></th>\n",
       "      <th></th>\n",
       "    </tr>\n",
       "  </thead>\n",
       "  <tbody>\n",
       "    <tr>\n",
       "      <th>ClubCoin</th>\n",
       "      <td>1.036219e+08</td>\n",
       "      <td>-0.321361</td>\n",
       "      <td>0.890983</td>\n",
       "      <td>-0.586316</td>\n",
       "      <td>1</td>\n",
       "    </tr>\n",
       "    <tr>\n",
       "      <th>1717 Masonic Commemorative Token</th>\n",
       "      <td>1.618033e+06</td>\n",
       "      <td>-0.303431</td>\n",
       "      <td>-0.005914</td>\n",
       "      <td>0.087329</td>\n",
       "      <td>1</td>\n",
       "    </tr>\n",
       "    <tr>\n",
       "      <th>1Credit</th>\n",
       "      <td>8.821300e+04</td>\n",
       "      <td>0.470073</td>\n",
       "      <td>-1.277486</td>\n",
       "      <td>-0.020546</td>\n",
       "      <td>0</td>\n",
       "    </tr>\n",
       "    <tr>\n",
       "      <th>404Coin</th>\n",
       "      <td>1.055185e+09</td>\n",
       "      <td>-0.307124</td>\n",
       "      <td>0.891261</td>\n",
       "      <td>-0.586736</td>\n",
       "      <td>1</td>\n",
       "    </tr>\n",
       "    <tr>\n",
       "      <th>42 Coin</th>\n",
       "      <td>4.199995e+01</td>\n",
       "      <td>-0.323757</td>\n",
       "      <td>0.891000</td>\n",
       "      <td>-0.586263</td>\n",
       "      <td>1</td>\n",
       "    </tr>\n",
       "    <tr>\n",
       "      <th>8BIT Coin</th>\n",
       "      <td>1.467841e+06</td>\n",
       "      <td>-0.323739</td>\n",
       "      <td>0.891001</td>\n",
       "      <td>-0.586263</td>\n",
       "      <td>1</td>\n",
       "    </tr>\n",
       "    <tr>\n",
       "      <th>AC3</th>\n",
       "      <td>8.031621e+07</td>\n",
       "      <td>-0.192857</td>\n",
       "      <td>-0.802977</td>\n",
       "      <td>0.045624</td>\n",
       "      <td>0</td>\n",
       "    </tr>\n",
       "    <tr>\n",
       "      <th>ALAX</th>\n",
       "      <td>1.000000e+09</td>\n",
       "      <td>3.832189</td>\n",
       "      <td>1.532042</td>\n",
       "      <td>-0.301649</td>\n",
       "      <td>1</td>\n",
       "    </tr>\n",
       "    <tr>\n",
       "      <th>ARENON</th>\n",
       "      <td>1.926951e+07</td>\n",
       "      <td>-0.342709</td>\n",
       "      <td>1.140741</td>\n",
       "      <td>-0.203611</td>\n",
       "      <td>1</td>\n",
       "    </tr>\n",
       "    <tr>\n",
       "      <th>ARK</th>\n",
       "      <td>1.082021e+08</td>\n",
       "      <td>3.815124</td>\n",
       "      <td>1.531988</td>\n",
       "      <td>-0.301222</td>\n",
       "      <td>1</td>\n",
       "    </tr>\n",
       "    <tr>\n",
       "      <th>Abjcoin</th>\n",
       "      <td>9.880502e+06</td>\n",
       "      <td>-0.323424</td>\n",
       "      <td>0.890993</td>\n",
       "      <td>-0.586269</td>\n",
       "      <td>1</td>\n",
       "    </tr>\n",
       "    <tr>\n",
       "      <th>Absolute Coin</th>\n",
       "      <td>1.333262e+07</td>\n",
       "      <td>-0.321743</td>\n",
       "      <td>0.927648</td>\n",
       "      <td>-0.379522</td>\n",
       "      <td>1</td>\n",
       "    </tr>\n",
       "    <tr>\n",
       "      <th>Actinium</th>\n",
       "      <td>1.363485e+07</td>\n",
       "      <td>-0.151317</td>\n",
       "      <td>-2.189634</td>\n",
       "      <td>0.461119</td>\n",
       "      <td>0</td>\n",
       "    </tr>\n",
       "    <tr>\n",
       "      <th>Acute Angle Cloud</th>\n",
       "      <td>1.000000e+09</td>\n",
       "      <td>-0.289306</td>\n",
       "      <td>3.778912</td>\n",
       "      <td>15.807248</td>\n",
       "      <td>3</td>\n",
       "    </tr>\n",
       "    <tr>\n",
       "      <th>AdCoin</th>\n",
       "      <td>3.264673e+07</td>\n",
       "      <td>-0.179328</td>\n",
       "      <td>-1.241440</td>\n",
       "      <td>-0.014710</td>\n",
       "      <td>0</td>\n",
       "    </tr>\n",
       "    <tr>\n",
       "      <th>Adzcoin</th>\n",
       "      <td>4.511032e+07</td>\n",
       "      <td>-0.196581</td>\n",
       "      <td>-0.802810</td>\n",
       "      <td>0.045668</td>\n",
       "      <td>0</td>\n",
       "    </tr>\n",
       "    <tr>\n",
       "      <th>Aidos Kuneen</th>\n",
       "      <td>2.500000e+07</td>\n",
       "      <td>-0.146301</td>\n",
       "      <td>-2.296501</td>\n",
       "      <td>0.409497</td>\n",
       "      <td>0</td>\n",
       "    </tr>\n",
       "    <tr>\n",
       "      <th>Allsafe</th>\n",
       "      <td>1.051777e+07</td>\n",
       "      <td>-0.396038</td>\n",
       "      <td>1.563828</td>\n",
       "      <td>-0.185784</td>\n",
       "      <td>1</td>\n",
       "    </tr>\n",
       "    <tr>\n",
       "      <th>Alpenschillling</th>\n",
       "      <td>2.734050e+07</td>\n",
       "      <td>-0.149623</td>\n",
       "      <td>-2.189712</td>\n",
       "      <td>0.461099</td>\n",
       "      <td>0</td>\n",
       "    </tr>\n",
       "    <tr>\n",
       "      <th>Anarchists Prime</th>\n",
       "      <td>1.474720e+07</td>\n",
       "      <td>-0.136404</td>\n",
       "      <td>-1.268515</td>\n",
       "      <td>0.157105</td>\n",
       "      <td>0</td>\n",
       "    </tr>\n",
       "    <tr>\n",
       "      <th>AquariusCoin</th>\n",
       "      <td>2.449577e+06</td>\n",
       "      <td>-0.323430</td>\n",
       "      <td>0.890985</td>\n",
       "      <td>-0.586266</td>\n",
       "      <td>1</td>\n",
       "    </tr>\n",
       "    <tr>\n",
       "      <th>ArcticCoin</th>\n",
       "      <td>2.604236e+07</td>\n",
       "      <td>-0.196983</td>\n",
       "      <td>-0.802809</td>\n",
       "      <td>0.045677</td>\n",
       "      <td>0</td>\n",
       "    </tr>\n",
       "    <tr>\n",
       "      <th>Argentum</th>\n",
       "      <td>1.220580e+07</td>\n",
       "      <td>-0.179832</td>\n",
       "      <td>-1.241435</td>\n",
       "      <td>-0.014699</td>\n",
       "      <td>0</td>\n",
       "    </tr>\n",
       "    <tr>\n",
       "      <th>ArgusCoin</th>\n",
       "      <td>1.148324e+06</td>\n",
       "      <td>-0.323540</td>\n",
       "      <td>0.890989</td>\n",
       "      <td>-0.586265</td>\n",
       "      <td>1</td>\n",
       "    </tr>\n",
       "    <tr>\n",
       "      <th>ArtByte</th>\n",
       "      <td>7.925372e+08</td>\n",
       "      <td>-0.163695</td>\n",
       "      <td>-1.241454</td>\n",
       "      <td>-0.015084</td>\n",
       "      <td>0</td>\n",
       "    </tr>\n",
       "    <tr>\n",
       "      <th>ArtexCoin</th>\n",
       "      <td>8.240000e+08</td>\n",
       "      <td>-0.184138</td>\n",
       "      <td>-0.802627</td>\n",
       "      <td>0.045317</td>\n",
       "      <td>0</td>\n",
       "    </tr>\n",
       "    <tr>\n",
       "      <th>Atmos</th>\n",
       "      <td>1.111358e+08</td>\n",
       "      <td>-0.433944</td>\n",
       "      <td>1.616931</td>\n",
       "      <td>-0.060387</td>\n",
       "      <td>1</td>\n",
       "    </tr>\n",
       "    <tr>\n",
       "      <th>AudioCoin</th>\n",
       "      <td>9.807325e+08</td>\n",
       "      <td>-0.237551</td>\n",
       "      <td>0.887320</td>\n",
       "      <td>-0.587339</td>\n",
       "      <td>1</td>\n",
       "    </tr>\n",
       "    <tr>\n",
       "      <th>Aurora Coin</th>\n",
       "      <td>1.813510e+07</td>\n",
       "      <td>-0.323417</td>\n",
       "      <td>0.891002</td>\n",
       "      <td>-0.586271</td>\n",
       "      <td>1</td>\n",
       "    </tr>\n",
       "    <tr>\n",
       "      <th>Award</th>\n",
       "      <td>1.542023e+07</td>\n",
       "      <td>-0.337890</td>\n",
       "      <td>1.329460</td>\n",
       "      <td>-0.525914</td>\n",
       "      <td>1</td>\n",
       "    </tr>\n",
       "    <tr>\n",
       "      <th>...</th>\n",
       "      <td>...</td>\n",
       "      <td>...</td>\n",
       "      <td>...</td>\n",
       "      <td>...</td>\n",
       "      <td>...</td>\n",
       "    </tr>\n",
       "    <tr>\n",
       "      <th>Webchain</th>\n",
       "      <td>1.558020e+07</td>\n",
       "      <td>-0.167099</td>\n",
       "      <td>-2.151705</td>\n",
       "      <td>0.443074</td>\n",
       "      <td>0</td>\n",
       "    </tr>\n",
       "    <tr>\n",
       "      <th>WhiteCoin</th>\n",
       "      <td>2.520056e+08</td>\n",
       "      <td>-0.318561</td>\n",
       "      <td>0.890995</td>\n",
       "      <td>-0.586387</td>\n",
       "      <td>1</td>\n",
       "    </tr>\n",
       "    <tr>\n",
       "      <th>Wild Beast Coin</th>\n",
       "      <td>1.819192e+05</td>\n",
       "      <td>-0.180413</td>\n",
       "      <td>-1.241416</td>\n",
       "      <td>-0.014690</td>\n",
       "      <td>0</td>\n",
       "    </tr>\n",
       "    <tr>\n",
       "      <th>WomenCoin</th>\n",
       "      <td>4.845947e+10</td>\n",
       "      <td>0.444134</td>\n",
       "      <td>0.902762</td>\n",
       "      <td>-0.608029</td>\n",
       "      <td>1</td>\n",
       "    </tr>\n",
       "    <tr>\n",
       "      <th>WorldCoin</th>\n",
       "      <td>1.196069e+08</td>\n",
       "      <td>-0.177098</td>\n",
       "      <td>-1.241466</td>\n",
       "      <td>-0.014757</td>\n",
       "      <td>0</td>\n",
       "    </tr>\n",
       "    <tr>\n",
       "      <th>X11 Coin</th>\n",
       "      <td>6.950831e+06</td>\n",
       "      <td>-0.340924</td>\n",
       "      <td>1.329618</td>\n",
       "      <td>-0.525884</td>\n",
       "      <td>1</td>\n",
       "    </tr>\n",
       "    <tr>\n",
       "      <th>XDNA</th>\n",
       "      <td>4.672514e+06</td>\n",
       "      <td>-0.272292</td>\n",
       "      <td>0.956356</td>\n",
       "      <td>-0.394484</td>\n",
       "      <td>1</td>\n",
       "    </tr>\n",
       "    <tr>\n",
       "      <th>Xchange</th>\n",
       "      <td>9.753754e+06</td>\n",
       "      <td>-0.188053</td>\n",
       "      <td>-1.227584</td>\n",
       "      <td>0.213815</td>\n",
       "      <td>0</td>\n",
       "    </tr>\n",
       "    <tr>\n",
       "      <th>XenixCoin</th>\n",
       "      <td>3.853327e+06</td>\n",
       "      <td>-0.340974</td>\n",
       "      <td>1.329618</td>\n",
       "      <td>-0.525883</td>\n",
       "      <td>1</td>\n",
       "    </tr>\n",
       "    <tr>\n",
       "      <th>XiaoMiCoin</th>\n",
       "      <td>4.043165e+08</td>\n",
       "      <td>-0.315996</td>\n",
       "      <td>0.891023</td>\n",
       "      <td>-0.586457</td>\n",
       "      <td>1</td>\n",
       "    </tr>\n",
       "    <tr>\n",
       "      <th>Xios</th>\n",
       "      <td>2.149688e+06</td>\n",
       "      <td>-0.323582</td>\n",
       "      <td>0.890993</td>\n",
       "      <td>-0.586265</td>\n",
       "      <td>1</td>\n",
       "    </tr>\n",
       "    <tr>\n",
       "      <th>Xt3ch</th>\n",
       "      <td>7.630000e+06</td>\n",
       "      <td>-0.325637</td>\n",
       "      <td>0.702123</td>\n",
       "      <td>-0.263988</td>\n",
       "      <td>1</td>\n",
       "    </tr>\n",
       "    <tr>\n",
       "      <th>YoCoin</th>\n",
       "      <td>6.364626e+05</td>\n",
       "      <td>-0.179236</td>\n",
       "      <td>-1.241481</td>\n",
       "      <td>-0.014701</td>\n",
       "      <td>0</td>\n",
       "    </tr>\n",
       "    <tr>\n",
       "      <th>ZCC Coin</th>\n",
       "      <td>1.479902e+08</td>\n",
       "      <td>-0.314881</td>\n",
       "      <td>0.890674</td>\n",
       "      <td>-0.586388</td>\n",
       "      <td>1</td>\n",
       "    </tr>\n",
       "    <tr>\n",
       "      <th>ZCash</th>\n",
       "      <td>7.383056e+06</td>\n",
       "      <td>-0.123165</td>\n",
       "      <td>-1.794270</td>\n",
       "      <td>0.342324</td>\n",
       "      <td>0</td>\n",
       "    </tr>\n",
       "    <tr>\n",
       "      <th>ZClassic</th>\n",
       "      <td>5.613550e+06</td>\n",
       "      <td>-0.123186</td>\n",
       "      <td>-1.794271</td>\n",
       "      <td>0.342324</td>\n",
       "      <td>0</td>\n",
       "    </tr>\n",
       "    <tr>\n",
       "      <th>ZCoin</th>\n",
       "      <td>7.568281e+06</td>\n",
       "      <td>-0.151834</td>\n",
       "      <td>-2.189612</td>\n",
       "      <td>0.461125</td>\n",
       "      <td>0</td>\n",
       "    </tr>\n",
       "    <tr>\n",
       "      <th>ZEPHYR</th>\n",
       "      <td>2.000000e+09</td>\n",
       "      <td>2.523603</td>\n",
       "      <td>0.691286</td>\n",
       "      <td>-0.206271</td>\n",
       "      <td>1</td>\n",
       "    </tr>\n",
       "    <tr>\n",
       "      <th>ZayedCoin</th>\n",
       "      <td>6.243840e+06</td>\n",
       "      <td>-0.136819</td>\n",
       "      <td>-1.268502</td>\n",
       "      <td>0.157111</td>\n",
       "      <td>0</td>\n",
       "    </tr>\n",
       "    <tr>\n",
       "      <th>Zealium</th>\n",
       "      <td>1.107525e+07</td>\n",
       "      <td>-0.435379</td>\n",
       "      <td>1.616898</td>\n",
       "      <td>-0.060343</td>\n",
       "      <td>1</td>\n",
       "    </tr>\n",
       "    <tr>\n",
       "      <th>ZeitCoin</th>\n",
       "      <td>3.697124e+10</td>\n",
       "      <td>0.824944</td>\n",
       "      <td>0.679773</td>\n",
       "      <td>-0.285675</td>\n",
       "      <td>1</td>\n",
       "    </tr>\n",
       "    <tr>\n",
       "      <th>Zero</th>\n",
       "      <td>6.921654e+06</td>\n",
       "      <td>-0.123199</td>\n",
       "      <td>-1.794269</td>\n",
       "      <td>0.342324</td>\n",
       "      <td>0</td>\n",
       "    </tr>\n",
       "    <tr>\n",
       "      <th>ZetaCoin</th>\n",
       "      <td>1.702044e+08</td>\n",
       "      <td>-0.133687</td>\n",
       "      <td>-1.268492</td>\n",
       "      <td>0.157033</td>\n",
       "      <td>0</td>\n",
       "    </tr>\n",
       "    <tr>\n",
       "      <th>Zilbercoin</th>\n",
       "      <td>2.922614e+06</td>\n",
       "      <td>-0.325617</td>\n",
       "      <td>0.702117</td>\n",
       "      <td>-0.263986</td>\n",
       "      <td>1</td>\n",
       "    </tr>\n",
       "    <tr>\n",
       "      <th>Zoin</th>\n",
       "      <td>1.854576e+07</td>\n",
       "      <td>-0.145419</td>\n",
       "      <td>-2.154649</td>\n",
       "      <td>0.429973</td>\n",
       "      <td>0</td>\n",
       "    </tr>\n",
       "    <tr>\n",
       "      <th>ZoneCoin</th>\n",
       "      <td>2.581970e+06</td>\n",
       "      <td>-0.323577</td>\n",
       "      <td>0.890993</td>\n",
       "      <td>-0.586265</td>\n",
       "      <td>1</td>\n",
       "    </tr>\n",
       "    <tr>\n",
       "      <th>eBoost</th>\n",
       "      <td>9.999000e+07</td>\n",
       "      <td>-0.178507</td>\n",
       "      <td>-1.241410</td>\n",
       "      <td>-0.014738</td>\n",
       "      <td>0</td>\n",
       "    </tr>\n",
       "    <tr>\n",
       "      <th>gCn Coin</th>\n",
       "      <td>1.630551e+11</td>\n",
       "      <td>3.222701</td>\n",
       "      <td>-1.247274</td>\n",
       "      <td>-0.095305</td>\n",
       "      <td>0</td>\n",
       "    </tr>\n",
       "    <tr>\n",
       "      <th>iBankCoin</th>\n",
       "      <td>4.526324e+06</td>\n",
       "      <td>-0.323388</td>\n",
       "      <td>0.890985</td>\n",
       "      <td>-0.586267</td>\n",
       "      <td>1</td>\n",
       "    </tr>\n",
       "    <tr>\n",
       "      <th>iDealCash</th>\n",
       "      <td>1.404158e+09</td>\n",
       "      <td>-0.270412</td>\n",
       "      <td>0.889617</td>\n",
       "      <td>-0.587173</td>\n",
       "      <td>1</td>\n",
       "    </tr>\n",
       "  </tbody>\n",
       "</table>\n",
       "<p>532 rows × 5 columns</p>\n",
       "</div>"
      ],
      "text/plain": [
       "                                  TotalCoinsMined     PCA 1     PCA 2  \\\n",
       "CoinName                                                                \n",
       " ClubCoin                            1.036219e+08 -0.321361  0.890983   \n",
       "1717 Masonic Commemorative Token     1.618033e+06 -0.303431 -0.005914   \n",
       "1Credit                              8.821300e+04  0.470073 -1.277486   \n",
       "404Coin                              1.055185e+09 -0.307124  0.891261   \n",
       "42 Coin                              4.199995e+01 -0.323757  0.891000   \n",
       "8BIT Coin                            1.467841e+06 -0.323739  0.891001   \n",
       "AC3                                  8.031621e+07 -0.192857 -0.802977   \n",
       "ALAX                                 1.000000e+09  3.832189  1.532042   \n",
       "ARENON                               1.926951e+07 -0.342709  1.140741   \n",
       "ARK                                  1.082021e+08  3.815124  1.531988   \n",
       "Abjcoin                              9.880502e+06 -0.323424  0.890993   \n",
       "Absolute Coin                        1.333262e+07 -0.321743  0.927648   \n",
       "Actinium                             1.363485e+07 -0.151317 -2.189634   \n",
       "Acute Angle Cloud                    1.000000e+09 -0.289306  3.778912   \n",
       "AdCoin                               3.264673e+07 -0.179328 -1.241440   \n",
       "Adzcoin                              4.511032e+07 -0.196581 -0.802810   \n",
       "Aidos Kuneen                         2.500000e+07 -0.146301 -2.296501   \n",
       "Allsafe                              1.051777e+07 -0.396038  1.563828   \n",
       "Alpenschillling                      2.734050e+07 -0.149623 -2.189712   \n",
       "Anarchists Prime                     1.474720e+07 -0.136404 -1.268515   \n",
       "AquariusCoin                         2.449577e+06 -0.323430  0.890985   \n",
       "ArcticCoin                           2.604236e+07 -0.196983 -0.802809   \n",
       "Argentum                             1.220580e+07 -0.179832 -1.241435   \n",
       "ArgusCoin                            1.148324e+06 -0.323540  0.890989   \n",
       "ArtByte                              7.925372e+08 -0.163695 -1.241454   \n",
       "ArtexCoin                            8.240000e+08 -0.184138 -0.802627   \n",
       "Atmos                                1.111358e+08 -0.433944  1.616931   \n",
       "AudioCoin                            9.807325e+08 -0.237551  0.887320   \n",
       "Aurora Coin                          1.813510e+07 -0.323417  0.891002   \n",
       "Award                                1.542023e+07 -0.337890  1.329460   \n",
       "...                                           ...       ...       ...   \n",
       "Webchain                             1.558020e+07 -0.167099 -2.151705   \n",
       "WhiteCoin                            2.520056e+08 -0.318561  0.890995   \n",
       "Wild Beast Coin                      1.819192e+05 -0.180413 -1.241416   \n",
       "WomenCoin                            4.845947e+10  0.444134  0.902762   \n",
       "WorldCoin                            1.196069e+08 -0.177098 -1.241466   \n",
       "X11 Coin                             6.950831e+06 -0.340924  1.329618   \n",
       "XDNA                                 4.672514e+06 -0.272292  0.956356   \n",
       "Xchange                              9.753754e+06 -0.188053 -1.227584   \n",
       "XenixCoin                            3.853327e+06 -0.340974  1.329618   \n",
       "XiaoMiCoin                           4.043165e+08 -0.315996  0.891023   \n",
       "Xios                                 2.149688e+06 -0.323582  0.890993   \n",
       "Xt3ch                                7.630000e+06 -0.325637  0.702123   \n",
       "YoCoin                               6.364626e+05 -0.179236 -1.241481   \n",
       "ZCC Coin                             1.479902e+08 -0.314881  0.890674   \n",
       "ZCash                                7.383056e+06 -0.123165 -1.794270   \n",
       "ZClassic                             5.613550e+06 -0.123186 -1.794271   \n",
       "ZCoin                                7.568281e+06 -0.151834 -2.189612   \n",
       "ZEPHYR                               2.000000e+09  2.523603  0.691286   \n",
       "ZayedCoin                            6.243840e+06 -0.136819 -1.268502   \n",
       "Zealium                              1.107525e+07 -0.435379  1.616898   \n",
       "ZeitCoin                             3.697124e+10  0.824944  0.679773   \n",
       "Zero                                 6.921654e+06 -0.123199 -1.794269   \n",
       "ZetaCoin                             1.702044e+08 -0.133687 -1.268492   \n",
       "Zilbercoin                           2.922614e+06 -0.325617  0.702117   \n",
       "Zoin                                 1.854576e+07 -0.145419 -2.154649   \n",
       "ZoneCoin                             2.581970e+06 -0.323577  0.890993   \n",
       "eBoost                               9.999000e+07 -0.178507 -1.241410   \n",
       "gCn Coin                             1.630551e+11  3.222701 -1.247274   \n",
       "iBankCoin                            4.526324e+06 -0.323388  0.890985   \n",
       "iDealCash                            1.404158e+09 -0.270412  0.889617   \n",
       "\n",
       "                                      PCA 3  Class  \n",
       "CoinName                                            \n",
       " ClubCoin                         -0.586316      1  \n",
       "1717 Masonic Commemorative Token   0.087329      1  \n",
       "1Credit                           -0.020546      0  \n",
       "404Coin                           -0.586736      1  \n",
       "42 Coin                           -0.586263      1  \n",
       "8BIT Coin                         -0.586263      1  \n",
       "AC3                                0.045624      0  \n",
       "ALAX                              -0.301649      1  \n",
       "ARENON                            -0.203611      1  \n",
       "ARK                               -0.301222      1  \n",
       "Abjcoin                           -0.586269      1  \n",
       "Absolute Coin                     -0.379522      1  \n",
       "Actinium                           0.461119      0  \n",
       "Acute Angle Cloud                 15.807248      3  \n",
       "AdCoin                            -0.014710      0  \n",
       "Adzcoin                            0.045668      0  \n",
       "Aidos Kuneen                       0.409497      0  \n",
       "Allsafe                           -0.185784      1  \n",
       "Alpenschillling                    0.461099      0  \n",
       "Anarchists Prime                   0.157105      0  \n",
       "AquariusCoin                      -0.586266      1  \n",
       "ArcticCoin                         0.045677      0  \n",
       "Argentum                          -0.014699      0  \n",
       "ArgusCoin                         -0.586265      1  \n",
       "ArtByte                           -0.015084      0  \n",
       "ArtexCoin                          0.045317      0  \n",
       "Atmos                             -0.060387      1  \n",
       "AudioCoin                         -0.587339      1  \n",
       "Aurora Coin                       -0.586271      1  \n",
       "Award                             -0.525914      1  \n",
       "...                                     ...    ...  \n",
       "Webchain                           0.443074      0  \n",
       "WhiteCoin                         -0.586387      1  \n",
       "Wild Beast Coin                   -0.014690      0  \n",
       "WomenCoin                         -0.608029      1  \n",
       "WorldCoin                         -0.014757      0  \n",
       "X11 Coin                          -0.525884      1  \n",
       "XDNA                              -0.394484      1  \n",
       "Xchange                            0.213815      0  \n",
       "XenixCoin                         -0.525883      1  \n",
       "XiaoMiCoin                        -0.586457      1  \n",
       "Xios                              -0.586265      1  \n",
       "Xt3ch                             -0.263988      1  \n",
       "YoCoin                            -0.014701      0  \n",
       "ZCC Coin                          -0.586388      1  \n",
       "ZCash                              0.342324      0  \n",
       "ZClassic                           0.342324      0  \n",
       "ZCoin                              0.461125      0  \n",
       "ZEPHYR                            -0.206271      1  \n",
       "ZayedCoin                          0.157111      0  \n",
       "Zealium                           -0.060343      1  \n",
       "ZeitCoin                          -0.285675      1  \n",
       "Zero                               0.342324      0  \n",
       "ZetaCoin                           0.157033      0  \n",
       "Zilbercoin                        -0.263986      1  \n",
       "Zoin                               0.429973      0  \n",
       "ZoneCoin                          -0.586265      1  \n",
       "eBoost                            -0.014738      0  \n",
       "gCn Coin                          -0.095305      0  \n",
       "iBankCoin                         -0.586267      1  \n",
       "iDealCash                         -0.587173      1  \n",
       "\n",
       "[532 rows x 5 columns]"
      ]
     },
     "execution_count": 95,
     "metadata": {},
     "output_type": "execute_result"
    }
   ],
   "source": [
    "# Print the total number of tradable cryptocurrencies\n",
    "crypto_df.groupby(['CoinName']).sum()"
   ]
  },
  {
   "cell_type": "markdown",
   "metadata": {},
   "source": [
    "### There are 532 tradable cryptocurrencies."
   ]
  },
  {
   "cell_type": "markdown",
   "metadata": {},
   "source": [
    "#### Scatter Plot with Tradable Cryptocurrencies"
   ]
  },
  {
   "cell_type": "code",
   "execution_count": 99,
   "metadata": {},
   "outputs": [
    {
     "data": {
      "text/html": [
       "<div>\n",
       "<style scoped>\n",
       "    .dataframe tbody tr th:only-of-type {\n",
       "        vertical-align: middle;\n",
       "    }\n",
       "\n",
       "    .dataframe tbody tr th {\n",
       "        vertical-align: top;\n",
       "    }\n",
       "\n",
       "    .dataframe thead th {\n",
       "        text-align: right;\n",
       "    }\n",
       "</style>\n",
       "<table border=\"1\" class=\"dataframe\">\n",
       "  <thead>\n",
       "    <tr style=\"text-align: right;\">\n",
       "      <th></th>\n",
       "      <th>TotalCoinsMined</th>\n",
       "      <th>PCA 1</th>\n",
       "      <th>PCA 2</th>\n",
       "      <th>PCA 3</th>\n",
       "      <th>Class</th>\n",
       "    </tr>\n",
       "  </thead>\n",
       "  <tbody>\n",
       "    <tr>\n",
       "      <th>count</th>\n",
       "      <td>5.330000e+02</td>\n",
       "      <td>5.330000e+02</td>\n",
       "      <td>5.330000e+02</td>\n",
       "      <td>5.330000e+02</td>\n",
       "      <td>533.000000</td>\n",
       "    </tr>\n",
       "    <tr>\n",
       "      <th>mean</th>\n",
       "      <td>5.319333e+09</td>\n",
       "      <td>1.053983e-16</td>\n",
       "      <td>-1.176878e-16</td>\n",
       "      <td>7.415373e-17</td>\n",
       "      <td>0.560976</td>\n",
       "    </tr>\n",
       "    <tr>\n",
       "      <th>std</th>\n",
       "      <td>4.560537e+10</td>\n",
       "      <td>1.655597e+00</td>\n",
       "      <td>1.445694e+00</td>\n",
       "      <td>1.418718e+00</td>\n",
       "      <td>0.543707</td>\n",
       "    </tr>\n",
       "    <tr>\n",
       "      <th>min</th>\n",
       "      <td>-5.917978e+09</td>\n",
       "      <td>-8.870085e-01</td>\n",
       "      <td>-2.610738e+00</td>\n",
       "      <td>-1.297453e+00</td>\n",
       "      <td>0.000000</td>\n",
       "    </tr>\n",
       "    <tr>\n",
       "      <th>25%</th>\n",
       "      <td>8.305775e+06</td>\n",
       "      <td>-3.235411e-01</td>\n",
       "      <td>-1.241483e+00</td>\n",
       "      <td>-5.258840e-01</td>\n",
       "      <td>0.000000</td>\n",
       "    </tr>\n",
       "    <tr>\n",
       "      <th>50%</th>\n",
       "      <td>2.448794e+07</td>\n",
       "      <td>-1.974478e-01</td>\n",
       "      <td>6.955192e-01</td>\n",
       "      <td>-6.034301e-02</td>\n",
       "      <td>1.000000</td>\n",
       "    </tr>\n",
       "    <tr>\n",
       "      <th>75%</th>\n",
       "      <td>1.835340e+08</td>\n",
       "      <td>-1.454187e-01</td>\n",
       "      <td>1.329460e+00</td>\n",
       "      <td>1.479614e-01</td>\n",
       "      <td>1.000000</td>\n",
       "    </tr>\n",
       "    <tr>\n",
       "      <th>max</th>\n",
       "      <td>9.899887e+11</td>\n",
       "      <td>3.406122e+01</td>\n",
       "      <td>3.778912e+00</td>\n",
       "      <td>2.119585e+01</td>\n",
       "      <td>3.000000</td>\n",
       "    </tr>\n",
       "  </tbody>\n",
       "</table>\n",
       "</div>"
      ],
      "text/plain": [
       "       TotalCoinsMined         PCA 1         PCA 2         PCA 3       Class\n",
       "count     5.330000e+02  5.330000e+02  5.330000e+02  5.330000e+02  533.000000\n",
       "mean      5.319333e+09  1.053983e-16 -1.176878e-16  7.415373e-17    0.560976\n",
       "std       4.560537e+10  1.655597e+00  1.445694e+00  1.418718e+00    0.543707\n",
       "min      -5.917978e+09 -8.870085e-01 -2.610738e+00 -1.297453e+00    0.000000\n",
       "25%       8.305775e+06 -3.235411e-01 -1.241483e+00 -5.258840e-01    0.000000\n",
       "50%       2.448794e+07 -1.974478e-01  6.955192e-01 -6.034301e-02    1.000000\n",
       "75%       1.835340e+08 -1.454187e-01  1.329460e+00  1.479614e-01    1.000000\n",
       "max       9.899887e+11  3.406122e+01  3.778912e+00  2.119585e+01    3.000000"
      ]
     },
     "execution_count": 99,
     "metadata": {},
     "output_type": "execute_result"
    }
   ],
   "source": [
    "# Scale data to create the scatter plot\n",
    "crypto_df.describe()"
   ]
  },
  {
   "cell_type": "code",
   "execution_count": 100,
   "metadata": {},
   "outputs": [
    {
     "data": {},
     "metadata": {},
     "output_type": "display_data"
    },
    {
     "data": {
      "application/vnd.holoviews_exec.v0+json": "",
      "text/html": [
       "<div id='1307'>\n",
       "\n",
       "\n",
       "\n",
       "\n",
       "\n",
       "  <div class=\"bk-root\" id=\"9eb09b61-418b-4c74-908c-f98a69d429ae\" data-root-id=\"1307\"></div>\n",
       "</div>\n",
       "<script type=\"application/javascript\">(function(root) {\n",
       "  function embed_document(root) {\n",
       "    var docs_json = {\"189a4d4e-def7-45a4-8b29-49fc1281c91b\":{\"roots\":{\"references\":[{\"attributes\":{\"active_drag\":\"auto\",\"active_inspect\":\"auto\",\"active_multi\":null,\"active_scroll\":\"auto\",\"active_tap\":\"auto\",\"tools\":[{\"id\":\"1311\"},{\"id\":\"1328\"},{\"id\":\"1329\"},{\"id\":\"1330\"},{\"id\":\"1331\"},{\"id\":\"1332\"}]},\"id\":\"1334\",\"type\":\"Toolbar\"},{\"attributes\":{},\"id\":\"1328\",\"type\":\"SaveTool\"},{\"attributes\":{\"fill_color\":{\"value\":\"#30a2da\"},\"line_color\":{\"value\":\"#30a2da\"},\"size\":{\"units\":\"screen\",\"value\":5.477225575051661},\"x\":{\"field\":\"TotalCoinsMined\"},\"y\":{\"field\":\"TotalCoinSupply\"}},\"id\":\"1344\",\"type\":\"Scatter\"},{\"attributes\":{},\"id\":\"1317\",\"type\":\"LinearScale\"},{\"attributes\":{},\"id\":\"1329\",\"type\":\"PanTool\"},{\"attributes\":{\"axis\":{\"id\":\"1325\"},\"dimension\":1,\"grid_line_color\":null,\"ticker\":null},\"id\":\"1327\",\"type\":\"Grid\"},{\"attributes\":{\"below\":[{\"id\":\"1321\"}],\"center\":[{\"id\":\"1324\"},{\"id\":\"1327\"}],\"left\":[{\"id\":\"1325\"}],\"margin\":[5,5,5,5],\"min_border_bottom\":10,\"min_border_left\":10,\"min_border_right\":10,\"min_border_top\":10,\"plot_height\":300,\"plot_width\":700,\"renderers\":[{\"id\":\"1347\"}],\"sizing_mode\":\"fixed\",\"title\":{\"id\":\"1313\"},\"toolbar\":{\"id\":\"1334\"},\"x_range\":{\"id\":\"1309\"},\"x_scale\":{\"id\":\"1317\"},\"y_range\":{\"id\":\"1310\"},\"y_scale\":{\"id\":\"1319\"}},\"id\":\"1312\",\"subtype\":\"Figure\",\"type\":\"Plot\"},{\"attributes\":{},\"id\":\"1330\",\"type\":\"WheelZoomTool\"},{\"attributes\":{\"overlay\":{\"id\":\"1333\"}},\"id\":\"1331\",\"type\":\"BoxZoomTool\"},{\"attributes\":{\"margin\":[5,5,5,5],\"name\":\"HSpacer02121\",\"sizing_mode\":\"stretch_width\"},\"id\":\"1369\",\"type\":\"Spacer\"},{\"attributes\":{\"source\":{\"id\":\"1341\"}},\"id\":\"1348\",\"type\":\"CDSView\"},{\"attributes\":{},\"id\":\"1360\",\"type\":\"UnionRenderers\"},{\"attributes\":{},\"id\":\"1349\",\"type\":\"BasicTickFormatter\"},{\"attributes\":{\"axis_label\":\"TotalCoinsMined\",\"bounds\":\"auto\",\"formatter\":{\"id\":\"1349\"},\"major_label_orientation\":\"horizontal\",\"ticker\":{\"id\":\"1322\"}},\"id\":\"1321\",\"type\":\"LinearAxis\"},{\"attributes\":{},\"id\":\"1332\",\"type\":\"ResetTool\"},{\"attributes\":{\"fill_alpha\":{\"value\":0.1},\"fill_color\":{\"value\":\"#30a2da\"},\"line_alpha\":{\"value\":0.1},\"line_color\":{\"value\":\"#30a2da\"},\"size\":{\"units\":\"screen\",\"value\":5.477225575051661},\"x\":{\"field\":\"TotalCoinsMined\"},\"y\":{\"field\":\"TotalCoinSupply\"}},\"id\":\"1345\",\"type\":\"Scatter\"},{\"attributes\":{},\"id\":\"1351\",\"type\":\"CategoricalTickFormatter\"},{\"attributes\":{},\"id\":\"1342\",\"type\":\"Selection\"},{\"attributes\":{},\"id\":\"1319\",\"type\":\"CategoricalScale\"},{\"attributes\":{\"factors\":[\"42\",\"532000000\",\"314159265359\",\"21000000\",\"0\",\"84000000\",\"22000000\",\"210000000\",\"3600570502\",\"21000000000\",\"12500000\",\"350000000\",\"20000000\",\"64000000\",\"16768584\",\"2000000000\",\"384000000000\",\"169795588\",\"250000000\",\"100000000\",\"247000000\",\"48166000\",\"500000\",\"21000000 \",\"1000000\",\"13140000\",\"18000000\",\"40000000000\",\"4380000\",\"16555000000\",\"13500000000\",\"299792458\",\"32000000\",\"11235813\",\"336000000\",\"1420609614\",\"70000000\",\"72245700\",\"120000000\",\"90600000000\",\"265420800\",\"1350000\",\"42000000\",\"200000000\",\"10000000\",\"2419200000\",\"16180000\",\"15000000000\",\"337000000\",\"3770000\",\"420000000\",\"98000000\",\"51200000\",\"1000\",\"888000000\",\"47011968\",\"2300000000\",\"80000000\",\"250000\",\"1600000000\",\"23000000\",\"5500000\",\"45000000\",\"1000000000\",\"184467440735\",\"10000000000\",\"2158812800\",\"500000000\",\"105120000\",\"68000000\",\"1680000000\",\"166386000\",\"12000000\",\"2628000\",\"160000000\",\"3371337\",\"1840000000\",\"619478\",\"92000000000\",\"78000000\",\"33000000\",\"65789100\",\"53760000\",\"5060000\",\"210240000\",\"16906397\",\"50000000\",\"26298000\",\"16000000\",\"81962100\",\"26550000000\",\"10500000\",\"21626280000 \",\"221052632\",\"30000000\",\"168351300\",\"24000000\",\"384000000\",\" 99000000000\",\"40000000\",\"2147483647\",\"25000000\",\"75000000\",\"222725000\",\"525000000\",\"90000000\",\"139000000\",\"616448\",\"33500000\",\"44333333\",\"657000000\",\"9736000\",\"3000000\",\"1200000000\",\"10638298\",\"3100000000\",\"20000000000\",\"74000000\",\"1500000000\",\"21400000\",\"39999898\",\"2500124\",\"301000000\",\"7506000000\",\"26205539\",\"125000000\",\"850000000\",\"3853326.77707314\",\"38540000 \",\"228000000\",\"60000000\",\"76500000\",\"28000000\",\"650659833\",\"5000000\",\"144000000\",\"32514916898\",\"13000000\",\"3315789\",\"15000000\",\"78835200\",\"2714286\",\"9999999\",\"9354000\",\"100000000000\",\"21933333\",\"185000000\",\"55000000\",\"110000000\",\"3360000\",\"14524851.4827\",\"17000000\",\"100000000 \",\"34426423\",\"2232901\",\"36900000\",\"4000000000\",\"110290030\",\"48252000\",\"400000000\",\"21212121\",\"28600000\",\"75000000000\",\"35520400\",\"2500000000\",\"105000000\",\"90000000000\",\"200084200\",\"72000000\",\"50000000000\",\"340282367\",\"19276800\",\" 75000000\",\"18900000\",\"54000000\",\"18898187.6216583\",\"200000000000\",\"5000000000\",\"137500000\",\"1100000000\",\"9507271\",\"17405891.19707116\",\"86712634466\",\"10500000000\",\"61599965\",\"4200000\",\"88888888\",\"91388946\",\"45000000000\",\"27000000\",\"1800000000\",\"15733333\",\"25000000000\",\"156306732.71\",\"14788275.991\",\"9000000000\",\"280000000\",\"31800000\",\"30000000000\",\"660000000\",\"85000000000\",\"27716121\",\"550000000\",\"999481516\",\"150000000\",\"4999999999\",\" 90000000000\",\"19800000\",\"900000000\",\"4000000\",\"20166000\",\"1618033\",\"1000000000000\",\"16600000\",\"232000000\",\"800000000\",\"5200000000\",\"840000000\",\"18406979840\",\"19340594\",\"252460800\",\"124000000\",\"6500000000\",\"300000000\",\"88000000\",\"18400000\",\"5121951220\",\"26280000\",\"26000000\",\"600000518\",\"184000000000\",\"10200000000\",\"44000000\",\"168000000\",\"650000000 \",\"100262205\",\"18081806 \",\"22075700\",\"82546564\",\"5151000\",\"16880000000\",\"52500000\",\"22105263\",\"1750000000\",\"88188888\",\"184470000000\",\"260000000\",\"2100000000\",\"366000000\",\"18000000000\",\"7600000000\",\"70000000000\",\"8080000000\",\"105120001.44\",\"25228800\",\"262800000\",\"19035999\",\"30886000\",\"13370000\",\"74800000000\",\"19700000\",\"2100000\",\"35000000000\",\"98100000000\",\"7000000000\",\"54256119\",\"190000000\",\"208000000\",\"9000000\",\"182000000\",\"16504333\",\"159918400\",\"10008835635\",\"60168145\",\"2800000\",\"120000\",\"24487944\",\"8634140\",\"990000000000\",\"1400222610\"],\"tags\":[[[\"TotalCoinSupply\",\"TotalCoinSupply\",null]]]},\"id\":\"1310\",\"type\":\"FactorRange\"},{\"attributes\":{\"margin\":[5,5,5,5],\"name\":\"HSpacer02120\",\"sizing_mode\":\"stretch_width\"},\"id\":\"1308\",\"type\":\"Spacer\"},{\"attributes\":{\"end\":1032670428767.6898,\"reset_end\":1032670428767.6898,\"reset_start\":-48599692876.008446,\"start\":-48599692876.008446,\"tags\":[[[\"TotalCoinsMined\",\"TotalCoinsMined\",null]]]},\"id\":\"1309\",\"type\":\"Range1d\"},{\"attributes\":{\"text\":\"\",\"text_color\":{\"value\":\"black\"},\"text_font_size\":{\"value\":\"12pt\"}},\"id\":\"1313\",\"type\":\"Title\"},{\"attributes\":{\"callback\":null,\"renderers\":[{\"id\":\"1347\"}],\"tags\":[\"hv_created\"],\"tooltips\":[[\"TotalCoinsMined\",\"@{TotalCoinsMined}\"],[\"TotalCoinSupply\",\"@{TotalCoinSupply}\"],[\"CoinName\",\"@{CoinName}\"]]},\"id\":\"1311\",\"type\":\"HoverTool\"},{\"attributes\":{},\"id\":\"1322\",\"type\":\"BasicTicker\"},{\"attributes\":{\"axis\":{\"id\":\"1321\"},\"grid_line_color\":null,\"ticker\":null},\"id\":\"1324\",\"type\":\"Grid\"},{\"attributes\":{\"children\":[{\"id\":\"1308\"},{\"id\":\"1312\"},{\"id\":\"1369\"}],\"margin\":[0,0,0,0],\"name\":\"Row02116\",\"tags\":[\"embedded\"]},\"id\":\"1307\",\"type\":\"Row\"},{\"attributes\":{\"data\":{\"CoinName\":[\"42 Coin\",\"404Coin\",\"EliteCoin\",\"Bitcoin\",\"Ethereum\",\"Litecoin\",\"Dash\",\"Monero\",\"Ethereum Classic\",\"ZCash\",\"Bitshares\",\"DigiByte\",\"BitcoinDark\",\"PayCoin\",\"ProsperCoin\",\"KoboCoin\",\"Spreadcoin\",\"Argentum\",\"Aurora Coin\",\"BlueCoin\",\"MyriadCoin\",\"MoonCoin\",\"ZetaCoin\",\"SexCoin\",\"Quatloo\",\"EnergyCoin\",\"QuarkCoin\",\"Riecoin\",\"Digitalcoin \",\"BitBar\",\"Catcoin\",\"CryptoBullion\",\"CannaCoin\",\"CryptCoin\",\"CasinoCoin\",\"Diamond\",\"Verge\",\"DevCoin\",\"EarthCoin\",\"E-Gulden\",\"Einsteinium\",\"Emerald\",\"Exclusive Coin\",\"FlutterCoin\",\"Franko\",\"FeatherCoin\",\"GrandCoin\",\"GlobalCoin\",\"GoldCoin\",\"HoboNickels\",\"HyperStake\",\"Infinite Coin\",\"IOCoin\",\"IXcoin\",\"KrugerCoin\",\"LuckyCoin\",\"Litebar \",\"MaxCoin\",\"MegaCoin\",\"MediterraneanCoin\",\"MintCoin\",\"MinCoin\",\"MazaCoin\",\"Nautilus Coin\",\"NavCoin\",\"NobleCoin\",\"Namecoin\",\"NyanCoin\",\"OpalCoin\",\"Orbitcoin\",\"PotCoin\",\"PhoenixCoin\",\"Reddcoin\",\"RonPaulCoin\",\"StableCoin\",\"SmartCoin\",\"SuperCoin\",\"SyncCoin\",\"SysCoin\",\"TeslaCoin\",\"TigerCoin\",\"TittieCoin\",\"TorCoin\",\"TerraCoin\",\"UnbreakableCoin\",\"Unobtanium\",\"UroCoin\",\"UnitaryStatus Dollar\",\"UltraCoin\",\"ViaCoin\",\"VeriCoin\",\"Vertcoin\",\"WorldCoin\",\"X11 Coin\",\"Crypti\",\"JouleCoin\",\"StealthCoin\",\"ZCC Coin\",\"ByteCoin\",\"DigitalNote \",\"BurstCoin\",\"StorjCoin\",\"MonaCoin\",\"Neutron\",\"FairCoin\",\"Gulden\",\"RubyCoin\",\"PesetaCoin\",\"Kore\",\"Wild Beast Coin\",\"Dnotes\",\"Flo\",\"8BIT Coin\",\"Sativa Coin\",\"ArtByte\",\"Folding Coin\",\"Ucoin\",\"Unitus\",\"CypherPunkCoin\",\"OmniCron\",\"Vtorrent\",\"GreenCoin\",\"Cryptonite\",\"MasterCoin\",\"SoonCoin\",\"1Credit\",\"IslaCoin\",\"Nexus\",\"MarsCoin \",\"Crypto\",\"Anarchists Prime\",\"Droidz\",\"BowsCoin\",\"Squall Coin\",\"Song Coin\",\"BitZeny\",\"Diggits\",\"Expanse\",\"Paycon\",\"Siacoin\",\"Emercoin\",\"EverGreenCoin\",\"MindCoin\",\"I0coin\",\"Decred\",\"Revolution VR\",\"HOdlcoin\",\"EDRCoin\",\"Hitcoin\",\"Gamecredits\",\"DubaiCoin\",\"CarpeDiemCoin\",\"PWR Coin\",\"BillaryCoin\",\"GPU Coin\",\"Adzcoin\",\"SoilCoin\",\"YoCoin\",\"SibCoin\",\"EuropeCoin\",\"ZeitCoin\",\"SwingCoin\",\"SafeExchangeCoin\",\"Nebuchadnezzar\",\"Francs\",\"BolivarCoin\",\"Ratecoin\",\"Revenu\",\"Clockcoin\",\"VIP Tokens\",\"BitSend\",\"Omni\",\"Let it Ride\",\"PutinCoin\",\"iBankCoin\",\"Frankywillcoin\",\"MudraCoin\",\"PizzaCoin\",\"Lutetium Coin\",\"Komodo\",\"GoldBlocks\",\"CarterCoin\",\"Karbo\",\"BitTokens\",\"ZayedCoin\",\"MustangCoin\",\"ZoneCoin\",\"Circuits of Value\",\"RootCoin\",\"DopeCoin\",\"BitCurrency\",\"DollarCoin\",\"Swiscoin\",\"Shilling\",\"BuzzCoin\",\"Opair\",\"PesoBit\",\"Halloween Coin\",\"ZCoin\",\"CoffeeCoin\",\"RoyalCoin\",\"GanjaCoin V2\",\"TeamUP\",\"LanaCoin\",\"Elementrem\",\"ZClassic\",\"ARK\",\"InsaneCoin\",\"KiloCoin\",\"ArtexCoin\",\"EmberCoin\",\"XenixCoin\",\"FreeCoin\",\"PLNCoin\",\"AquariusCoin\",\"Kurrent\",\"Creatio\",\"Eternity\",\"Eurocoin\",\"BitcoinFast\",\"Stakenet\",\"BitConnect Coin\",\"MoneyCoin\",\"Enigma\",\"Cannabis Industry Coin\",\"Russiacoin\",\"PandaCoin\",\"GameUnits\",\"GAKHcoin\",\"Allsafe\",\"LiteCreed\",\"OsmiumCoin\",\"Bikercoins\",\"HexxCoin\",\"Klingon Empire Darsek\",\"Internet of People\",\"KushCoin\",\"Printerium\",\"PacCoin\",\"Impeach\",\"Citadel\",\"Zilbercoin\",\"FirstCoin\",\"BeaverCoin\",\"FindCoin\",\"VaultCoin\",\"Zero\",\"OpenChat\",\"Canada eCoin\",\"Zoin\",\"RenosCoin\",\"DubaiCoin\",\"VirtacoinPlus\",\"TajCoin\",\"Impact\",\"EB3coin\",\"Atmos\",\"HappyCoin\",\"Coinonat\",\"MacronCoin\",\"Condensate\",\"Independent Money System\",\"ArgusCoin\",\"LomoCoin\",\"ProCurrency\",\"GoldReserve\",\"BenjiRolls\",\"GrowthCoin\",\"ILCoin\",\"Phreak\",\"Degas Coin\",\"HTML5 Coin\",\"Ultimate Secure Cash\",\"EquiTrader\",\"QTUM\",\"Quantum Resistant Ledger\",\"Espers\",\"Dynamic\",\"Nano\",\"ChanCoin\",\"Dinastycoin\",\"Denarius\",\"DigitalPrice\",\"Virta Unique Coin\",\"Bitcoin Planet\",\"Unify\",\"BritCoin\",\"SocialCoin\",\"ArcticCoin\",\"DAS\",\"Linda\",\"LeviarCoin\",\"DeepOnion\",\"Bitcore\",\"gCn Coin\",\"SmartCash\",\"Signatum\",\"Onix\",\"Cream\",\"Bitcoin Cash\",\"Monoeci\",\"Draftcoin\",\"Vechain\",\"Sojourn Coin\",\"Stakecoin\",\"NewYorkCoin\",\"FrazCoin\",\"Kronecoin\",\"AdCoin\",\"Linx\",\"CoinonatX\",\"Ethereum Dark\",\"Sumokoin\",\"Obsidian\",\"Cardano\",\"Regalcoin\",\"BitcoinZ\",\"TrezarCoin\",\"Elements\",\"TerraNovaCoin\",\"VIVO Coin\",\"Rupee\",\"Bitcoin Gold\",\"WomenCoin\",\"Theresa May Coin\",\"NamoCoin\",\"LUXCoin\",\"Pirl\",\"Xios\",\"Bitcloud 2.0\",\"eBoost\",\"KekCoin\",\"BlackholeCoin\",\"Infinity Economics\",\"Pura\",\"Innova\",\"Ellaism\",\"GoByte\",\"Magnet\",\"Lamden Tau\",\"Electra\",\"Bitcoin Diamond\",\"SHIELD\",\"Cash & Back Coin\",\"UltraNote\",\"BitCoal\",\"DaxxCoin\",\"Bulwark\",\"Kalkulus\",\"AC3\",\"Lethean\",\"GermanCoin\",\"LiteCoin Ultra\",\"PopularCoin\",\"PhantomX\",\"Photon\",\"Sucre\",\"SparksPay\",\"Digiwage\",\"GunCoin\",\"IrishCoin\",\"Trollcoin\",\"Litecoin Plus\",\"Monkey Project\",\"Pioneer Coin\",\"UnitedBitcoin\",\"Interzone\",\"TokenPay\",\"1717 Masonic Commemorative Token\",\"My Big Coin\",\"TurtleCoin\",\"MUNcoin\",\"Unified Society USDEX\",\"Niobio Cash\",\"ShareChain\",\"Travelflex\",\"KREDS\",\"Tokyo Coin\",\"BiblePay\",\"LitecoinCash\",\"BitFlip\",\"LottoCoin\",\"Crypto Improvement Fund\",\"Stipend\",\"Poa Network\",\"Pushi\",\"Ellerium\",\"Velox\",\"Ontology\",\"Callisto Network\",\"BitTube\",\"Poseidon\",\"Aidos Kuneen\",\"Bitspace\",\"Briacoin\",\"Ignition\",\"Bitrolium\",\"MedicCoin\",\"Alpenschillling\",\"Bitcoin Green\",\"Deviant Coin\",\"Abjcoin\",\"Semux\",\"FuturoCoin\",\"Carebit\",\"Zealium\",\"Monero Classic\",\"Proton\",\"iDealCash\",\"Jumpcoin\",\"Infinex\",\"Bitcoin Incognito\",\"KEYCO\",\"HollyWoodCoin\",\"GINcoin\",\"PlatinCoin\",\"Loki\",\"Newton Coin\",\"Swisscoin\",\"Xt3ch\",\"MassGrid\",\"TheVig\",\"PluraCoin\",\"EmaratCoin\",\"Dekado\",\"Lynx\",\"Poseidon Quark\",\"BitcoinWSpectrum\",\"Muse\",\"Motion\",\"PlusOneCoin\",\"Axe\",\"Trivechain\",\"Dystem\",\"Giant\",\"Peony Coin\",\"Absolute Coin\",\"Vitae\",\"HexCoin\",\"TPCash\",\"Webchain\",\"Ryo\",\"Urals Coin\",\"Qwertycoin\",\"ARENON\",\"EUNO\",\"MMOCoin\",\"Ketan\",\"Project Pai\",\"XDNA\",\"PAXEX\",\"Azart\",\"ThunderStake\",\"Kcash\",\"Xchange\",\"Acute Angle Cloud\",\"CrypticCoin\",\"Bettex coin\",\"Actinium\",\"Bitcoin SV\",\"BitMoney\",\"Junson Ming Chan Coin\",\"FREDEnergy\",\"HerbCoin\",\"Universal Molecule\",\"Lithium\",\"PirateCash\",\"Exosis\",\"Block-Logic\",\"Oduwa\",\"Beam\",\"Galilel\",\"Bithereum\",\"Crypto Sports\",\"Credit\",\"SLICE\",\"Dash Platinum\",\"Nasdacoin\",\"Beetle Coin\",\"Titan Coin\",\"Award\",\"BLAST\",\"Bitcoin Rhodium\",\"GlobalToken\",\"Insane Coin\",\"ALAX\",\"LiteDoge\",\"SolarCoin\",\"TruckCoin\",\"UFO Coin\",\"OrangeCoin\",\"BlakeCoin\",\"BitstarCoin\",\"NeosCoin\",\"HyperCoin\",\"PinkCoin\",\"Crypto Escudo\",\"AudioCoin\",\"IncaKoin\",\"Piggy Coin\",\"Crown Coin\",\"Genstake\",\"SmileyCoin\",\"XiaoMiCoin\",\"Groestlcoin\",\"CapriCoin\",\" ClubCoin\",\"Radium\",\"Bata\",\"Pakcoin\",\"Creditbit \",\"OKCash\",\"Lisk\",\"HiCoin\",\"WhiteCoin\",\"FriendshipCoin\",\"Fiii\",\"JoinCoin\",\"Triangles Coin\",\"Vollar\",\"EOS\",\"Reality Clash\",\"Oxycoin\",\"TigerCash\",\"Waves\",\"Particl\",\"BitTorrent\",\"Nxt\",\"ZEPHYR\",\"Gapcoin\",\"Beldex\",\"Horizen\",\"BitcoinPlus\"],\"TotalCoinSupply\":[\"42\",\"532000000\",\"314159265359\",\"21000000\",\"0\",\"84000000\",\"22000000\",\"0\",\"210000000\",\"21000000\",\"3600570502\",\"21000000000\",\"22000000\",\"12500000\",\"21000000\",\"350000000\",\"20000000\",\"64000000\",\"16768584\",\"0\",\"2000000000\",\"384000000000\",\"169795588\",\"250000000\",\"100000000\",\"0\",\"247000000\",\"84000000\",\"48166000\",\"500000\",\"21000000 \",\"1000000\",\"13140000\",\"18000000\",\"40000000000\",\"4380000\",\"16555000000\",\"21000000000\",\"13500000000\",\"21000000 \",\"299792458\",\"32000000\",\"0\",\"0\",\"11235813\",\"336000000\",\"1420609614\",\"70000000\",\"72245700\",\"120000000\",\"0\",\"90600000000\",\"22000000\",\"21000000\",\"265420800\",\"20000000\",\"1350000\",\"100000000\",\"42000000\",\"200000000\",\"0\",\"10000000\",\"2419200000\",\"16180000\",\"0\",\"15000000000\",\"21000000\",\"337000000\",\"0\",\"3770000\",\"420000000\",\"98000000\",\"0\",\"21000000\",\"250000000\",\"51200000\",\"0\",\"1000\",\"888000000\",\"100000000\",\"47011968\",\"2300000000\",\"10000000\",\"42000000\",\"80000000\",\"250000\",\"0\",\"1600000000\",\"100000000\",\"23000000\",\"0\",\"84000000\",\"265420800\",\"5500000\",\"0\",\"45000000\",\"0\",\"1000000000\",\"184467440735\",\"10000000000\",\"2158812800\",\"500000000\",\"105120000\",\"68000000\",\"0\",\"1680000000\",\"0\",\"166386000\",\"12000000\",\"2628000\",\"500000000\",\"160000000\",\"0\",\"10000000\",\"1000000000\",\"1000000000\",\"20000000\",\"0\",\"0\",\"3371337\",\"20000000\",\"10000000000\",\"1840000000\",\"619478\",\"21000000\",\"92000000000\",\"0\",\"78000000\",\"33000000\",\"65789100\",\"53760000\",\"5060000\",\"21000000\",\"0\",\"210240000\",\"250000000\",\"100000000\",\"16906397\",\"50000000\",\"0\",\"1000000000\",\"26298000\",\"16000000\",\"21000000\",\"21000000\",\"210000000\",\"81962100\",\"22000000\",\"26550000000\",\"84000000\",\"10500000\",\"21626280000 \",\"0\",\"42000000\",\"221052632\",\"84000000\",\"30000000\",\"168351300\",\"24000000\",\"384000000\",\" 99000000000\",\"40000000\",\"2147483647\",\"20000000\",\"20000000\",\"25000000\",\"75000000\",\"222725000\",\"525000000\",\"90000000\",\"139000000\",\"616448\",\"33500000\",\"2000000000\",\"44333333\",\"100000000\",\"200000000\",\"25000000\",\"657000000\",\"200000000\",\"50000000\",\"90000000\",\"10000000\",\"21000000\",\"9736000\",\"3000000\",\"21000000\",\"1200000000\",\"0\",\"200000000\",\"0\",\"10638298\",\"3100000000\",\"30000000\",\"20000000000\",\"74000000\",\"0\",\"1500000000\",\"21400000\",\"39999898\",\"2500124\",\"100000000\",\"301000000\",\"7506000000\",\"26205539\",\"21000000\",\"125000000\",\"30000000\",\"10000000000\",\"500000000\",\"850000000\",\"3853326.77707314\",\"50000000\",\"38540000 \",\"42000000\",\"228000000\",\"20000000\",\"60000000\",\"20000000\",\"33000000\",\"76500000\",\"28000000\",\"650659833\",\"5000000\",\"21000000\",\"144000000\",\"32514916898\",\"13000000\",\"3315789\",\"15000000\",\"78835200\",\"2714286\",\"25000000\",\"9999999\",\"500000000\",\"21000000\",\"9354000\",\"20000000\",\"100000000000\",\"21933333\",\"185000000\",\"55000000\",\"110000000\",\"3360000\",\"14524851.4827\",\"1000000000\",\"17000000\",\"1000000000\",\"100000000 \",\"21000000\",\"34426423\",\"2232901\",\"100000000\",\"36900000\",\"110000000\",\"4000000000\",\"110290030\",\"100000000\",\"48252000\",\"400000000\",\"500000000\",\"21212121\",\"28600000\",\"1000000000\",\"75000000000\",\"40000000\",\"35520400\",\"2000000000\",\"2500000000\",\"30000000\",\"105000000\",\"90000000000\",\"200084200\",\"72000000\",\"100000000\",\"105000000\",\"50000000000\",\"0\",\"340282367\",\"30000000\",\"2000000000\",\"10000000\",\"100000000\",\"120000000\",\"100000000\",\"19276800\",\"30000000\",\" 75000000\",\"60000000\",\"18900000\",\"50000000000\",\"54000000\",\"18898187.6216583\",\"21000000\",\"200000000000\",\"5000000000\",\"137500000\",\"1100000000\",\"100000000\",\"21000000\",\"9507271\",\"17405891.19707116\",\"86712634466\",\"10500000000\",\"61599965\",\"0\",\"20000000\",\"84000000\",\"100000000\",\"100000000\",\"48252000\",\"4200000\",\"88888888\",\"91388946\",\"45000000000\",\"27000000\",\"21000000000\",\"400000000\",\"1800000000\",\"15733333\",\"27000000\",\"24000000\",\"21000000\",\"25000000000\",\"100000000\",\"1200000000\",\"60000000\",\"156306732.71\",\"21000000\",\"200000000\",\"100000000\",\"21000000\",\"14788275.991\",\"9000000000\",\"350000000\",\"45000000\",\"280000000\",\"31800000\",\"144000000\",\"500000000\",\"30000000000\",\"210000000\",\"660000000\",\"210000000\",\"85000000000\",\"12500000\",\"10000000000\",\"27716121\",\"20000000\",\"550000000\",\"999481516\",\"50000000000\",\"150000000\",\"4999999999\",\"50000000\",\" 90000000000\",\"19800000\",\"21000000\",\"120000000\",\"500000000\",\"64000000\",\"900000000\",\"4000000\",\"21000000\",\"23000000\",\"20166000\",\"23000000\",\"25000000\",\"1618033\",\"30000000\",\"1000000000000\",\"16600000\",\"232000000\",\"336000000\",\"10000000000\",\"100000000\",\"1100000000\",\"800000000\",\"5200000000\",\"840000000\",\"40000000\",\"18406979840\",\"500000000\",\"19340594\",\"252460800\",\"25000000\",\"60000000\",\"124000000\",\"1000000000\",\"6500000000\",\"1000000000\",\"21000000\",\"25000000\",\"50000000\",\"3000000\",\"5000000\",\"70000000\",\"500000000\",\"300000000\",\"21000000\",\"88000000\",\"30000000\",\"100000000\",\"100000000\",\"200000000\",\"80000000\",\"18400000\",\"45000000\",\"5121951220\",\"21000000\",\"26280000\",\"21000000\",\"18000000\",\"26000000\",\"10500000\",\"600000518\",\"150000000\",\"184000000000\",\"10200000000\",\"44000000\",\"168000000\",\"100000000\",\"1000000000\",\"84000000\",\"90000000\",\"92000000000\",\"650000000 \",\"100262205\",\"18081806 \",\"22075700\",\"21000000\",\"21000000\",\"82546564\",\"21000000\",\"5151000\",\"16880000000\",\"52500000\",\"100000000\",\"22105263\",\"1000000000\",\"1750000000\",\"88188888\",\"210000000\",\"184470000000\",\"55000000\",\"50000000\",\"260000000\",\"210000000\",\"2100000000\",\"366000000\",\"100000000\",\"25000000\",\"18000000000\",\"1000000000\",\"100000000\",\"1000000000\",\"7600000000\",\"50000000\",\"84000000\",\"21000000\",\"70000000000\",\"0\",\"8080000000\",\"54000000\",\"105120001.44\",\"25228800\",\"105000000\",\"21000000\",\"120000000\",\"21000000\",\"262800000\",\"19035999\",\"30886000\",\"13370000\",\"74800000000\",\"100000000\",\"19700000\",\"84000000\",\"500000000\",\"5000000000\",\"420000000\",\"64000000\",\"2100000\",\"168000000\",\"30000000\",\"1000000000\",\"35000000000\",\"98100000000\",\"0\",\"4000000000\",\"200000000\",\"7000000000\",\"54256119\",\"21000000\",\"0\",\"500000000\",\"1000000000\",\"10500000000\",\"190000000\",\"1000000000\",\"42000000\",\"15000000\",\"50000000000\",\"400000000\",\"105000000\",\"208000000\",\"160000000\",\"9000000\",\"5000000\",\"182000000\",\"16504333\",\"105000000\",\"159918400\",\"10008835635\",\"300000000\",\"60168145\",\"5000000000\",\"2800000\",\"120000\",\"2100000000\",\"0\",\"24487944\",\"0\",\"1000000000\",\"100000000\",\"8634140\",\"990000000000\",\"1000000000\",\"2000000000\",\"250000000\",\"1400222610\",\"21000000\",\"1000000\"],\"TotalCoinsMined\":{\"__ndarray__\":\"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\",\"dtype\":\"float64\",\"order\":\"little\",\"shape\":[533]}},\"selected\":{\"id\":\"1342\"},\"selection_policy\":{\"id\":\"1360\"}},\"id\":\"1341\",\"type\":\"ColumnDataSource\"},{\"attributes\":{},\"id\":\"1326\",\"type\":\"CategoricalTicker\"},{\"attributes\":{\"axis_label\":\"TotalCoinSupply\",\"bounds\":\"auto\",\"formatter\":{\"id\":\"1351\"},\"major_label_orientation\":\"horizontal\",\"ticker\":{\"id\":\"1326\"}},\"id\":\"1325\",\"type\":\"CategoricalAxis\"},{\"attributes\":{\"bottom_units\":\"screen\",\"fill_alpha\":0.5,\"fill_color\":\"lightgrey\",\"left_units\":\"screen\",\"level\":\"overlay\",\"line_alpha\":1.0,\"line_color\":\"black\",\"line_dash\":[4,4],\"line_width\":2,\"right_units\":\"screen\",\"top_units\":\"screen\"},\"id\":\"1333\",\"type\":\"BoxAnnotation\"},{\"attributes\":{\"fill_alpha\":{\"value\":0.2},\"fill_color\":{\"value\":\"#30a2da\"},\"line_alpha\":{\"value\":0.2},\"line_color\":{\"value\":\"#30a2da\"},\"size\":{\"units\":\"screen\",\"value\":5.477225575051661},\"x\":{\"field\":\"TotalCoinsMined\"},\"y\":{\"field\":\"TotalCoinSupply\"}},\"id\":\"1346\",\"type\":\"Scatter\"},{\"attributes\":{\"data_source\":{\"id\":\"1341\"},\"glyph\":{\"id\":\"1344\"},\"hover_glyph\":null,\"muted_glyph\":{\"id\":\"1346\"},\"nonselection_glyph\":{\"id\":\"1345\"},\"selection_glyph\":null,\"view\":{\"id\":\"1348\"}},\"id\":\"1347\",\"type\":\"GlyphRenderer\"}],\"root_ids\":[\"1307\"]},\"title\":\"Bokeh Application\",\"version\":\"2.2.3\"}};\n",
       "    var render_items = [{\"docid\":\"189a4d4e-def7-45a4-8b29-49fc1281c91b\",\"root_ids\":[\"1307\"],\"roots\":{\"1307\":\"9eb09b61-418b-4c74-908c-f98a69d429ae\"}}];\n",
       "    root.Bokeh.embed.embed_items_notebook(docs_json, render_items);\n",
       "  }\n",
       "  if (root.Bokeh !== undefined && root.Bokeh.Panel !== undefined) {\n",
       "    embed_document(root);\n",
       "  } else {\n",
       "    var attempts = 0;\n",
       "    var timer = setInterval(function(root) {\n",
       "      if (root.Bokeh !== undefined && root.Bokeh.Panel !== undefined) {\n",
       "        clearInterval(timer);\n",
       "        embed_document(root);\n",
       "      } else if (document.readyState == \"complete\") {\n",
       "        attempts++;\n",
       "        if (attempts > 100) {\n",
       "          clearInterval(timer);\n",
       "          console.log(\"Bokeh: ERROR: Unable to run BokehJS code because BokehJS library is missing\");\n",
       "        }\n",
       "      }\n",
       "    }, 10, root)\n",
       "  }\n",
       "})(window);</script>"
      ],
      "text/plain": [
       ":Scatter   [TotalCoinsMined]   (TotalCoinSupply,CoinName)"
      ]
     },
     "execution_count": 100,
     "metadata": {
      "application/vnd.holoviews_exec.v0+json": {
       "id": "1307"
      }
     },
     "output_type": "execute_result"
    }
   ],
   "source": [
    "# Plot the scatter with x=\"TotalCoinsMined\" and y=\"TotalCoinSupply\"\n",
    "crypto_df.hvplot.scatter(\n",
    "    x=\"TotalCoinsMined\",\n",
    "   y=\"TotalCoinSupply\",\n",
    "   hover_cols=[\"CoinName\"],\n",
    ")\n"
   ]
  },
  {
   "cell_type": "code",
   "execution_count": null,
   "metadata": {},
   "outputs": [],
   "source": []
  }
 ],
 "metadata": {
  "file_extension": ".py",
  "kernelspec": {
   "display_name": "Python [conda env:pyvizenv]",
   "language": "python",
   "name": "conda-env-pyvizenv-py"
  },
  "language_info": {
   "codemirror_mode": {
    "name": "ipython",
    "version": 3
   },
   "file_extension": ".py",
   "mimetype": "text/x-python",
   "name": "python",
   "nbconvert_exporter": "python",
   "pygments_lexer": "ipython3",
   "version": "3.7.9"
  },
  "mimetype": "text/x-python",
  "name": "python",
  "npconvert_exporter": "python",
  "pygments_lexer": "ipython3",
  "version": 3
 },
 "nbformat": 4,
 "nbformat_minor": 4
}
